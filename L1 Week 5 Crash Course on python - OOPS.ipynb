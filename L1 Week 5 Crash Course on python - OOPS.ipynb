{
 "cells": [
  {
   "cell_type": "markdown",
   "id": "b4193b4e",
   "metadata": {},
   "source": [
    "# OOPS"
   ]
  },
  {
   "cell_type": "markdown",
   "id": "f5f17ca4",
   "metadata": {},
   "source": [
    "## Introduction"
   ]
  },
  {
   "cell_type": "markdown",
   "id": "60ede722",
   "metadata": {},
   "source": [
    "Object-oriented Programming: A way of thinking about and implementing our code <br>\n",
    "* to describe real world objects\n",
    "* a flexible, powerful paradigm where classes represent and define concepts, while obhects are instances of classes.\n",
    "*  apple class have characterstics of apple , buch of instances of class that is obhects of class\n",
    "* almost everything in python is objects including strings, lists, dictionaries, and numbers.\n",
    "* attributes and methods\n",
    "* attributes: characteristics associated to a type\n",
    "* methods: functions asociated with the type\n",
    "* apple: attr - color, flavor, size. Method: cut method, eat method\n",
    "* file: attr: name, date, permissions, etc.  Method: "
   ]
  },
  {
   "cell_type": "markdown",
   "id": "7a69ef0a",
   "metadata": {},
   "source": [
    "### Classes and Objects in Python"
   ]
  },
  {
   "cell_type": "code",
   "execution_count": 1,
   "id": "270d9f9e",
   "metadata": {},
   "outputs": [
    {
     "name": "stdout",
     "output_type": "stream",
     "text": [
      "<class 'int'>\n"
     ]
    }
   ],
   "source": [
    "print(type(0))"
   ]
  },
  {
   "cell_type": "code",
   "execution_count": 2,
   "id": "ed84d1c2",
   "metadata": {},
   "outputs": [
    {
     "name": "stdout",
     "output_type": "stream",
     "text": [
      "<class 'str'>\n"
     ]
    }
   ],
   "source": [
    "print(type(\"\"))"
   ]
  },
  {
   "cell_type": "markdown",
   "id": "8a9c3436",
   "metadata": {},
   "source": [
    "list all the attribute and mehtods of the class:\n",
    "**dir()** function: <br>\n",
    "attr and methods having start and end with __ are special and internal python function or methods <br>\n",
    "**special methods start and end with two underscore characters**"
   ]
  },
  {
   "cell_type": "code",
   "execution_count": null,
   "id": "fe625093",
   "metadata": {},
   "outputs": [],
   "source": [
    "dir(\"\")"
   ]
  },
  {
   "cell_type": "code",
   "execution_count": null,
   "id": "4ce51a1e",
   "metadata": {},
   "outputs": [],
   "source": [
    "dir(3)"
   ]
  },
  {
   "cell_type": "markdown",
   "id": "b1a21160",
   "metadata": {},
   "source": [
    "**help()** function:  <br>\n",
    "to get all documentation of the corresponding class <br>\n",
    "parameters written in square brackets are optional"
   ]
  },
  {
   "cell_type": "code",
   "execution_count": null,
   "id": "3ea120ab",
   "metadata": {},
   "outputs": [],
   "source": [
    "help(\"\")"
   ]
  },
  {
   "cell_type": "markdown",
   "id": "f9178efd",
   "metadata": {},
   "source": [
    "### Defining New Class\n",
    "\n",
    "class is a reserved keyword and class start with Capital first letter. <br>\n",
    " To create a new instance of any class, we call the name of the class as if it were a function.<br>\n",
    " object_name = class_name()"
   ]
  },
  {
   "cell_type": "code",
   "execution_count": 5,
   "id": "f6762060",
   "metadata": {},
   "outputs": [],
   "source": [
    "class Apple:\n",
    "    pass # empty body\n"
   ]
  },
  {
   "cell_type": "code",
   "execution_count": 6,
   "id": "75fb7e20",
   "metadata": {},
   "outputs": [
    {
     "name": "stdout",
     "output_type": "stream",
     "text": [
      "red\n",
      "sweet\n",
      "RED\n",
      "Yellow\n",
      "Soft\n"
     ]
    }
   ],
   "source": [
    "class Apple: \n",
    "    color = \"\"\n",
    "    flavor = \"\"\n",
    "    \n",
    "jonagold = Apple()\n",
    "jonagold.color = \"red\"\n",
    "jonagold.flavor = \"sweet\"\n",
    "print(jonagold.color)\n",
    "print(jonagold.flavor)\n",
    "print(jonagold.color.upper())\n",
    "\n",
    "\n",
    "golden = Apple()\n",
    "golden.color = \"Yellow\"\n",
    "golden.flavor = \"Soft\"\n",
    "print(golden.color)\n",
    "print(golden.flavor)"
   ]
  },
  {
   "cell_type": "markdown",
   "id": "54c2caaf",
   "metadata": {},
   "source": [
    "Fill in the blanks in the code to make it print a poem.\n",
    "```python:\n",
    "class ___:\n",
    "  color = 'unknown'\n",
    "\n",
    "rose = Flower()\n",
    "rose.color = ___\n",
    "\n",
    "violet = ___\n",
    "___\n",
    "\n",
    "this_pun_is_for_you = ___\n",
    "\n",
    "print(\"Roses are {},\".format(rose.color))\n",
    "print(\"violets are {},\".format(violet.color))\n",
    "print(this_pun_is_for_you) \n",
    "```"
   ]
  },
  {
   "cell_type": "code",
   "execution_count": 4,
   "id": "5588cd09",
   "metadata": {},
   "outputs": [
    {
     "name": "stdout",
     "output_type": "stream",
     "text": [
      "Roses are red,\n",
      "violets are Blue,\n",
      "i was here where were you\n"
     ]
    }
   ],
   "source": [
    "class Flower:\n",
    "  color = 'unknown'\n",
    "\n",
    "rose = Flower()\n",
    "rose.color = \"red\"\n",
    "\n",
    "violet = Flower()\n",
    "violet.color = \"Blue\"\n",
    "\n",
    "this_pun_is_for_you = \"i was here where were you\"\n",
    "\n",
    "print(\"Roses are {},\".format(rose.color))\n",
    "print(\"violets are {},\".format(violet.color))\n",
    "print(this_pun_is_for_you) "
   ]
  },
  {
   "cell_type": "code",
   "execution_count": 16,
   "id": "ca7bf1fb",
   "metadata": {},
   "outputs": [
    {
     "name": "stdout",
     "output_type": "stream",
     "text": [
      "False\n",
      "33.333333333333336\n",
      "33\n",
      "1\n"
     ]
    }
   ],
   "source": [
    "a = 100\n",
    "b = 3\n",
    "print(a/b == (a//b) + (a % b))\n",
    "print(a/b)\n",
    "print(a//b)\n",
    "print(a%b)"
   ]
  },
  {
   "cell_type": "markdown",
   "id": "cf6fda96",
   "metadata": {},
   "source": [
    "## practice Quiz"
   ]
  },
  {
   "cell_type": "markdown",
   "id": "879991ce",
   "metadata": {},
   "source": [
    "Question 1\n",
    "Let’s test your knowledge of using dot notation to access methods and attributes in an object. Let’s say we have a class called Birds. Birds has two attributes: color and number. Birds also has a method called count() that counts the number of birds (adds a value to number). Which of the following lines of code will correctly print the number of birds? Keep in mind, the number of birds is 0 until they are counted!\n",
    "\n",
    "1 point\n",
    "\n",
    "bluejay.number = 0\n",
    "\n",
    "print(bluejay.number)\n",
    "\n",
    "\n",
    "print(bluejay.number.count())\n",
    "\n",
    "\n",
    "bluejay.count()\n",
    "\n",
    "print(bluejay.number)\n",
    "\n",
    "\n",
    "print(bluejay.number)"
   ]
  },
  {
   "cell_type": "code",
   "execution_count": 5,
   "id": "10e3cfa8",
   "metadata": {},
   "outputs": [],
   "source": [
    "class Birds:\n",
    "    color = \"\"\n",
    "    number = 0\n",
    "    count()"
   ]
  },
  {
   "cell_type": "markdown",
   "id": "13d1e61f",
   "metadata": {},
   "source": [
    "Question 2\n",
    "Creating new instances of class objects can be a great way to keep track of values using attributes associated with the object. The values of these attributes can be easily changed at the object level.  The following code illustrates a famous quote by George Bernard Shaw, using objects to represent people. Fill in the blanks to make the code satisfy the behavior described in the quote. \n",
    "```python:\n",
    "# “If you have an apple and I have an apple and we exchange these apples then\n",
    "# you and I will still each have one apple. But if you have an idea and I have\n",
    "# an idea and we exchange these ideas, then each of us will have two ideas.”\n",
    "# George Bernard Shaw\n",
    "\n",
    "class Person:\n",
    "    apples = 0\n",
    "    ideas = 0\n",
    "\n",
    "johanna = Person()\n",
    "johanna.apples = 1\n",
    "johanna.ideas = 1\n",
    "\n",
    "martin = Person()\n",
    "martin.apples = 2\n",
    "martin.ideas = 1\n",
    "\n",
    "def exchange_apples(you, me):\n",
    "#Here, despite G.B. Shaw's quote, our characters have started with       #different amounts of apples so we can better observe the results. \n",
    "#We're going to have Martin and Johanna exchange ALL their apples with #one another.\n",
    "#Hint: how would you switch values of variables, \n",
    "#so that \"you\" and \"me\" will exchange ALL their apples with one another?\n",
    "#Do you need a temporary variable to store one of the values?\n",
    "#You may need more than one line of code to do that, which is OK. \n",
    "    \t___\n",
    "    \treturn you.apples, me.apples\n",
    "    \n",
    "def exchange_ideas(you, me):\n",
    "    #\"you\" and \"me\" will share our ideas with one another.\n",
    "    #What operations need to be performed, so that each object receives\n",
    "    #the shared number of ideas?\n",
    "    #Hint: how would you assign the total number of ideas to \n",
    "    #each idea attribute? Do you need a temporary variable to store \n",
    "    #the sum of ideas, or can you find another way? \n",
    "    #Use as many lines of code as you need here.\n",
    "    you.ideas ___\n",
    "    me.ideas ___\n",
    "    return you.ideas, me.ideas\n",
    "\n",
    "exchange_apples(johanna, martin)\n",
    "print(\"Johanna has {} apples and Martin has {} apples\".format(johanna.apples, martin.apples))\n",
    "exchange_ideas(johanna, martin)\n",
    "print(\"Johanna has {} ideas and Martin has {} ideas\".format(johanna.ideas, martin.ideas))\n",
    "\n",
    "\n",
    "\n",
    "\n",
    "```"
   ]
  },
  {
   "cell_type": "code",
   "execution_count": 3,
   "id": "44ef899a",
   "metadata": {},
   "outputs": [
    {
     "name": "stdout",
     "output_type": "stream",
     "text": [
      "Johanna has 2 apples and Martin has 1 apples\n",
      "Johanna has 2 ideas and Martin has 2 ideas\n"
     ]
    }
   ],
   "source": [
    "# “If you have an apple and I have an apple and we exchange these apples then\n",
    "# you and I will still each have one apple. But if you have an idea and I have\n",
    "# an idea and we exchange these ideas, then each of us will have two ideas.”\n",
    "# George Bernard Shaw\n",
    "\n",
    "class Person:\n",
    "    apples = 0\n",
    "    ideas = 0\n",
    "\n",
    "johanna = Person()\n",
    "johanna.apples = 1\n",
    "johanna.ideas = 1\n",
    "\n",
    "martin = Person()\n",
    "martin.apples = 2\n",
    "martin.ideas = 1\n",
    "\n",
    "def exchange_apples(you, me):\n",
    "#Here, despite G.B. Shaw's quote, our characters have started with       #different amounts of apples so we can better observe the results. \n",
    "#We're going to have Martin and Johanna exchange ALL their apples with #one another.\n",
    "#Hint: how would you switch values of variables, \n",
    "#so that \"you\" and \"me\" will exchange ALL their apples with one another?\n",
    "#Do you need a temporary variable to store one of the values?\n",
    "#You may need more than one line of code to do that, which is OK. \n",
    "    temp = you.apples\n",
    "    you.apples = me.apples\n",
    "    me.apples = temp\n",
    "    return you.apples, me.apples\n",
    "\n",
    "def exchange_ideas(you, me):\n",
    "    #\"you\" and \"me\" will share our ideas with one another.\n",
    "    #What operations need to be performed, so that each object receives\n",
    "    #the shared number of ideas?\n",
    "    #Hint: how would you assign the total number of ideas to \n",
    "    #each idea attribute? Do you need a temporary variable to store \n",
    "    #the sum of ideas, or can you find another way? \n",
    "    #Use as many lines of code as you need here.\n",
    "    temp = you.ideas\n",
    "    you.ideas += me.ideas\n",
    "    me.ideas += temp\n",
    "    return you.ideas, me.ideas\n",
    "\n",
    "exchange_apples(johanna, martin)\n",
    "print(\"Johanna has {} apples and Martin has {} apples\".format(johanna.apples, martin.apples))\n",
    "exchange_ideas(johanna, martin)\n",
    "print(\"Johanna has {} ideas and Martin has {} ideas\".format(johanna.ideas, martin.ideas))\n",
    "\n",
    "\n",
    "\n"
   ]
  },
  {
   "cell_type": "markdown",
   "id": "4bb07d9f",
   "metadata": {},
   "source": [
    "Question 3\n",
    "The City class has the following attributes: name, country (where the city is located), elevation (measured in meters), and population (approximate, according to recent statistics). Fill in the blanks of the max_elevation_city function to return the name of the city and its country (separated by a comma), when comparing the 3 defined instances for a specified minimal population. For example, calling the function for a minimum population of 1 million: max_elevation_city(1000000) should return \"Sofia, Bulgaria\". \n",
    "```python:\n",
    "# define a basic city class\n",
    "class City:\n",
    "\tname = \"\"\n",
    "\tcountry = \"\"\n",
    "\televation = 0 \n",
    "\tpopulation = 0\n",
    "\n",
    "# create a new instance of the City class and\n",
    "# define each attribute\n",
    "city1 = City()\n",
    "city1.name = \"Cusco\"\n",
    "city1.country = \"Peru\"\n",
    "city1.elevation = 3399\n",
    "city1.population = 358052\n",
    "\n",
    "# create a new instance of the City class and\n",
    "# define each attribute\n",
    "city2 = City()\n",
    "city2.name = \"Sofia\"\n",
    "city2.country = \"Bulgaria\"\n",
    "city2.elevation = 2290\n",
    "city2.population = 1241675\n",
    "\n",
    "# create a new instance of the City class and\n",
    "# define each attribute\n",
    "city3 = City()\n",
    "city3.name = \"Seoul\"\n",
    "city3.country = \"South Korea\"\n",
    "city3.elevation = 38\n",
    "city3.population = 9733509\n",
    "\n",
    "def max_elevation_city(min_population):\n",
    "\t# Initialize the variable that will hold \n",
    "# the information of the city with \n",
    "# the highest elevation \n",
    "\treturn_city = City()\n",
    "\n",
    "\t# Evaluate the 1st instance to meet the requirements:\n",
    "\t# does city #1 have at least min_population and\n",
    "\t# is its elevation the highest evaluated so far?\n",
    "\tif ___\n",
    "\t\treturn_city = ___\n",
    "\t# Evaluate the 2nd instance to meet the requirements:\n",
    "\t# does city #2 have at least min_population and\n",
    "\t# is its elevation the highest evaluated so far?\n",
    "\tif ___\n",
    "\t\treturn_city = ___\n",
    "\t# Evaluate the 3rd instance to meet the requirements:\n",
    "\t# does city #3 have at least min_population and\n",
    "\t# is its elevation the highest evaluated so far?\n",
    "\tif ___\n",
    "\t\treturn_city = ___\n",
    "\n",
    "\t#Format the return string\n",
    "\tif return_city.name:\n",
    "\t\treturn ___\n",
    "\telse:\n",
    "\t\treturn \"\"\n",
    "\n",
    "print(max_elevation_city(100000)) # Should print \"Cusco, Peru\"\n",
    "print(max_elevation_city(1000000)) # Should print \"Sofia, Bulgaria\"\n",
    "print(max_elevation_city(10000000)) # Should print \"\"\n",
    "```"
   ]
  },
  {
   "cell_type": "markdown",
   "id": "68bd07c5",
   "metadata": {},
   "source": [
    "What makes an object different from a class?\n",
    "\n",
    "1 point\n",
    "\n",
    "An object represents and defines a concept\n",
    "\n",
    "\n",
    "**An object is a specific instance of a class**\n",
    "\n",
    "\n",
    "An object is a template for a class\n",
    "\n",
    "\n",
    "Objects don't have accessible variables"
   ]
  },
  {
   "cell_type": "markdown",
   "id": "1f87df9d",
   "metadata": {},
   "source": [
    "Question 5\n",
    "We have two pieces of furniture: a brown wood table and a red leather couch. Fill in the blanks following the creation of each Furniture class instance, so that the describe_furniture function can format a sentence that describes these pieces as follows: \"This piece of furniture is made of {color} {material}\"\n",
    "```python:\n",
    "class Furniture:\n",
    "\tcolor = \"\"\n",
    "\tmaterial = \"\"\n",
    "\n",
    "table = Furniture()\n",
    "___\n",
    "___\n",
    "\n",
    "couch = Furniture()\n",
    "___\n",
    "___\n",
    "\n",
    "def describe_furniture(piece):\n",
    "\treturn (\"This piece of furniture is made of {} {}\".format(piece.color, piece.material))\n",
    "\n",
    "print(describe_furniture(table)) \n",
    "# Should be \"This piece of furniture is made of brown wood\"\n",
    "print(describe_furniture(couch)) \n",
    "# Should be \"This piece of furniture is made of red leather\"\n",
    "```"
   ]
  },
  {
   "cell_type": "markdown",
   "id": "032d2cfe",
   "metadata": {},
   "source": [
    "## classes and methods:\n",
    "### Instance Methods:"
   ]
  },
  {
   "cell_type": "markdown",
   "id": "10b6dffb",
   "metadata": {},
   "source": [
    "**METHODS: functions that operate on the attirbutes of a specific instance of a class**\n"
   ]
  },
  {
   "cell_type": "code",
   "execution_count": 7,
   "id": "0629e32f",
   "metadata": {},
   "outputs": [],
   "source": [
    "class Piglet:\n",
    "    pass\n",
    "\n",
    "hamlet = Piglet()"
   ]
  },
  {
   "cell_type": "code",
   "execution_count": 9,
   "id": "f0f1700a",
   "metadata": {},
   "outputs": [
    {
     "name": "stdout",
     "output_type": "stream",
     "text": [
      "Oink Oink\n"
     ]
    }
   ],
   "source": [
    "class Piglet:\n",
    "    def speak(self):   # defining function as a method of a class\n",
    "        print(\"Oink Oink\")\n",
    "        \n",
    "hamlet = Piglet()\n",
    "hamlet.speak()"
   ]
  },
  {
   "cell_type": "code",
   "execution_count": 11,
   "id": "37024ad1",
   "metadata": {},
   "outputs": [
    {
     "name": "stdout",
     "output_type": "stream",
     "text": [
      "OInk! I'm Hamlet! OInk! \n"
     ]
    }
   ],
   "source": [
    "class Piglet:\n",
    "    name = \"piglet\"\n",
    "    def speak(self):\n",
    "        print(\"OInk! I'm {}! OInk! \".format(self.name))\n",
    "\n",
    "hamlet = Piglet()\n",
    "hamlet.name = \"Hamlet\"\n",
    "hamlet.speak()"
   ]
  },
  {
   "cell_type": "code",
   "execution_count": 12,
   "id": "7c9b6be7",
   "metadata": {},
   "outputs": [
    {
     "name": "stdout",
     "output_type": "stream",
     "text": [
      "OInk! I'm Petunia! OInk! \n"
     ]
    }
   ],
   "source": [
    "petunia = Piglet()\n",
    "petunia.name = \"Petunia\"\n",
    "petunia.speak()"
   ]
  },
  {
   "cell_type": "markdown",
   "id": "ffbdd870",
   "metadata": {},
   "source": [
    "variables that have different values for different instances of the same class are called **instance variables.**"
   ]
  },
  {
   "cell_type": "code",
   "execution_count": 14,
   "id": "cb5899a9",
   "metadata": {},
   "outputs": [
    {
     "name": "stdout",
     "output_type": "stream",
     "text": [
      "0\n",
      "36\n"
     ]
    }
   ],
   "source": [
    "class Piglet:\n",
    "    years = 0\n",
    "    def pig_years(self):\n",
    "        return self.years* 18\n",
    "piggy = Piglet()\n",
    "print(piggy.pig_years())\n",
    "piggy.years = 2\n",
    "print(piggy.pig_years())\n"
   ]
  },
  {
   "cell_type": "markdown",
   "id": "3f3ddc27",
   "metadata": {},
   "source": [
    "### Constructor:\n",
    "Instead of creating classes with empty or default values, we can set these values when we create the instance.<br>\n",
    "This ensures that we don't miss an important value and avoids a lot of unnecessary lines of code.<br>\n",
    "To do this, we use a special method called a constructor.<br>\n",
    "**special methods start and end with two underscore characters**<br>\n",
    "parameters are  used by the constructor method to set the values for the current instance. So we can now create a new instance of the Apple class and set the color and flavor values all in go:"
   ]
  },
  {
   "cell_type": "code",
   "execution_count": 7,
   "id": "4a16fa76",
   "metadata": {},
   "outputs": [
    {
     "name": "stdout",
     "output_type": "stream",
     "text": [
      "red\n",
      "sweet\n"
     ]
    }
   ],
   "source": [
    "class Apple:\n",
    "    def __init__(self, color, flavor):\n",
    "        self.color = color\n",
    "        self.flavor = flavor\n",
    "\n",
    "jonagold = Apple('red', 'sweet')\n",
    "print(jonagold.color)\n",
    "print(jonagold.flavor)"
   ]
  },
  {
   "cell_type": "markdown",
   "id": "fb1ad7ed",
   "metadata": {},
   "source": [
    " when we don't specify a way to print an object, Python uses the default method that prints the position where the object is stored in the computer's memory."
   ]
  },
  {
   "cell_type": "code",
   "execution_count": 8,
   "id": "b5f95ebf",
   "metadata": {},
   "outputs": [
    {
     "name": "stdout",
     "output_type": "stream",
     "text": [
      "<__main__.Apple object at 0x00000264ABBDD5E0>\n"
     ]
    }
   ],
   "source": [
    "print(jonagold)"
   ]
  },
  {
   "cell_type": "code",
   "execution_count": 9,
   "id": "80764602",
   "metadata": {},
   "outputs": [
    {
     "name": "stdout",
     "output_type": "stream",
     "text": [
      "hi, my name is Koby.\n"
     ]
    }
   ],
   "source": [
    "class Person:\n",
    "    def __init__(self, name):\n",
    "        self.name = name\n",
    "    def greeting(self):\n",
    "        return \"hi, my name is {}.\".format(self.name)\n",
    "\n",
    "Koby = Person(\"Koby\")\n",
    "print(Koby.greeting())"
   ]
  },
  {
   "cell_type": "code",
   "execution_count": 10,
   "id": "9fcfd733",
   "metadata": {},
   "outputs": [
    {
     "name": "stdout",
     "output_type": "stream",
     "text": [
      "This Apple is yellow and its flavor is Sweet ! 🍭\n"
     ]
    }
   ],
   "source": [
    "class Apple:\n",
    "    def __init__(self, color, flavor):\n",
    "        self.color = color\n",
    "        self.flavor = flavor\n",
    "    def __str__(self):\n",
    "        return f'This Apple is {self.color} and its flavor is {self.flavor} ! 🍭'\n",
    "        #return \"This Apple is {} and its flavor is {}\".format(self.color, self.flavor)\n",
    "jonagold = Apple(\"yellow\", \"Sweet\")\n",
    "print(jonagold)"
   ]
  },
  {
   "cell_type": "markdown",
   "id": "31abade8",
   "metadata": {},
   "source": [
    "### Documenting Functions, Classes, and Methods"
   ]
  },
  {
   "cell_type": "markdown",
   "id": "b212089d",
   "metadata": {},
   "source": [
    "#### help(): \n",
    "to find documentation about the function and methods we can also add this to our own class:\n",
    "        "
   ]
  },
  {
   "cell_type": "code",
   "execution_count": 12,
   "id": "029d946f",
   "metadata": {},
   "outputs": [
    {
     "name": "stdout",
     "output_type": "stream",
     "text": [
      "Help on class Apple in module __main__:\n",
      "\n",
      "class Apple(builtins.object)\n",
      " |  Apple(color, flavor)\n",
      " |  \n",
      " |  Methods defined here:\n",
      " |  \n",
      " |  __init__(self, color, flavor)\n",
      " |      Initialize self.  See help(type(self)) for accurate signature.\n",
      " |  \n",
      " |  __str__(self)\n",
      " |      Return str(self).\n",
      " |  \n",
      " |  ----------------------------------------------------------------------\n",
      " |  Data descriptors defined here:\n",
      " |  \n",
      " |  __dict__\n",
      " |      dictionary for instance variables (if defined)\n",
      " |  \n",
      " |  __weakref__\n",
      " |      list of weak references to the object (if defined)\n",
      "\n"
     ]
    }
   ],
   "source": [
    "help(Apple)"
   ]
  },
  {
   "cell_type": "markdown",
   "id": "129164f4",
   "metadata": {},
   "source": [
    "adding this functionality to our own class as we please:\n",
    "using **Docstring** <br>\n",
    "**Docstring**:  A brief text that explain something <br>\n",
    "\"\"\" help we want to provide \"\"\""
   ]
  },
  {
   "cell_type": "code",
   "execution_count": 21,
   "id": "ddbf49fd",
   "metadata": {},
   "outputs": [
    {
     "name": "stdout",
     "output_type": "stream",
     "text": [
      "Help on function to_seconds in module __main__:\n",
      "\n",
      "to_seconds(hours, minutes, seconds)\n",
      "    Returns the amount of minutes in the given hours, minutes and seconds\n",
      "\n"
     ]
    }
   ],
   "source": [
    "def to_seconds(hours, minutes, seconds):\n",
    "    \"\"\"Returns the amount of minutes in the given hours, minutes and seconds\"\"\"\n",
    "    return hours*60**2 + minutes*60 + seconds\n",
    "help(to_seconds)"
   ]
  },
  {
   "cell_type": "code",
   "execution_count": 23,
   "id": "8f5cfe35",
   "metadata": {},
   "outputs": [
    {
     "name": "stdout",
     "output_type": "stream",
     "text": [
      "Help on class Piglet in module __main__:\n",
      "\n",
      "class Piglet(builtins.object)\n",
      " |  Represent a piglet that can say their name.\n",
      " |  \n",
      " |  Methods defined here:\n",
      " |  \n",
      " |  pig_years(self)\n",
      " |      Converts the current age to equivalent pig years.\n",
      " |  \n",
      " |  speak(self)\n",
      " |      Outputs a message including the name of the piglet.\n",
      " |  \n",
      " |  ----------------------------------------------------------------------\n",
      " |  Data descriptors defined here:\n",
      " |  \n",
      " |  __dict__\n",
      " |      dictionary for instance variables (if defined)\n",
      " |  \n",
      " |  __weakref__\n",
      " |      list of weak references to the object (if defined)\n",
      " |  \n",
      " |  ----------------------------------------------------------------------\n",
      " |  Data and other attributes defined here:\n",
      " |  \n",
      " |  chars = 0\n",
      " |  \n",
      " |  name = ''\n",
      "\n"
     ]
    }
   ],
   "source": [
    "class Piglet:\n",
    "    \"\"\"Represent a piglet that can say their name.\"\"\"\n",
    "    chars = 0\n",
    "    name = \"\"\n",
    "    def speak(self):\n",
    "        \"\"\"Outputs a message including the name of the piglet.\"\"\"\n",
    "        print(\"Oink! I'm {}! Oink!\".format(self.name))\n",
    "    def pig_years(self):\n",
    "        \"\"\"Converts the current age to equivalent pig years.\"\"\"\n",
    "        return self.years * 10\n",
    "help(Piglet)"
   ]
  },
  {
   "cell_type": "markdown",
   "id": "91f8aee6",
   "metadata": {},
   "source": [
    "### Practice Notebook: Methods and Classes"
   ]
  },
  {
   "cell_type": "markdown",
   "id": "0955aecf",
   "metadata": {},
   "source": [
    "The code below defines an *Elevator* class. The elevator has a current floor, it also has a top and a bottom floor that are the minimum and maximum floors it can go to. Fill in the blanks to make the elevator go through the floors requested."
   ]
  },
  {
   "cell_type": "code",
   "execution_count": 24,
   "id": "72b39c74",
   "metadata": {},
   "outputs": [],
   "source": [
    "class Elevator:\n",
    "    def __init__(self, bottom, top, current):\n",
    "        \"\"\"Initializes the Elevator instance.\"\"\"\n",
    "        self.bottom = bottom\n",
    "        self.top = top\n",
    "        self.current = current\n",
    "        pass\n",
    "    def up(self):\n",
    "        if self.current < self.top:\n",
    "            self.current += 1\n",
    "        \"\"\"Makes the elevator go up one floor.\"\"\"\n",
    "        pass\n",
    "    def down(self):\n",
    "        if self.current > self.bottom:\n",
    "            self.current -= 1\n",
    "        \"\"\"Makes the elevator go down one floor.\"\"\"\n",
    "        pass\n",
    "    def go_to(self, floor):\n",
    "        \"\"\"Makes the elevator go to the specific floor.\"\"\"\n",
    "        self.current = floor\n",
    "    def __str__(self):\n",
    "        return \"Current Floor: {}\".format(self.current)\n",
    "\n",
    "elevator = Elevator(-1, 10, 0)"
   ]
  },
  {
   "cell_type": "markdown",
   "id": "3e3da4da",
   "metadata": {},
   "source": [
    "This class is pretty empty and doesn't do much.  To test whether your *Elevator* class is working correctly, run the code blocks below."
   ]
  },
  {
   "cell_type": "code",
   "execution_count": 26,
   "id": "fcb33a15",
   "metadata": {},
   "outputs": [
    {
     "data": {
      "text/plain": [
       "1"
      ]
     },
     "execution_count": 26,
     "metadata": {},
     "output_type": "execute_result"
    }
   ],
   "source": [
    "elevator.up() \n",
    "elevator.current #should output 1"
   ]
  },
  {
   "cell_type": "code",
   "execution_count": 27,
   "id": "402d22af",
   "metadata": {},
   "outputs": [
    {
     "data": {
      "text/plain": [
       "0"
      ]
     },
     "execution_count": 27,
     "metadata": {},
     "output_type": "execute_result"
    }
   ],
   "source": [
    "elevator.down() \n",
    "elevator.current #should output 0"
   ]
  },
  {
   "cell_type": "code",
   "execution_count": 28,
   "id": "950666fc",
   "metadata": {},
   "outputs": [
    {
     "data": {
      "text/plain": [
       "10"
      ]
     },
     "execution_count": 28,
     "metadata": {},
     "output_type": "execute_result"
    }
   ],
   "source": [
    "elevator.go_to(10) \n",
    "elevator.current #should output 10"
   ]
  },
  {
   "cell_type": "markdown",
   "id": "a00ff8dd",
   "metadata": {},
   "source": [
    "If you get a **<font color =red>NameError</font>** message, be sure to run the *Elevator* class definition code block first. If you get an **<font color =red>AttributeError</font>** message, be sure to initialize *self.current* in your *Elevator* class."
   ]
  },
  {
   "cell_type": "markdown",
   "id": "c536e58d",
   "metadata": {},
   "source": [
    "Once you've made the above methods output 1, 0 and 10, you've successfully coded the *Elevator* class and its methods. Great work!\n",
    "<br><br>\n",
    "For the up and down methods, did you take into account the top and bottom floors? Keep in mind that the elevator shouldn't go above the top floor or below the bottom floor. To check that out, try the code below and verify if it's working as expected. If it's not, then go back and modify the methods so that this code behaves correctly."
   ]
  },
  {
   "cell_type": "code",
   "execution_count": 29,
   "id": "28a646d8",
   "metadata": {},
   "outputs": [
    {
     "name": "stdout",
     "output_type": "stream",
     "text": [
      "9\n",
      "1\n"
     ]
    }
   ],
   "source": [
    "# Go to the top floor. Try to go up, it should stay. Then go down.\n",
    "elevator.go_to(10)\n",
    "elevator.up()\n",
    "elevator.down()\n",
    "print(elevator.current) # should be 9\n",
    "# Go to the bottom floor. Try to go down, it should stay. Then go up.\n",
    "elevator.go_to(-1)\n",
    "elevator.down()\n",
    "elevator.down()\n",
    "elevator.up()\n",
    "elevator.up()\n",
    "print(elevator.current) # should be 1"
   ]
  },
  {
   "cell_type": "markdown",
   "id": "74aaab4a",
   "metadata": {},
   "source": [
    "Now add the __str__ method to your *Elevator* class definition above so that when printing the elevator using the **print( )** method, we get the current floor together with a message. For example, in the 5th floor it should say \"Current floor: 5\""
   ]
  },
  {
   "cell_type": "code",
   "execution_count": 30,
   "id": "de2b2582",
   "metadata": {},
   "outputs": [
    {
     "name": "stdout",
     "output_type": "stream",
     "text": [
      "Current Floor: 5\n"
     ]
    }
   ],
   "source": [
    "elevator.go_to(5)\n",
    "print(elevator)"
   ]
  },
  {
   "cell_type": "markdown",
   "id": "4ec828c2",
   "metadata": {},
   "source": [
    "Remember, Python uses the default method, that prints the position where the object is stored in the computer’s memory.  If your output is something like: <br>\n",
    "> <__main__.Elevator object at 0x7ff6a9ff3fd0>\n",
    "\n",
    "Then you will need to add the special __str__ method, which returns the string that you want to print.  Try again until you get the desired output, \"Current floor: 5\"."
   ]
  },
  {
   "cell_type": "markdown",
   "id": "521e58b8",
   "metadata": {},
   "source": [
    "Once you have successfully produced the desired output, you are all done with this practice notebook. Awesome!"
   ]
  },
  {
   "cell_type": "markdown",
   "id": "b3e94dc8",
   "metadata": {},
   "source": [
    "## Code Reusing:\n",
    "### Inheritance:\n",
    "* just like people classes have ancestry.\n",
    "* Inheritance let you reuse code written for one clas in other classes.\n",
    "* It let you builds relationship between objects , grouping together similar concepts and reducing code duplication."
   ]
  },
  {
   "cell_type": "code",
   "execution_count": 36,
   "id": "f6132163",
   "metadata": {},
   "outputs": [
    {
     "name": "stdout",
     "output_type": "stream",
     "text": [
      "Green\n",
      "Sweet\n"
     ]
    }
   ],
   "source": [
    "class Fruits:\n",
    "    def __init__(self, color, flavor):\n",
    "        self.color = color\n",
    "        self.flavor = flavor\n",
    "\n",
    "class Apple(Fruits):        # inheriting the fruits class\n",
    "    pass\n",
    "class Grape(Fruits):        # inheriting the fruits class\n",
    "    pass\n",
    "\n",
    "granny_smith = Apple(\"Green\", \"Tart\") \n",
    "print(granny_smith.color)\n",
    "carnelian = Grape(\"Purple\", \"Sweet\")\n",
    "print(carnelian.flavor)"
   ]
  },
  {
   "cell_type": "markdown",
   "id": "efa1d21d",
   "metadata": {},
   "source": [
    "In above example Fruits class is Parent class and Apple and Grape classes are siblings"
   ]
  },
  {
   "cell_type": "code",
   "execution_count": 41,
   "id": "0d7eabea",
   "metadata": {},
   "outputs": [
    {
     "name": "stdout",
     "output_type": "stream",
     "text": [
      "Oink! I'm Hamlet ! Oink! \n",
      "Mooo I'm Milky White ! Mooo \n"
     ]
    }
   ],
   "source": [
    "class Animal:\n",
    "    sound = \"\"\n",
    "    def __init__(self, name):\n",
    "        self.name = name\n",
    "    def speak(self):\n",
    "        print(f\"{self.sound} I'm {self.name} ! {self.sound} \")\n",
    "\n",
    "class Piglet(Animal):\n",
    "    sound = \"Oink!\"\n",
    "\n",
    "hamlet = Piglet(\"Hamlet\")\n",
    "hamlet.speak()\n",
    "\n",
    "class Cow(Animal):\n",
    "    sound = \"Mooo\"\n",
    "\n",
    "milky = Cow(\"Milky White\")\n",
    "milky.speak()"
   ]
  },
  {
   "cell_type": "code",
   "execution_count": 42,
   "id": "1c88220e",
   "metadata": {},
   "outputs": [
    {
     "name": "stdout",
     "output_type": "stream",
     "text": [
      "This Polo is made of Cotton\n"
     ]
    }
   ],
   "source": [
    "class Clothing:\n",
    "  material = \"\"\n",
    "  def __init__(self,name):\n",
    "    self.name = name\n",
    "  def checkmaterial(self):\n",
    "\t  print(\"This {} is made of {}\".format(self.name,self.material))\n",
    "\t\t\t\n",
    "class Shirt(Clothing):\n",
    "  material=\"Cotton\"\n",
    "\n",
    "polo = Shirt(\"Polo\")\n",
    "polo.checkmaterial()"
   ]
  },
  {
   "cell_type": "markdown",
   "id": "5512f0c4",
   "metadata": {},
   "source": [
    "### Composition:\n",
    "* when one class is related but they are not the child of another or no inheritance involved is called composition\n",
    "* where one class makes use of code contained in another class.\n",
    "* Composition allows us to use objects as attributes, as well as access all their attributes and methods.\n",
    "* Always Initialize mutable attributes in the constructor. (dict or list) <br>\n",
    "In this given example of package class(contains attributes about the software package like name version and size) and repository class(represents all the packages available for installation) there is no inheriance b/w the two classes but they are related"
   ]
  },
  {
   "cell_type": "code",
   "execution_count": 44,
   "id": "f6a86c37",
   "metadata": {},
   "outputs": [],
   "source": [
    "class Repository:\n",
    "    def __init__(self):\n",
    "        self.packages = {}  # dictionary which is mutable, \n",
    "        #We initialize the dictionary in the constructor to ensure that \n",
    "        #every instance of the Repository class has its own dictionary.\n",
    "        \n",
    "    def add_packages(self, package): #takes a package obj as a parameter and adds it to our dictinary using name attr as a key\n",
    "        self.packages[package.name] = package\n",
    "        \n",
    "    def total_size(self): #  computes the total size of all packages contained in our repository\n",
    "        result = 0\n",
    "        for package in self.packages.values():\n",
    "            result += package.size\n",
    "        return result\n",
    "    "
   ]
  },
  {
   "cell_type": "code",
   "execution_count": 47,
   "id": "c0d83713",
   "metadata": {},
   "outputs": [],
   "source": [
    "class Clothing:\n",
    "  stock={ 'name': [],'material' :[], 'amount':[]}\n",
    "\n",
    "  def __init__(self,name):\n",
    "    material = \"\"\n",
    "    self.name = name\n",
    "    \n",
    "  def add_item(self, name, material, amount):\n",
    "    Clothing.stock['name'].append(self.name)\n",
    "    Clothing.stock['material'].append(self.material)\n",
    "    Clothing.stock['amount'].append(amount)\n",
    "    \n",
    "  def Stock_by_Material(self, material):\n",
    "    count=0"
   ]
  },
  {
   "cell_type": "markdown",
   "id": "8adb12ab",
   "metadata": {},
   "source": [
    "### Python Modules:\n",
    "used to organize functions, classes and other datat together in a structured way. <br>\n",
    "python comes with ready to use libraries we can use them by using import and module_name\n"
   ]
  },
  {
   "cell_type": "code",
   "execution_count": 49,
   "id": "5810b4a1",
   "metadata": {},
   "outputs": [
    {
     "data": {
      "text/plain": [
       "2"
      ]
     },
     "execution_count": 49,
     "metadata": {},
     "output_type": "execute_result"
    }
   ],
   "source": [
    "import random\n",
    "random.randint(1,10)"
   ]
  },
  {
   "cell_type": "code",
   "execution_count": 53,
   "id": "4cb8c79a",
   "metadata": {},
   "outputs": [
    {
     "data": {
      "text/plain": [
       "9"
      ]
     },
     "execution_count": 53,
     "metadata": {},
     "output_type": "execute_result"
    }
   ],
   "source": [
    "random.randint(1,10)"
   ]
  },
  {
   "cell_type": "code",
   "execution_count": 55,
   "id": "655fa13f",
   "metadata": {},
   "outputs": [
    {
     "data": {
      "text/plain": [
       "4"
      ]
     },
     "execution_count": 55,
     "metadata": {},
     "output_type": "execute_result"
    }
   ],
   "source": [
    "random.randint(1,10)"
   ]
  },
  {
   "cell_type": "code",
   "execution_count": 64,
   "id": "6d7d5913",
   "metadata": {},
   "outputs": [
    {
     "name": "stdout",
     "output_type": "stream",
     "text": [
      "<class 'datetime.datetime'>\n"
     ]
    }
   ],
   "source": [
    "import datetime\n",
    "now = datetime.datetime.now()\n",
    "print(type(now))\n"
   ]
  },
  {
   "cell_type": "code",
   "execution_count": 70,
   "id": "f06432f9",
   "metadata": {},
   "outputs": [
    {
     "name": "stdout",
     "output_type": "stream",
     "text": [
      "2021-07-27 20:24:57.450267\n"
     ]
    }
   ],
   "source": [
    "print(now)"
   ]
  },
  {
   "cell_type": "code",
   "execution_count": 67,
   "id": "6853bf4a",
   "metadata": {},
   "outputs": [
    {
     "name": "stdout",
     "output_type": "stream",
     "text": [
      "2021\n"
     ]
    }
   ],
   "source": [
    "print(now.year)\n"
   ]
  },
  {
   "cell_type": "code",
   "execution_count": 71,
   "id": "e9587e6b",
   "metadata": {},
   "outputs": [
    {
     "name": "stdout",
     "output_type": "stream",
     "text": [
      "2021-08-24 20:24:57.450267\n"
     ]
    }
   ],
   "source": [
    "print(now + datetime.timedelta(days = 28)) # after 28 days"
   ]
  },
  {
   "cell_type": "code",
   "execution_count": 4,
   "id": "0db03676",
   "metadata": {},
   "outputs": [
    {
     "name": "stdout",
     "output_type": "stream",
     "text": [
      "2022-02-24 12:20:44.700695\n"
     ]
    }
   ],
   "source": [
    "import datetime\n",
    "now = datetime.datetime.now()\n",
    "print(now)"
   ]
  },
  {
   "cell_type": "code",
   "execution_count": 5,
   "id": "7e282e96",
   "metadata": {},
   "outputs": [
    {
     "name": "stdout",
     "output_type": "stream",
     "text": [
      "2022\n"
     ]
    }
   ],
   "source": [
    "print(now.year)"
   ]
  },
  {
   "cell_type": "markdown",
   "id": "56e63d58",
   "metadata": {},
   "source": [
    "## Practice Notebook: Code Reuse"
   ]
  },
  {
   "cell_type": "markdown",
   "id": "06d0c4c4",
   "metadata": {},
   "source": [
    "Let’s put what we learned about code reuse all together. \n",
    "<br><br>\n",
    "First, let’s look back at **inheritance**. Run the following cell that defines a generic `Animal` class. "
   ]
  },
  {
   "cell_type": "code",
   "execution_count": 76,
   "id": "9bd03562",
   "metadata": {},
   "outputs": [],
   "source": [
    "class Animal:\n",
    "    name = \"\"\n",
    "    category = \"\"\n",
    "    \n",
    "    def __init__(self, name):\n",
    "        self.name = name\n",
    "    \n",
    "    def set_category(self, category):\n",
    "        self.category = category"
   ]
  },
  {
   "cell_type": "markdown",
   "id": "08d4bbc0",
   "metadata": {},
   "source": [
    "What we have is not enough to do much -- yet. That’s where you come in. \n",
    "<br><br>\n",
    "In the next cell, define a `Turtle` class that inherits from the `Animal` class. Then go ahead and set its category. For instance, a turtle is generally considered a reptile. Although modern cladistics call this categorization into question, for purposes of this exercise we will say turtles are reptiles! "
   ]
  },
  {
   "cell_type": "code",
   "execution_count": 80,
   "id": "4f895de4",
   "metadata": {},
   "outputs": [],
   "source": [
    "class Turtle(Animal):\n",
    "    category = \"reptile\""
   ]
  },
  {
   "cell_type": "markdown",
   "id": "b7876c3b",
   "metadata": {},
   "source": [
    "Run the following cell to check whether you correctly defined your `Turtle` class and set its category to reptile."
   ]
  },
  {
   "cell_type": "code",
   "execution_count": 81,
   "id": "3efa36b5",
   "metadata": {},
   "outputs": [
    {
     "name": "stdout",
     "output_type": "stream",
     "text": [
      "reptile\n"
     ]
    }
   ],
   "source": [
    "print(Turtle.category)"
   ]
  },
  {
   "cell_type": "markdown",
   "id": "f6d71b98",
   "metadata": {},
   "source": [
    "Was the output of the above cell reptile? If not, go back and edit your `Turtle` class making sure that it inherits from the `Animal` class and its category is properly set to reptile. Be sure to re-run that cell once you've finished your edits. Did you get it? If so, great!"
   ]
  },
  {
   "cell_type": "markdown",
   "id": "941df94e",
   "metadata": {},
   "source": [
    "Next, let’s practice **composition** a little bit. This one will require a second type of `Animal` that is in the same category as the first. For example, since you already created a `Turtle` class, go ahead and create a `Snake` class. Don’t forget that it also inherits from the `Animal` class and that its category should be set to reptile."
   ]
  },
  {
   "cell_type": "code",
   "execution_count": 82,
   "id": "45446bb6",
   "metadata": {},
   "outputs": [],
   "source": [
    "class Snake(Animal):\n",
    "    category = \"reptile\""
   ]
  },
  {
   "cell_type": "markdown",
   "id": "5dea82f8",
   "metadata": {},
   "source": [
    "Now, let’s say we have a large variety of `Animal`s (such as turtles and snakes) in a Zoo. Below we have the `Zoo` class. We’re going to use it to organize our various `Animal`s. Remember, inheritance says a Turtle is an `Animal`, but a `Zoo` is not an `Animal` and an `Animal` is not a `Zoo` -- though they are related to one another. "
   ]
  },
  {
   "cell_type": "markdown",
   "id": "8f69c665",
   "metadata": {},
   "source": [
    "Fill in the blanks of the `Zoo` class below so that you can use **zoo.add_animal( )** to add instances of the `Animal` subclasses you created above. Once you’ve added them all, you should be able to use **zoo.total_of_category( )** to tell you exactly how many individual `Animal` types the `Zoo` has for each category! Be sure to run the cell once you've finished your edits."
   ]
  },
  {
   "cell_type": "code",
   "execution_count": 89,
   "id": "a8af5441",
   "metadata": {},
   "outputs": [],
   "source": [
    "class Zoo:\n",
    "    def __init__(self):\n",
    "        self.current_animals = {}\n",
    "    \n",
    "    def add_animal(self, animal):\n",
    "        self.current_animals[animal.name] = animal.category\n",
    "    \n",
    "    def total_of_category(self, category):\n",
    "        result = 0\n",
    "        for animal in self.current_animals.values():\n",
    "            if animal == category:\n",
    "                result += 1\n",
    "        return result\n",
    "\n",
    "zoo = Zoo()"
   ]
  },
  {
   "cell_type": "markdown",
   "id": "746ff8c2",
   "metadata": {},
   "source": [
    "Run the following cell to check whether you properly filled in the blanks of your `Zoo` class."
   ]
  },
  {
   "cell_type": "code",
   "execution_count": 90,
   "id": "9116dd47",
   "metadata": {},
   "outputs": [
    {
     "name": "stdout",
     "output_type": "stream",
     "text": [
      "2\n"
     ]
    }
   ],
   "source": [
    "turtle = Turtle(\"Turtle\") #create an instance of the Turtle class\n",
    "snake = Snake(\"Snake\") #create an instance of the Snake class\n",
    "\n",
    "zoo.add_animal(turtle)\n",
    "zoo.add_animal(snake)\n",
    "\n",
    "print(zoo.total_of_category(\"reptile\")) #how many zoo animal types in the reptile category"
   ]
  },
  {
   "cell_type": "markdown",
   "id": "cd4c403d",
   "metadata": {},
   "source": [
    "Was the output of the above cell 2? If not, go back and edit the `Zoo` class making sure to fill in the blanks with the appropriate attributes. Be sure to re-run that cell once you've finished your edits.  \n",
    "<br>\n",
    "Did you get it? If so, perfect! You have successfully defined your `Turtle` and `Snake` subclasses as well as your `Zoo` class.  You are all done with this notebook. Great work!"
   ]
  },
  {
   "cell_type": "markdown",
   "id": "825312a4",
   "metadata": {},
   "source": [
    "## OOP Wrap Up\n",
    "* Real- world concepts are represented by **Classes**\n",
    "* Instances of classes are usually called **objects**\n",
    "* Objects have **attributes** which are used to store information aobut them\n",
    "* We can make objects do work by calling their **methods**\n",
    "* Access attributes and methods using **dot notation**\n",
    "* Objects can be organized by **inheritance**\n",
    "* Objects can be contained inside each other using **composition**\n"
   ]
  },
  {
   "cell_type": "markdown",
   "id": "ef27c8fd",
   "metadata": {},
   "source": [
    "## Practice Notebook: Object Oriented Programming"
   ]
  },
  {
   "cell_type": "markdown",
   "id": "16eb7b87",
   "metadata": {},
   "source": [
    "### Assessment - Object-oriented programming"
   ]
  },
  {
   "cell_type": "markdown",
   "id": "41235d92",
   "metadata": {},
   "source": [
    "In this exercise, we'll create a few classes to simulate a server that's taking connections from the outside and then a load balancer that ensures that there are enough servers to serve those connections. \n",
    "<br><br>\n",
    "To represent the servers that are taking care of the connections, we'll use a Server class. Each connection is represented by an id, that could, for example, be the IP address of the computer connecting to the server.  For our simulation, each connection creates a random amount of load in the server, between 1 and 10.\n",
    "<br><br>\n",
    "Run the following code that defines this Server class.\n",
    "```python:\n",
    "#Begin Portion 1#\n",
    "import random\n",
    "\n",
    "class Server:\n",
    "    def __init__(self):\n",
    "        \"\"\"Creates a new server instance, with no active connections.\"\"\"\n",
    "        self.connections = {}\n",
    "\n",
    "    def add_connection(self, connection_id):\n",
    "        \"\"\"Adds a new connection to this server.\"\"\"\n",
    "        connection_load = random.random()*10+1\n",
    "        # Add the connection to the dictionary with the calculated load\n",
    "\n",
    "    def close_connection(self, connection_id):\n",
    "        \"\"\"Closes a connection on this server.\"\"\"\n",
    "        # Remove the connection from the dictionary\n",
    "\n",
    "    def load(self):\n",
    "        \"\"\"Calculates the current load for all connections.\"\"\"\n",
    "        total = 0\n",
    "        # Add up the load for each of the connections\n",
    "        return total\n",
    "\n",
    "    def __str__(self):\n",
    "        \"\"\"Returns a string with the current load of the server\"\"\"\n",
    "        return \"{:.2f}%\".format(self.load())\n",
    "    \n",
    "#End Portion 1#\n",
    "```"
   ]
  },
  {
   "cell_type": "code",
   "execution_count": 105,
   "id": "f44fec5e",
   "metadata": {},
   "outputs": [],
   "source": [
    "#Begin Portion 1#\n",
    "import random\n",
    "\n",
    "class Server:\n",
    "    def __init__(self):\n",
    "        \"\"\"Creates a new server instance, with no active connections.\"\"\"\n",
    "        self.connections = {}\n",
    "\n",
    "    def add_connection(self, connection_id):\n",
    "        \"\"\"Adds a new connection to this server.\"\"\"\n",
    "        connection_load = random.random()*10+1\n",
    "        # Add the connection to the dictionary with the calculated load\n",
    "        self.connections[connection_id] = connection_load\n",
    "\n",
    "\n",
    "    def close_connection(self, connection_id):\n",
    "        \"\"\"Closes a connection on this server.\"\"\"\n",
    "        # Remove the connection from the dictionary\n",
    "        if connection_id in self.connections:\n",
    "            del self.connections[connection_id]\n",
    "\n",
    "    def load(self):\n",
    "        \"\"\"Calculates the current load for all connections.\"\"\"\n",
    "        total = 0\n",
    "        # Add up the load for each of the connections\n",
    "        for load in self.connections.values():\n",
    "            total += load\n",
    "        return total\n",
    "\n",
    "    def __str__(self):\n",
    "        \"\"\"Returns a string with the current load of the server\"\"\"\n",
    "        return \"{:.2f}%\".format(self.load())\n",
    "    \n",
    "#End Portion 1#"
   ]
  },
  {
   "cell_type": "markdown",
   "id": "02fa56d2",
   "metadata": {},
   "source": [
    "Now run the following cell to create a Server instance and add a connection to it, then check the load:"
   ]
  },
  {
   "cell_type": "code",
   "execution_count": 106,
   "id": "0bf090d9",
   "metadata": {},
   "outputs": [
    {
     "name": "stdout",
     "output_type": "stream",
     "text": [
      "3.4894106015953477\n"
     ]
    }
   ],
   "source": [
    "server = Server()\n",
    "server.add_connection(\"192.168.1.1\")\n",
    "\n",
    "print(server.load())\n",
    "\n"
   ]
  },
  {
   "cell_type": "markdown",
   "id": "d9387a4b",
   "metadata": {},
   "source": [
    "After running the above code cell, if you get a **<font color =red>NameError</font>** message, be sure to run the Server class definition code block first.\n",
    "\n",
    "The output should be 0.  This is because some things are missing from the Server class. So, you'll need to go back and fill in the blanks to make it behave properly. \n",
    "<br><br>\n",
    "Go back to the Server class definition and fill in the missing parts for the `add_connection` and `load` methods to make the cell above print a number different than zero.  As the load is calculated randomly, this number should be different each time the code is executed.\n",
    "<br><br>\n",
    "**Hint:** Recall that you can iterate through the values of your connections dictionary just as you would any sequence."
   ]
  },
  {
   "cell_type": "markdown",
   "id": "d4c466c6",
   "metadata": {},
   "source": [
    "Great! If your output is a random number between 1 and 10, you have successfully coded the `add_connection` and `load` methods of the Server class.  Well done!\n",
    "<br><br>\n",
    "What about closing a connection? Right now the `close_connection` method doesn't do anything. Go back to the Server class definition and fill in the missing code for the `close_connection` method to make the following code work correctly:"
   ]
  },
  {
   "cell_type": "code",
   "execution_count": 107,
   "id": "1a1d46f4",
   "metadata": {},
   "outputs": [
    {
     "name": "stdout",
     "output_type": "stream",
     "text": [
      "0\n"
     ]
    }
   ],
   "source": [
    "server.close_connection(\"192.168.1.1\")\n",
    "print(server.load())\n"
   ]
  },
  {
   "cell_type": "markdown",
   "id": "30d7d950",
   "metadata": {},
   "source": [
    "You have successfully coded the `close_connection` method if the cell above prints 0.\n",
    "<br><br>\n",
    "**Hint:** Remember that `del` dictionary[key] removes the item with key *key* from the dictionary."
   ]
  },
  {
   "cell_type": "markdown",
   "id": "208ebf12",
   "metadata": {},
   "source": [
    "Alright, we now have a basic implementation of the server class. Let's look at the basic LoadBalancing class. This class will start with only one server available. When a connection gets added, it will randomly select a server to serve that connection, and then pass on the connection to the server. The LoadBalancing class also needs to keep track of the ongoing connections to be able to close them. This is the basic structure:\n",
    "```python:\n",
    "#Begin Portion 2#\n",
    "class LoadBalancing:\n",
    "    def __init__(self):\n",
    "        \"\"\"Initialize the load balancing system with one server\"\"\"\n",
    "        self.connections = {}\n",
    "        self.servers = [Server()]\n",
    "\n",
    "    def add_connection(self, connection_id):\n",
    "        \"\"\"Randomly selects a server and adds a connection to it.\"\"\"\n",
    "        server = random.choice(self.servers)\n",
    "        # Add the connection to the dictionary with the selected server\n",
    "        # Add the connection to the server\n",
    "\n",
    "    def close_connection(self, connection_id):\n",
    "        \"\"\"Closes the connection on the the server corresponding to connection_id.\"\"\"\n",
    "        # Find out the right server\n",
    "        # Close the connection on the server\n",
    "        # Remove the connection from the load balancer\n",
    "\n",
    "    def avg_load(self):\n",
    "        \"\"\"Calculates the average load of all servers\"\"\"\n",
    "        # Sum the load of each server and divide by the amount of servers\n",
    "        return 0\n",
    "\n",
    "    def ensure_availability(self):\n",
    "        \"\"\"If the average load is higher than 50, spin up a new server\"\"\"\n",
    "        pass\n",
    "\n",
    "    def __str__(self):\n",
    "        \"\"\"Returns a string with the load for each server.\"\"\"\n",
    "        loads = [str(server) for server in self.servers]\n",
    "        return \"[{}]\".format(\",\".join(loads))\n",
    "#End Portion 2#\n",
    "```"
   ]
  },
  {
   "cell_type": "code",
   "execution_count": 108,
   "id": "0f99f5a4",
   "metadata": {},
   "outputs": [],
   "source": [
    "#Begin Portion 2#\n",
    "class LoadBalancing:\n",
    "    def __init__(self):\n",
    "        \"\"\"Initialize the load balancing system with one server\"\"\"\n",
    "        self.connections = {}\n",
    "        self.servers = [Server()]\n",
    "\n",
    "    def add_connection(self, connection_id):\n",
    "        \"\"\"Randomly selects a server and adds a connection to it.\"\"\"\n",
    "        server = random.choice(self.servers)\n",
    "        # Add the connection to the dictionary with the selected server\n",
    "        # Add the connection to the server\n",
    "        server.add_connection(connection_id)\n",
    "        self.ensure_availability()\n",
    "\n",
    "    def close_connection(self, connection_id):\n",
    "        \"\"\"Closes the connection on the the server corresponding to connection_id.\"\"\"\n",
    "        # Find out the right server\n",
    "        # Close the connection on the server\n",
    "        # Remove the connection from the load balancer\n",
    "        for server in self.servers:\n",
    "            if connection_id in server.connections:\n",
    "                server.close_connection(connection_id)\n",
    "                break\n",
    "           \n",
    "    def avg_load(self):\n",
    "        \"\"\"Calculates the average load of all servers\"\"\"\n",
    "        # Sum the load of each server and divide by the amount of servers\n",
    "        total_load = 0\n",
    "        total_server = 0\n",
    "        for server in self.servers:\n",
    "            total_load += server.load()\n",
    "            total_server += 1\n",
    "        return total_load/total_server\n",
    "\n",
    "    def ensure_availability(self):\n",
    "        \"\"\"If the average load is higher than 50, spin up a new server\"\"\"\n",
    "        if self.avg_load() > 50:\n",
    "            self.servers.append(Server())\n",
    "\n",
    "    def __str__(self):\n",
    "        \"\"\"Returns a string with the load for each server.\"\"\"\n",
    "        loads = [str(server) for server in self.servers]\n",
    "        return \"[{}]\".format(\",\".join(loads))\n",
    "#End Portion 2#"
   ]
  },
  {
   "cell_type": "markdown",
   "id": "c55e3dee",
   "metadata": {},
   "source": [
    "As with the Server class, this class is currently incomplete. You need to fill in the gaps to make it work correctly. For example, this snippet should create a connection in the load balancer, assign it to a running server and then the load should be more than zero:"
   ]
  },
  {
   "cell_type": "code",
   "execution_count": 109,
   "id": "03d1624b",
   "metadata": {},
   "outputs": [
    {
     "name": "stdout",
     "output_type": "stream",
     "text": [
      "4.7212975589541175\n"
     ]
    }
   ],
   "source": [
    "l = LoadBalancing()\n",
    "l.add_connection(\"fdca:83d2::f20d\")\n",
    "print(l.avg_load())\n"
   ]
  },
  {
   "cell_type": "markdown",
   "id": "6a760b8d",
   "metadata": {},
   "source": [
    "After running the above code, the output is 0.  Fill in the missing parts for the `add_connection` and `avg_load` methods of the LoadBalancing class to make this print the right load. Be sure that the load balancer now has an average load more than 0 before proceeding."
   ]
  },
  {
   "cell_type": "markdown",
   "id": "29c91bdc",
   "metadata": {},
   "source": [
    "What if we add a new server?"
   ]
  },
  {
   "cell_type": "code",
   "execution_count": 110,
   "id": "f8379c4e",
   "metadata": {},
   "outputs": [
    {
     "name": "stdout",
     "output_type": "stream",
     "text": [
      "2.3606487794770588\n"
     ]
    }
   ],
   "source": [
    "l.servers.append(Server())\n",
    "print(l.avg_load())"
   ]
  },
  {
   "cell_type": "markdown",
   "id": "8df4202f",
   "metadata": {},
   "source": [
    "The average load should now be half of what it was before. If it's not, make sure you correctly fill in the missing gaps for the `add_connection` and `avg_load` methods so that this code works correctly. \n",
    "<br><br>\n",
    "**Hint:** You can iterate through the all servers in the *self.servers* list to get the total server load amount and then divide by the length of the *self.servers* list to compute the average load amount."
   ]
  },
  {
   "cell_type": "markdown",
   "id": "d9fb33d7",
   "metadata": {},
   "source": [
    "Fantastic! Now what about closing the connection?"
   ]
  },
  {
   "cell_type": "code",
   "execution_count": 111,
   "id": "2c8614fb",
   "metadata": {},
   "outputs": [
    {
     "name": "stdout",
     "output_type": "stream",
     "text": [
      "0.0\n"
     ]
    }
   ],
   "source": [
    "l.close_connection(\"fdca:83d2::f20d\")\n",
    "print(l.avg_load())\n"
   ]
  },
  {
   "cell_type": "markdown",
   "id": "912be693",
   "metadata": {},
   "source": [
    "Fill in the code of the LoadBalancing class to make the load go back to zero once the connection is closed.\n",
    "<br><br>\n",
    "Great job! Before, we added a server manually. But we want this to happen automatically when the average load is more than 50%. To make this possible, fill in the missing code for the `ensure_availability` method and call it from the `add_connection` method after a connection has been added. You can test it with the following code:"
   ]
  },
  {
   "cell_type": "code",
   "execution_count": 112,
   "id": "9dd816d4",
   "metadata": {},
   "outputs": [
    {
     "name": "stdout",
     "output_type": "stream",
     "text": [
      "[46.72%,78.05%,0.00%]\n"
     ]
    }
   ],
   "source": [
    "for connection in range(20):\n",
    "    l.add_connection(connection)\n",
    "print(l)\n"
   ]
  },
  {
   "cell_type": "markdown",
   "id": "4e3e8701",
   "metadata": {},
   "source": [
    "The code above adds 20 new connections and then prints the loads for each server in the load balancer.  If you coded correctly, new servers should have been added automatically to ensure that the average load of all servers is not more than 50%.\n",
    "<br><br>\n",
    "Run the following code to verify that the average load of the load balancer is not more than 50%."
   ]
  },
  {
   "cell_type": "code",
   "execution_count": 2,
   "id": "7cfc0504",
   "metadata": {},
   "outputs": [
    {
     "ename": "NameError",
     "evalue": "name 'l' is not defined",
     "output_type": "error",
     "traceback": [
      "\u001b[1;31m---------------------------------------------------------------------------\u001b[0m",
      "\u001b[1;31mNameError\u001b[0m                                 Traceback (most recent call last)",
      "\u001b[1;32m<ipython-input-2-c01709576147>\u001b[0m in \u001b[0;36m<module>\u001b[1;34m\u001b[0m\n\u001b[1;32m----> 1\u001b[1;33m \u001b[0mprint\u001b[0m\u001b[1;33m(\u001b[0m\u001b[0ml\u001b[0m\u001b[1;33m.\u001b[0m\u001b[0mavg_load\u001b[0m\u001b[1;33m(\u001b[0m\u001b[1;33m)\u001b[0m\u001b[1;33m)\u001b[0m\u001b[1;33m\u001b[0m\u001b[1;33m\u001b[0m\u001b[0m\n\u001b[0m",
      "\u001b[1;31mNameError\u001b[0m: name 'l' is not defined"
     ]
    }
   ],
   "source": [
    "print(l.avg_load())"
   ]
  },
  {
   "cell_type": "markdown",
   "id": "f44ce988",
   "metadata": {},
   "source": [
    "Awesome! If the average load is indeed less than 50%, you are all done with this assessment."
   ]
  },
  {
   "cell_type": "code",
   "execution_count": 5,
   "id": "4a0b4961",
   "metadata": {},
   "outputs": [
    {
     "name": "stdout",
     "output_type": "stream",
     "text": [
      "ASHIT\n"
     ]
    }
   ],
   "source": [
    "str1 = \"HARSHITA\"\n",
    "str2 = str1[1:2]+str1[3:-1]\n",
    "print(str2)"
   ]
  },
  {
   "cell_type": "code",
   "execution_count": null,
   "id": "03065a73",
   "metadata": {},
   "outputs": [],
   "source": []
  }
 ],
 "metadata": {
  "kernelspec": {
   "display_name": "Python 3 (ipykernel)",
   "language": "python",
   "name": "python3"
  },
  "language_info": {
   "codemirror_mode": {
    "name": "ipython",
    "version": 3
   },
   "file_extension": ".py",
   "mimetype": "text/x-python",
   "name": "python",
   "nbconvert_exporter": "python",
   "pygments_lexer": "ipython3",
   "version": "3.9.7"
  }
 },
 "nbformat": 4,
 "nbformat_minor": 5
}
