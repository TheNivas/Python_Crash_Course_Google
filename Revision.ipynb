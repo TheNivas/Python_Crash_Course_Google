{
 "cells": [
  {
   "cell_type": "code",
   "execution_count": 1,
   "id": "67228dc9",
   "metadata": {},
   "outputs": [
    {
     "name": "stdout",
     "output_type": "stream",
     "text": [
      "Happy revision\n"
     ]
    }
   ],
   "source": [
    "print(\"Happy revision\")"
   ]
  },
  {
   "cell_type": "code",
   "execution_count": 2,
   "id": "4ff19cea",
   "metadata": {},
   "outputs": [
    {
     "name": "stdout",
     "output_type": "stream",
     "text": [
      "Happy revision 0\n",
      "Happy revision 1\n",
      "Happy revision 2\n",
      "Happy revision 3\n",
      "Happy revision 4\n",
      "Happy revision 5\n",
      "Happy revision 6\n",
      "Happy revision 7\n",
      "Happy revision 8\n",
      "Happy revision 9\n",
      "Happy revision 10\n"
     ]
    }
   ],
   "source": [
    "for i in range(11):\n",
    "    print(f\"Happy revision {i}\")"
   ]
  },
  {
   "cell_type": "code",
   "execution_count": 8,
   "id": "b337049d",
   "metadata": {},
   "outputs": [
    {
     "name": "stdout",
     "output_type": "stream",
     "text": [
      "Hello shyam\n"
     ]
    }
   ],
   "source": [
    "name ='shyam'\n",
    "print(\"Hello \" + name)"
   ]
  },
  {
   "cell_type": "code",
   "execution_count": 10,
   "id": "d33044e7",
   "metadata": {},
   "outputs": [
    {
     "name": "stdout",
     "output_type": "stream",
     "text": [
      "4294967296\n"
     ]
    }
   ],
   "source": [
    "print(2**32)"
   ]
  },
  {
   "cell_type": "code",
   "execution_count": 16,
   "id": "7eca1404",
   "metadata": {},
   "outputs": [
    {
     "name": "stdout",
     "output_type": "stream",
     "text": [
      "y\n"
     ]
    }
   ],
   "source": [
    "print(name[-3])"
   ]
  },
  {
   "cell_type": "code",
   "execution_count": 17,
   "id": "b705cb3a",
   "metadata": {},
   "outputs": [
    {
     "name": "stdout",
     "output_type": "stream",
     "text": [
      "mayhs\n"
     ]
    }
   ],
   "source": [
    "print(name[::-1])"
   ]
  },
  {
   "cell_type": "code",
   "execution_count": 19,
   "id": "c155b8b9",
   "metadata": {},
   "outputs": [
    {
     "name": "stdout",
     "output_type": "stream",
     "text": [
      "3\n"
     ]
    }
   ],
   "source": [
    "print(\"3\" + 4) \n",
    "#error"
   ]
  },
  {
   "cell_type": "code",
   "execution_count": 20,
   "id": "cba076c0",
   "metadata": {},
   "outputs": [
    {
     "data": {
      "text/plain": [
       "str"
      ]
     },
     "execution_count": 20,
     "metadata": {},
     "output_type": "execute_result"
    }
   ],
   "source": [
    "type(name)"
   ]
  },
  {
   "cell_type": "code",
   "execution_count": 21,
   "id": "7992659b",
   "metadata": {},
   "outputs": [
    {
     "name": "stdout",
     "output_type": "stream",
     "text": [
      "-91\n"
     ]
    }
   ],
   "source": [
    "print(8-99)"
   ]
  },
  {
   "cell_type": "code",
   "execution_count": 25,
   "id": "2157dd49",
   "metadata": {},
   "outputs": [
    {
     "name": "stdout",
     "output_type": "stream",
     "text": [
      "a banana an orange\n"
     ]
    }
   ],
   "source": [
    "print(\"a \" + \"banana\" + \" an \" + \"orange\")"
   ]
  },
  {
   "cell_type": "code",
   "execution_count": 26,
   "id": "996258e7",
   "metadata": {},
   "outputs": [
    {
     "data": {
      "text/plain": [
       "27.5"
      ]
     },
     "execution_count": 26,
     "metadata": {},
     "output_type": "execute_result"
    }
   ],
   "source": [
    "len = 11\n",
    "br = 5\n",
    "area = len*br /2\n",
    "area"
   ]
  },
  {
   "cell_type": "code",
   "execution_count": 29,
   "id": "dbe04f34",
   "metadata": {},
   "outputs": [
    {
     "name": "stdout",
     "output_type": "stream",
     "text": [
      "3 apples\n"
     ]
    }
   ],
   "source": [
    "print(str(3)  + \" apples\")"
   ]
  },
  {
   "cell_type": "code",
   "execution_count": 39,
   "id": "7585bc75",
   "metadata": {},
   "outputs": [
    {
     "name": "stdout",
     "output_type": "stream",
     "text": [
      "1\n",
      "2\n",
      "Fizz\n",
      "4\n",
      "Buzz\n",
      "Fizz\n",
      "7\n",
      "8\n",
      "Fizz\n",
      "Buzz\n",
      "11\n",
      "Fizz\n",
      "13\n",
      "14\n",
      "FizzBuzz\n",
      "16\n",
      "17\n",
      "Fizz\n",
      "19\n",
      "Buzz\n",
      "Fizz\n",
      "22\n",
      "23\n",
      "Fizz\n",
      "Buzz\n",
      "26\n",
      "Fizz\n",
      "28\n",
      "29\n",
      "FizzBuzz\n"
     ]
    }
   ],
   "source": [
    "# fizz buzz\n",
    "\n",
    "def fizzbuzz(n):\n",
    "    fact3 =0\n",
    "    fact5 = 0\n",
    "    for i in range(1,n+1):\n",
    "        fact3 +=1\n",
    "        fact5 += 1\n",
    "        if fact3 == 3 and fact5 == 5:\n",
    "            print(\"FizzBuzz\")\n",
    "            fact3 = 0\n",
    "            fact5 = 0\n",
    "        elif fact5 == 5:\n",
    "            print(\"Buzz\")\n",
    "            fact5 = 0\n",
    "        elif fact3 == 3:\n",
    "            print(\"Fizz\")\n",
    "            fact3 = 0\n",
    "        else:\n",
    "            print(i)\n",
    "            \n",
    "fizzbuzz(30)"
   ]
  },
  {
   "cell_type": "code",
   "execution_count": 1,
   "id": "15b03034",
   "metadata": {},
   "outputs": [
    {
     "ename": "IndentationError",
     "evalue": "expected an indented block after 'for' statement on line 3 (Temp/ipykernel_9076/1622471697.py, line 4)",
     "output_type": "error",
     "traceback": [
      "\u001b[1;36m  File \u001b[1;32m\"C:\\Users\\Nivas\\AppData\\Local\\Temp/ipykernel_9076/1622471697.py\"\u001b[1;36m, line \u001b[1;32m4\u001b[0m\n\u001b[1;33m    \u001b[0m\n\u001b[1;37m    ^\u001b[0m\n\u001b[1;31mIndentationError\u001b[0m\u001b[1;31m:\u001b[0m expected an indented block after 'for' statement on line 3\n"
     ]
    }
   ],
   "source": [
    "def gcd(x, y):\n",
    "    mini = min(x,y)\n",
    "    for i in range(2, mini):\n",
    "        "
   ]
  },
  {
   "cell_type": "code",
   "execution_count": 5,
   "id": "2159509d",
   "metadata": {},
   "outputs": [
    {
     "data": {
      "text/plain": [
       "{'H': 2, 'E': 3, 'L': 2, 'O': 1, ' ': 1, 'T': 1, 'R': 1, '?': 2}"
      ]
     },
     "execution_count": 5,
     "metadata": {},
     "output_type": "execute_result"
    }
   ],
   "source": [
    "def histogram(s):\n",
    "    d = dict()\n",
    "    for c in s: \n",
    "        if c not in d: \n",
    "            d[c] = 1\n",
    "        else:\n",
    "            d[c] +=1\n",
    "    return d\n",
    "\n",
    "histogram('HELLO THERE??')"
   ]
  },
  {
   "cell_type": "code",
   "execution_count": 6,
   "id": "afabe5d4",
   "metadata": {},
   "outputs": [
    {
     "data": {
      "text/plain": [
       "{'b': 1, 'r': 2, 'o': 2, 'n': 1, 't': 1, 's': 2, 'a': 1, 'u': 2}"
      ]
     },
     "execution_count": 6,
     "metadata": {},
     "output_type": "execute_result"
    }
   ],
   "source": [
    "histogram(\"brontosaurus\")\n"
   ]
  },
  {
   "cell_type": "code",
   "execution_count": 5,
   "id": "3a4b4072",
   "metadata": {},
   "outputs": [
    {
     "data": {
      "text/plain": [
       "0"
      ]
     },
     "execution_count": 5,
     "metadata": {},
     "output_type": "execute_result"
    }
   ],
   "source": [
    "# memoized fibonacci\n",
    "def fibonacci(n):\n",
    "    known = {: 0, 1: 1}\n",
    "    if n in known:\n",
    "        return known[n]\n",
    "    res = fibonacci(n-1) + fibonacci(n-2)\n",
    "    known [n] = res\n",
    "    return res\n",
    "\n",
    "fibonacci(3)    \n",
    "\n"
   ]
  },
  {
   "cell_type": "code",
   "execution_count": 20,
   "id": "23a6130d",
   "metadata": {},
   "outputs": [
    {
     "data": {
      "text/plain": [
       "tuple"
      ]
     },
     "execution_count": 20,
     "metadata": {},
     "output_type": "execute_result"
    }
   ],
   "source": [
    "t = ('a',)\n",
    "type(t)"
   ]
  },
  {
   "cell_type": "code",
   "execution_count": 22,
   "id": "1d6f7a11",
   "metadata": {},
   "outputs": [
    {
     "name": "stdout",
     "output_type": "stream",
     "text": [
      "('Hello',)\n",
      "<class 'tuple'>\n"
     ]
    }
   ],
   "source": [
    "def printall(*args):  \n",
    "    print(args)\n",
    "    print(type(args))\n",
    "printall(\"Hello\")"
   ]
  },
  {
   "cell_type": "code",
   "execution_count": 3,
   "id": "fc7228be",
   "metadata": {},
   "outputs": [
    {
     "data": {
      "text/plain": [
       "'!\"#$%&\\'()*+,-./:;<=>?@[\\\\]^_`{|}~'"
      ]
     },
     "execution_count": 3,
     "metadata": {},
     "output_type": "execute_result"
    }
   ],
   "source": [
    "import string\n",
    "string.punctuation"
   ]
  },
  {
   "cell_type": "code",
   "execution_count": 7,
   "id": "47cb8891",
   "metadata": {},
   "outputs": [
    {
     "name": "stdout",
     "output_type": "stream",
     "text": [
      "0.6751309808660981\n",
      "0.016830948471003637\n",
      "0.9687217584182067\n",
      "0.6427464726942308\n",
      "0.3297245722864296\n",
      "0.9625435297447698\n",
      "0.11892042028599092\n",
      "0.4615918214570053\n",
      "0.19442347275929284\n",
      "0.6375300270746916\n"
     ]
    }
   ],
   "source": [
    "import random\n",
    "for i in range(10):\n",
    "    x = random.random()\n",
    "    print(x)"
   ]
  },
  {
   "cell_type": "code",
   "execution_count": 12,
   "id": "04cbb6bd",
   "metadata": {},
   "outputs": [
    {
     "data": {
      "text/plain": [
       "88"
      ]
     },
     "execution_count": 12,
     "metadata": {},
     "output_type": "execute_result"
    }
   ],
   "source": [
    "random.randint(0,100)"
   ]
  },
  {
   "cell_type": "code",
   "execution_count": 15,
   "id": "a90bd284",
   "metadata": {},
   "outputs": [
    {
     "data": {
      "text/plain": [
       "4"
      ]
     },
     "execution_count": 15,
     "metadata": {},
     "output_type": "execute_result"
    }
   ],
   "source": [
    "t = [1,4,8]\n",
    "random.choice(t)"
   ]
  },
  {
   "cell_type": "code",
   "execution_count": 22,
   "id": "7a3233c0",
   "metadata": {},
   "outputs": [
    {
     "name": "stdout",
     "output_type": "stream",
     "text": [
      "{'an': 23, 'indian': 3, 'ass': 3, 'by': 34, 'the': 578, 'same': 3, 'author': 1, 'aquarium': 1, 'harold': 1, 'acton': 1, '“ha': 1, 'ha': 3, 'this': 32, 'world': 8, 'doth': 1, 'pass': 1, 'most': 2, 'merrily': 1, 'i’ll': 6, 'be': 18, 'sworn': 1, 'for': 64, 'many': 6, 'honest': 1, 'goes': 1, 'unicorn': 1, 'ty': 2, 'hye': 2, 'o': 16, 'sweet': 6, 'delight': 1, 'he': 46, 'tickles': 1, 'age': 4, 'that': 54, 'can': 8, 'call': 3, 'tullia’s': 2, 'ape': 1, 'a': 217, 'marmosyte': 2, 'and': 363, 'leda’s': 2, 'goose': 1, 'swan.”': 1, 'illustration': 1, 'duckworth': 1, '3': 1, 'henrietta': 1, 'street': 4, 'london': 4, 'w.c': 1, 'first': 2, 'published': 1, 'in': 170, '1925': 1, 'all': 35, 'rights': 2, 'reserved': 1, 'printed': 2, 'great': 5, 'britain': 2, 'butler': 2, '': 25, 'tanner': 2, 'ltd': 2, 'frome': 2, 'contents': 1, 'page': 1, 'lament': 4, 'adonis': 14, '7': 1, 'when': 27, 'frigates': 3, 'from': 52, 'long': 10, 'voyages': 3, '13': 1, 'capriccio': 2, 'espagnol': 2, '15': 1, 'trépak': 2, '18': 1, 'investiture': 2, 'of': 329, 'spinster': 2, 'hob': 2, 'goblin': 2, '20': 1, 'were': 17, 'wolf': 3, '21': 1, 'hilarity': 6, '22': 1, 'gods': 3, '26': 1, 'as': 54, 'dmitri': 2, 'karamazoff': 2, 'sang': 2, 'on': 64, 'way': 3, 'to': 170, 'chaos': 3, '27': 1, 'train': 5, 'de': 2, 'luxe': 2, '31': 1, 'prodigal': 2, 'son': 3, '33': 1, 'ventilation': 2, '38': 1, 'after': 7, '40': 1, 'green': 17, 'grow': 9, 'rushes': 3, '43': 1, 'words': 10, '44': 1, 'greenness': 2, 'unsecreted': 2, '46': 1, 'back': 4, 'streets': 8, '48': 1, 'werther': 2, 'introspection': 2, '49': 1, 'theme': 2, 'ophelia’s': 2, 'madness': 3, '51': 1, 'these': 23, 'consolations': 2, '53': 1, 'month': 4, 'athyr': 1, '55': 1, 'discoveries': 2, '56': 1, 'old': 9, 'woman': 9, '57': 1, 'cold': 6, 'joints': 4, 'i': 95, '59': 1, 'ii': 4, '60': 1, 'iii': 4, '61': 1, 'invocation': 2, '63': 1, 'lame': 4, 'lady': 5, '64': 1, 'conversations': 2, 'crumbling': 4, '66': 1, 'intermezzo': 2, '69': 1, 'three': 3, 'translations': 2, 'french': 3, 'gibbet': 3, '71': 1, 'saint': 5, '73': 1, 'hérodiade': 18, '74': 1, 'now': 16, 'fogs': 1, 'enfold': 1, 'sea': 9, 'berries': 1, 'fall': 4, 'eaves': 1, 'cat’s': 1, 'eyes': 23, 'glitter': 2, 'into': 31, 'dark': 3, 'sloping': 2, 'hills': 8, 'myrrh': 4, 'trees': 10, 'with': 120, 'tender': 3, 'anise': 1, 'overweighed': 1, 'pointed': 6, 'flag': 1, 'leaves': 6, 'stir': 2, 'only': 5, 'weep': 7, 'again': 7, 'sob': 2, 'mourn': 1, 'dead': 12, 'throughout': 3, 'dolorous': 1, 'night': 21, 'cloudy': 2, 'jade': 4, 'even': 5, 'hornless': 1, 'dragon': 1, 'golden': 2, 'sequined': 1, 'basilisk': 1, 'water': 6, 'scorpion': 1, 'python': 1, 'king': 2, 'like': 66, 'sad': 6, 'eclipses': 1, 'trail': 2, 'about': 6, 'land': 5, 'crane': 1, 'ibis': 1, 'mango': 1, 'bird': 3, 'jungle': 1, 'fowl': 1, 'heron': 1, 'roc': 1, 'badger': 1, 'footed': 2, 'tortoise': 2, 'join': 2, 'pouring': 1, 'out': 11, 'their': 62, 'cypris': 4, 'violet': 1, 'stoled': 1, 'wrapped': 1, 'purple': 1, 'woof': 1, 'arise': 5, 'beat': 5, 'your': 42, 'azure': 5, 'veined': 2, 'breasts': 3, 'small': 5, 'jewelled': 1, 'nipples': 2, 'bleed': 2, 'have': 29, 'seen': 6, 'you': 65, 'make': 6, 'curved': 2, 'mouth': 2, 'bed': 10, 'balsam': 1, 'crisp': 2, 'lush': 5, 'flowers': 14, 'whose': 10, 'poor': 9, 'crushed': 1, 'frozen': 6, 'lips': 15, 'compactly': 1, 'closed': 2, 'lie': 4, 'flakes': 4, 'ice': 3, 'where': 26, 'once': 9, 'fire': 6, 'loveliness': 1, 'thing': 4, 'agony': 8, 'moon': 14, 'has': 25, 'slanted': 1, 'off': 5, 'querulous': 1, 'ghosts': 2, 'hover': 1, 'along': 4, 'brink': 1, 'treacherous': 1, 'voids': 1, 'leap': 3, 'blinded': 1, 'blind': 5, 'pleasure’s': 1, 'lapping': 1, 'ecstasies': 1, 'peacock': 1, 'throated': 2, 'stifling': 1, 'cries': 4, 'shudder': 4, 'crack': 3, '’tis': 4, 'misery': 2, 'who': 25, 'calls': 2, '“woe”': 1, 'black': 4, 'solemnities': 1, 'sky': 10, 'loveliest': 2, 'is': 49, 'low': 7, 'lies': 3, 'lovely': 4, 'bleeding': 2, 'one': 12, 'his': 79, 'throat': 9, 'aflash': 1, 'faint': 5, 'stunned': 2, 'strands': 1, 'light': 14, 'breathes': 1, 'life': 7, 'away': 7, 'thigh': 2, 'milk': 5, 'white': 15, 'agate': 1, 'gashed': 2, 'slit': 1, 'cruel': 6, 'tusk': 1, 'ruby': 3, 'blood': 13, 'drips': 1, 'down': 12, 'skin': 2, 'snow': 12, 'beneath': 12, 'brows': 2, 'stars': 15, 'set': 2, 'crystal': 3, 'deep': 4, 'memories': 5, 'hungers': 1, 'glinted': 1, 'pools': 2, 'are': 35, 'glazed': 2, 'dim': 4, 'opaque': 1, 'lustreless': 1, 'blue': 10, 'orbs': 1, 'burn': 2, 'no': 35, 'more': 11, 'translucent': 1, 'lids': 3, 'locks': 2, 'wet': 2, 'clear': 3, 'drops': 3, 'rose': 6, 'fled': 3, 'lip': 1, 'very': 5, 'kiss': 5, 'hangs': 2, 'never': 9, 'will': 29, 'forego': 1, 'bitter': 2, 'wind': 13, 'breaks': 1, 'morn': 3, 'gathered': 1, 'hounds': 2, 'bay': 1, 'gloom': 4, 'corpse': 2, 'haired': 1, 'nereids': 1, 'marsh': 1, 'moan': 3, 'frail': 3, 'dabble': 1, 'pollened': 1, 'cheeks': 4, 'tears': 8, 'vavicel': 1, 'calyx': 2, 'petals': 2, 'spiral': 1, 'tufts': 3, 'drooping': 2, 'galingale': 1, 'shadowy': 1, 'deer': 1, 'grass': 2, 'swallow': 1, 'wort': 1, 'through': 26, 'bat’s': 1, 'wing': 1, 'tissues': 1, 'tremulous': 2, 'poplars': 1, 'weeping': 3, 'amber': 4, 'vales': 1, 'orchises': 1, 'sandal': 2, 'but': 44, 'aphrodite': 2, 'unbraided': 1, 'hair': 13, 'tragic': 1, 'thorn': 2, 'pierced': 2, 'feet': 6, 'so': 31, 'delicate': 2, 'woodlands': 1, 'than': 5, 'music’s': 1, 'stringèd': 1, 'charms': 1, 'lulling': 1, 'name': 3, 'reverberates': 1, 'afar': 2, 'sails': 1, 'clasp': 3, 'ribbands': 1, 'round': 4, 'navel': 1, 'leaps': 1, 'thick': 6, 'chest': 1, 'lapped': 1, 'scarlet': 1, 'thighs': 3, 'purpled': 1, 'those': 12, 'limbs': 9, 'afore': 1, 'veils': 1, 'unflecked': 2, 'merest': 1, 'breeze': 4, 'was': 14, 'fair': 1, 'whilst': 5, 'her': 31, 'lived': 1, 'would': 27, 'melt': 1, 'body': 5, 'song': 7, 'beauty': 6, 'died': 3, 'vaporous': 1, 'melody': 5, 'lute': 2, '“woe': 2, 'woe': 1, 'cypris!”': 1, 'mountains': 2, 'oak': 1, 'answer': 4, '“for': 1, 'woe!”': 1, 'rivers': 1, 'wells': 1, 'bewail': 2, 'echo': 4, 'resounds': 1, '“ai': 1, 'ai': 1, 'beautiful': 4, 'dead.”': 1, 'venus': 2, 'saw': 4, 'wasting': 1, 'wound': 1, 'whiteness': 2, 'loved': 1, 'one’s': 1, 'she': 18, 'clasped': 1, 'him': 14, 'moaning': 1, 'supply': 2, 'warm': 3, 'against': 5, 'chilled': 2, 'inertness': 1, '“farewell': 1, 'telling': 1, 'deluding': 1, 'tales': 3, 'happiness': 1, 'morrow': 1, 'had': 13, 'thought': 5, 'joy': 4, 'come': 11, 'dwelling': 1, 'came': 4, 'sorrow': 3, '“the': 2, 'almoner': 1, 'death': 8, 'silent': 3, 'creeper': 1, 'snared': 1, 'my': 66, 'love': 11, 'shall': 14, 'see': 12, 'manacled': 1, 'miseries': 1, 'weeper': 1, 'ever': 10, '“a': 1, 'widowed': 1, 'goddess': 1, 'setting': 2, 'gold': 7, 'sun': 9, 'rise': 3, 'longer': 6, 'acheron': 1, 'fast': 3, 'forgetting': 1, 'ever.”': 1, 'each': 21, 'drop': 1, 'paphian': 1, 'sheds': 1, 'tear': 5, 'earth': 4, 'turned': 2, 'brings': 2, 'forth': 2, 'pursy': 1, 'bring': 4, 'air': 19, 'flower': 5, 'seemly': 1, 'couch': 4, 'lonely': 2, 'stumbles': 1, 'slumber': 4, 'falls': 2, 'downy': 3, 'wingèd': 2, 'doze': 1, 'braided': 1, 'let': 13, 'possess': 1, 'cytherea': 1, 'lay': 4, 'sleep': 2, 'twisted': 3, 'yearns': 1, 'wan': 1, 'adonis’': 1, 'cast': 3, 'jasmine': 1, 'nay': 2, 'faded': 2, 'keen': 1, 'swift': 3, 'murmurs': 3, 'drowned': 2, 'sprinkle': 1, 'bakkaris': 1, 'perished': 1, 'perfumes': 3, 'flushed': 1, 'soft': 9, 'legendary': 1, 'scents': 1, 'dissolve': 2, 'disquieting': 1, 'erotic': 1, 'torches': 1, 'lintel': 1, 'quenched': 1, 'hymenæus': 1, 'rends': 1, 'bridal': 1, 'crown': 4, '“hymen”': 1, 'new': 7, 'graces': 1, 'grieve': 2, 'mournful': 2, 'autumn': 3, 'boughs': 4, 'toneless': 1, 'sound': 7, 'means': 1, 'broken': 6, 'heart': 9, 'cinyrus!”': 1, 'muses': 1, 'chant': 1, 'starry': 2, 'music': 8, 'painted': 2, 'insects': 2, 'floating': 5, 'motionless': 1, 'at': 32, 'weird': 2, 'unconscious': 3, 'day': 15, 'bright': 3, 'feathered': 1, 'wings': 7, 'hung': 2, 'mimic': 1, 'melancholy': 2, 'atmosphere': 1, 'dry': 4, 'start': 1, 'rattle': 2, 'does': 3, 'not': 41, 'heed': 2, 'bending': 1, 'vault': 1, 'cool': 3, 'quiet': 2, 'clouds': 7, 'catch': 3, 'palest': 1, 'tinge': 1, 'tangled': 1, 'moonlight': 1, 'tossed': 2, 'thrown': 1, 'jostling': 1, 'waves': 2, 'refrain': 1, 'dirges': 1, 'cease': 3, 'must': 7, 'another': 1, 'year': 2, 'drift': 1, 'harbour': 1, 'then': 25, 'whirled': 1, 'momentary': 1, 'mirages': 1, 'inspissated': 1, 'greenery': 1, 'mazed': 3, 'mangroves': 1, 'casting': 1, 'aerial': 1, 'roots': 2, 'diamond': 2, 'shoots': 1, 'embroidering': 1, 'drowsy': 1, 'hanging': 1, 'gardens': 2, 'there': 13, 'roam': 1, 'slowly': 2, 'swaying': 2, 'elephants': 2, 'fulgurant': 1, 'phœnix': 4, 'sycophants': 2, 'trailing': 2, 'plumèd': 1, 'birds': 5, 'paradise': 3, 'sits': 2, 'cactus': 1, 'gleaming': 1, 'veinèd': 1, 'liquid': 2, 'indolent': 1, 'crocodile': 1, 'flounder': 1, 'dolorously': 1, 'smile': 2, 'spick': 1, 'diving': 1, 'gannets': 1, 'speckled': 1, 'pelicans': 1, 'flutter': 2, 'feather': 1, 'ptarmigans': 1, 'orange': 5, 'liveried': 1, 'marmosets': 1, 'climb': 2, 'slender': 3, 'cypress': 1, 'minarets': 1, 'strange': 6, 'garrisons': 1, 'emerald': 1, 'mailed': 1, 'chameleons': 1, 'peacocks': 3, 'fans': 1, 'outspread': 1, 'gonfalons': 1, 'shrill': 3, 'voiced': 2, 'amazons': 1, 'coiled': 2, 'dinosaurs': 1, 'lap': 1, 'hydromel': 1, 'mauve': 1, 'lipped': 3, 'shell': 2, 'unicorns': 2, 'neighing': 1, 'cinnabar': 1, 'loom': 2, 'high': 4, 'venomous': 2, 'borgia': 1, 'philtres': 1, '“y': 1, 'entre': 1, 'puente': 2, 'y': 1, 'otro': 1, 'zaragoza': 1, 'es': 1, 'tierra.”': 1, 'blown': 1, 'brown': 3, 'velvet': 3, 'baldaquins': 1, 'guttural': 1, 'dulcimers': 1, 'rays': 1, 'rapid': 1, 'fishes’': 1, 'fins': 2, 'prisoned': 1, 'tanks': 1, 'profound': 2, 'nothing': 3, 'stirs': 2, 'nights': 2, 'ooze': 2, 'sounds': 2, 'lattice': 1, 'fixed': 2, 'bulging': 2, 'balconies': 1, 'brain': 4, 'built': 2, 'castles': 1, 'rapidly': 1, 'tolled': 1, 'metallic': 1, 'beaten': 2, 'bell': 2, 'hard': 4, 'copper': 3, 'straggling': 2, 'aimlessly': 1, 'over': 7, 'ravine': 1, 'granite': 2, 'citadel': 1, 'cities': 1, 'unpremeditated': 1, 'draughts': 1, 'space': 1, 'inhaled': 1, 'scorching': 1, 'cathedrals': 1, 'cachalots': 1, 'height': 1, 'sudden': 1, 'glow': 2, 'glossy': 1, 'floors': 1, 'reflect': 1, 'crimson': 3, 'clots': 3, 'vestment': 1, 'swirling': 1, 'swishing': 1, 'fro': 2, 'beadle': 1, 'taps': 1, 'ponderous': 3, 'mace': 1, 'echoes': 2, 'rustle': 1, 'altar’s': 1, 'lace': 1, 'within': 11, 'town': 4, 'feeble': 2, 'electric': 3, 'among': 7, 'dusty': 2, 'foliage': 2, 'gentle': 2, 'steely': 1, 'smooth': 2, 'silver': 6, 'jubilees': 1, 'saints': 1, 'frequent': 1, 'thoughtfulness': 2, 'citizens': 1, 'give': 4, 'dress': 2, 'they': 26, 'lift': 1, 'gilded': 4, 'canopy': 1, 'studded': 1, 'far': 4, 'peru': 1, 'which': 16, 'stands': 1, 'sumptuous': 1, 'realistic': 1, 'eye': 4, 'gaping': 2, 'jewel': 2, 'sprouting': 1, 'hands': 9, 'paper': 1, 'magenta': 1, 'ceremony': 1, 'done': 2, 'people': 1, 'doff': 1, 'piety': 1, 'serrated': 1, 'resound': 1, 'gossip': 1, 'vacuous': 1, 'laughter': 5, 'idle': 1, 'scoff': 1, 'strips': 3, 'tape': 2, 'scattered': 1, 'crowds': 4, 'confound': 1, 'mantillas': 1, 'rout': 1, 'dusky': 1, 'stray': 2, 'thoughts': 7, 'jerk': 1, 'clatter': 2, 'austere': 3, 'yet': 11, 'it': 40, 'utters': 1, 'flesh': 10, 'longing': 2, 'ache': 1, 'contact': 1, 'speech': 1, 'melodious': 1, 'mesh': 1, 'don': 1, 'juans': 1, 'sanguine': 1, 'passions': 3, 'strong': 2, 'sprinkled': 1, 'seed': 1, 'tainted': 1, 'glitters': 1, 'dazzle': 1, 'young': 9, 'jagged': 1, 'umber': 1, 'ridges': 1, 'freaked': 1, 'lines': 2, 'bitumen': 1, 'lakes': 1, 'vague': 6, 'waste': 1, 'lands': 3, 'gypsies': 1, 'squatting': 1, 'croon': 3, 'winged': 1, 'abandoned': 2, 'musics': 1, 'expire': 1, 'bruised': 2, 'herbs': 2, 'gushed': 1, 'agonies': 2, 'lances': 1, 'hurled': 1, 'pulseless': 1, 'arteries': 1, 'vapours': 2, 'anchored': 1, 'mountain’s': 1, 'legioned': 2, 'remote': 1, 'abstract': 2, 'withal': 2, 'evocative': 1, 'infinity': 1, 'becoming': 1, 'metaphysical': 1, 'breeds': 1, 'ash': 1, 'been': 2, 'spain': 1, 'sprawl': 1, 'up': 16, 'trumpets': 1, 'viridian': 1, 'fibred': 1, 'brittle': 3, 'massy': 1, 'creak': 1, 'burdened': 1, 'prismed': 1, 'stalactites': 1, 'wounds': 2, 'pendulous': 1, 'pagoda': 1, 'whirs': 1, 'some': 21, 'silenus': 1, 'fumbling': 2, 'frantic': 1, 'cleft': 1, 'honey': 2, 'whittling': 1, 'dust': 2, 'little': 5, 'hispid': 2, 'hungry': 2, 'lo': 3, 'thinned': 2, 'finger': 1, 'nail’s': 1, 'fine': 2, 'fringe': 1, 'forlorn': 1, 'spring’s': 1, 'flown': 1, 'hollow': 4, 'spells': 3, 'passionless': 1, 'statue': 1, 'mind': 9, 'passion': 2, 'nescient': 1, 'stammered': 1, 'ingenuities': 1, 'summer': 4, 'crackled': 1, 'yawn': 1, 'big': 2, 'consummation': 1, 'desire': 2, 'starved': 1, 'lean': 3, 'ribbed': 1, 'dog': 1, 'rheumy': 1, 'yelps': 1, 'thin': 2, 'thread': 1, 'voice': 7, 'nigh': 2, 'snaps': 1, 'trails': 1, 'its': 14, 'note': 2, 'growl': 1, 'tumbles': 2, 'stark': 1, 'amongst': 6, 'barbèd': 1, 'minutes': 1, 'shiver': 2, 'chillily': 1, 'wait': 3, 'something': 2, 'ho': 1, 'who’s': 3, 'man': 10, 'torn': 2, 'catafalque': 1, 'barren': 2, 'patriarchal': 1, 'bearded': 2, 'bones': 3, 'daft': 1, 'dazed': 3, 'drink': 1, 'shuffles': 1, 'slipshod': 1, 'scattering': 1, 'sprays': 1, 'crisply': 1, 'sparkling': 2, 'clanks': 1, 'rusty': 2, 'mail': 1, 'flaps': 1, 'ogling': 1, 'draws': 1, 'dance': 3, '“no': 2, 'malady': 1, 'unlived': 1, 'grand': 1, 'opera': 1, 'effects': 1, 'heroic': 1, 'sunsets': 2, 'wear': 2, 'whirlpool’s': 1, 'mist': 1, 'good': 3, 'evil': 2, 'revealed': 1, 'meaning': 1, 'significance': 1, 'clamour': 1, 'viscous': 2, 'sentimental': 2, 'sanatoriums': 1, 'frowning': 1, 'stoic': 1, 'caryatides': 1, 'contemplate': 1, 'decorous': 2, 'solitude': 4, 'elegant': 3, 'golgotha': 1, 'futile': 1, 'birth': 3, 'fraudulent': 1, 'mountebanks': 1, 'unmanicured': 1, 'life’s': 1, 'nails': 2, 'grapple': 1, 'flanks': 2, 'without': 7, 'murmur': 1, 'trembling': 2, 'vessel': 2, 'sprayed': 1, 'oblivion’s': 1, 'arms': 4, 'sepulchral': 1, 'inchoate': 1, 'truth': 2, 'await': 2, 'kind': 3, 'close': 2, 'red': 5, 'lashless': 1, 'eyelids': 2, 'fair....”': 1, 'oh': 19, 'heard': 4, 'chaunt': 1, 'snails': 1, 'tilting': 1, 'upon': 22, 'leaf': 1, 'held': 2, 'insect': 1, 'fief': 1, 'pared': 1, 'devil’s': 1, 'parlied': 1, 'ballet': 1, 'bats': 2, 'watched': 2, 'sloths': 1, 'our': 35, 'acrobats': 1, 'performing': 1, 'antic': 1, 'shows': 1, 'drunk': 1, 'bathed': 3, 'bubbles': 2, 'gay': 2, 'grasshoppers': 1, 'use': 1, 'bodies': 1, 'guitars': 1, 'if': 12, 'you’ve': 2, 'or': 25, 'satyr’s': 1, 'beard': 1, 'sawn': 1, 'filed': 1, 'faun': 1, 'we': 25, 'admit': 1, 'band': 1, 'hedonistic': 1, 'drive': 1, 'chariots': 2, 'lead': 2, 'empery': 1, 'languid': 6, 'dappled': 2, 'damson': 1, 'dawns': 1, 'hush': 2, 'left': 4, 'marriage': 1, 'chill': 4, 'sweat': 3, 'face': 2, 'chalk': 2, 'spoke': 1, 'hoarsely': 1, 'wife': 2, 'wakened': 1, 'howls': 1, 'clutched': 1, 'post': 2, 'dumb': 2, 'fright': 1, 'surprise': 1, 'lepers': 1, 'huddled': 1, 'under': 1, 'cowls': 1, 'films': 1, 'husband’s': 1, '“i': 4, 'am': 6, 'become': 3, 'wolf,”': 1, 'said': 4, '“and': 2, 'churchyard': 1, 'site': 1, 'throttle': 1, 'graves': 1, 'raise': 1, 'fare': 1, 'night!”': 1, 'barking': 1, 'slice': 1, 'scampered': 1, 'nimbly': 1, 'fours': 1, 'noon': 1, 'spied': 1, 'imprint': 1, 'wolf’s': 1, 'claws': 1, 'us': 9, 'sing': 9, 'world’s': 3, 'silence': 9, 'overspreads': 1, 'crevice': 1, 'muscle': 3, 'wimpling': 1, 'haze': 1, 'ragged': 1, 'fustian': 1, 'twilight': 3, 'mounting': 1, 'æther': 1, 'break': 4, 'circles': 2, 'bosoming': 1, 'trout': 1, 'troubled': 1, 'still': 6, 'pool': 2, 'scatter': 2, 'pack': 1, 'worry': 1, 'grind': 2, 'ravish': 1, 'tread': 2, 'crawl': 1, 'before': 13, 'oil': 2, 'worm': 3, 'shame': 1, 'mean': 1, 'squamous': 1, 'hysteria': 1, 'guide': 1, 'heave': 1, 'swell': 1, 'shriek': 3, 'till': 3, 'engender': 1, 'fear': 5, 'palaces': 1, 'sharp': 3, 'discords': 1, 'ring': 2, 'rinse': 1, 'lightning': 3, 'vaulted': 1, 'roofs': 1, 'sunset': 1, 'hour': 2, 'skies': 6, 'smeared': 1, 'drown': 3, 'viol’s': 1, 'pallid': 6, 'notes': 3, 'submerge': 1, 'fevered': 1, 'pluckings': 1, 'rippling': 1, 'cadences': 1, 'spilled': 1, 'riot': 2, 'drums': 3, 'fescennine': 1, 'gongs': 1, 'kindle': 1, 'blaze': 1, 'thus': 3, 'fumes': 2, 'well': 10, 'ballasted': 1, 'steer': 1, 'towards': 4, 'placid': 1, 'them': 8, 'reel': 3, 'lives': 5, 'cratered': 1, 'pocks': 1, 'scabs': 1, 'meticulously': 1, 'morselled': 1, 'pangs': 1, 'scream': 2, 'years': 2, 'between': 1, 'childhood': 3, 'uneasy': 1, 'puberty': 1, 'adolescence': 1, 'maturity': 1, 'resolve': 2, 'tormented': 2, 'slow': 4, 'decay': 5, 'crabbed': 1, 'agued': 1, 'rheumatic': 1, 'cough': 3, 'less': 1, 'fortunate': 1, 'plunging': 1, 'pistons': 1, 'press': 1, 'lumbering': 1, 'massed': 2, 'squadrons': 1, 'vitriol': 2, 'blister': 1, 'anæmic': 1, 'orb': 1, 'hours': 6, 'dawn': 1, 'hilewort': 1, 'nightshade': 1, 'agrimony': 1, 'wand': 1, 'surrender': 3, 'fingers': 7, 'bare': 2, 'throats': 2, 'loose': 1, 'luckless': 1, 'women': 2, 'bear': 3, 'children': 3, 'hare': 1, 'others': 1, 'lunatick': 1, 'brains': 1, 'shifting': 1, 'dandle': 1, 'curly': 1, 'lolling': 1, 'tongues': 3, 'clicking': 1, 'moist': 3, 'unrestrained': 1, 'saliva': 1, 'perhaps': 4, '’twere': 2, 'better': 4, 'born': 5, 'ugliness': 1, 'mirrors': 1, 'noisome': 1, 'clammy': 1, 'grown': 5, 'fungi': 1, 'pushing': 1, 'hold': 4, 'palpable': 1, 'tones': 1, 'undertones': 1, 'hues': 1, 'glowing': 1, 'forms': 1, 'silk': 3, 'embroideries': 1, 'too': 8, 'seem': 5, 'rhythmic': 1, 'motion': 1, 'saraband': 1, 'tortured': 1, 'cripple': 1, 'crouching': 2, 'blotting': 1, 'shadows': 2, 'soul': 9, 'nurse': 19, 'oaths': 1, 'blight': 1, 'scarred': 1, 'sickly': 1, 'remorse': 1, 'sputtered': 1, 'writhing': 4, 'revolver': 1, 'fired': 2, 'loud': 1, 'report': 1, 'welcome': 2, 'ears': 8, 'tremble': 1, 'clutch': 1, 'chair': 1, 'gnawed': 1, 'flayed': 1, 'every': 3, 'manner': 2, 'disease': 1, 'eaten': 1, 'lice': 2, 'spawn': 2, 'slugs': 1, 'cancer': 2, 'scrabbles': 1, 'vitals': 1, 'pox': 1, 'ploughs': 1, 'faces': 2, 'ruts': 1, 'scurvy': 1, 'furrows': 1, 'deformities': 1, 'distend': 2, 'hunch': 1, 'monstrous': 2, 'shapes': 1, 'gripping': 1, 'realities': 1, 'scrape': 2, 'livid': 1, 'grave': 4, 'slime': 2, 'calcined': 3, 'ashen': 2, 'leprosy': 2, 'terror': 4, 'dreadful': 1, 'touch': 5, 'cause': 1, 'pappy': 1, 'fruit': 2, 'pluck': 1, 'prowling': 1, 'beasts': 1, 'turn': 1, 'haste': 2, 'flee': 1, 'weary': 3, 'footsteps': 2, 'quickened': 1, 'hearts': 2, 'grated': 1, 'themselves': 2, 'groin': 1, 'lappered': 1, 'morphews': 1, 'wanton': 1, 'mirth': 1, 'fashion': 1, 'crackling': 2, 'pearls': 2, 'pelt': 1, 'wine': 3, 'drenched': 1, 'loves': 1, 'sung': 1, 'clowns': 1, 'tragedians': 1, 'pierrot’s': 1, 'crinkled': 1, 'roguish': 1, 'harlequin': 1, 'apple': 2, 'blobbed': 1, 'wanders': 2, 'bergamo': 1, 'alone': 8, 'utter': 2, 'silences': 2, 'sobs': 2, 'hugely': 1, 'spasms': 1, 'echoing': 2, 'jeer': 1, 'mock': 1, 'abortive': 1, 'fools': 1, 'zigzags': 1, 'comets': 1, 'tipsy': 1, 'girls': 1, 'bulbous': 1, 'rain': 6, 'chains': 1, 'frenzied': 2, 'city': 1, 'beats': 1, 'bourdon': 2, 'drumming': 1, 'heavy': 7, 'apoplectic': 1, 'passing': 1, 'watch': 4, 'walk': 2, 'beards': 1, 'glittering': 1, 'until': 4, 'merge': 1, 'chimney’s': 1, 'fat': 1, 'cigars': 1, 'while': 7, 'lovers': 2, 'foolishness': 1, 'lisp': 1, 'hopes': 2, 'fears': 2, 'void': 3, 'emptiness': 1, 'time': 4, 'clatters': 1, 'disappears': 1, 'eight': 1, 'days': 3, 'calm': 4, 'cultivate': 1, 'tulips': 1, 'fixedly': 1, 'flick': 1, 'flighty': 1, 'freckled': 1, 'mocking': 1, 'sweetly': 1, 'blares': 1, 'soon': 5, 'gas': 2, 'near': 3, 'extinct': 1, 'plush': 1, 'last': 3, 'flares': 1, 'ebbed': 1, 'witness': 1, 'second': 1, 'empire': 1, 'cabriolets': 1, 'echoed': 1, 'caracoled': 1, 'busselled': 1, 'courtesans': 1, 'lit': 2, 'boulevards': 1, 'avenues': 1, 'paul': 1, 'verlaine': 1, 'candle': 2, 'hand': 2, 'totter': 1, 'comme': 1, 'un': 2, 'point': 1, 'sur': 1, 'orotund': 1, 'crapulous': 1, 'velleities': 1, 'batteries': 1, 'headaches': 1, 'temples': 1, 'humanity': 1, 'network': 1, 'pure': 2, 'electricity': 1, 'installed': 1, 'quick': 5, 'transmission': 1, 'pours': 2, 'perpetual': 2, 'men': 9, 'plough': 2, 'fields': 6, 'searchlights': 2, 'blatant': 1, 'geometrical': 1, 'god': 7, 'aeroplane': 1, 'created': 3, 'mass': 1, 'accusing': 1, 'forewarning': 1, 'empresses': 1, 'cushions': 2, 'delicately': 1, 'moulded': 1, 'subtle': 2, 'stone': 3, 'instead': 1, 'being': 5, 'merely': 1, 'bone': 1, 'we’d': 1, 'imitate': 1, 'curves': 3, 'hot': 4, 'shattered': 2, 'nerves': 1, 'clot': 1, 'petrify': 1, 'fossilize': 2, 'moss': 2, 'finnèd': 1, 'soaking': 1, 'irises': 1, 'looped': 1, 'tiredness': 1, 'swollen': 2, 'reds': 1, 'damask': 1, 'four': 1, 'beds': 2, 'ecstasy': 1, 'violets': 1, 'virgin': 3, 'forest’s': 1, 'coral': 1, 'sponges': 1, 'dab': 1, 'weft': 1, 'hear': 8, 'piece': 1, 'tiny': 2, 'concertina': 1, 'push': 1, 'inrush': 1, 'sobbing': 2, 'gently': 2, 'inward': 1, 'why': 9, 'do': 16, 'customs': 1, 'lost': 2, 'dying': 2, 'flames': 2, 'strangers': 1, 'beams': 1, 'fly': 2, 'towers': 2, 'knees': 1, 'horrible': 1, 'look': 4, 'wish': 5, 'hurl': 4, 'ourselves': 1, 'ant': 1, 'herd': 1, 'below': 2, 'feel': 4, 'spray': 2, 'entrails': 3, 'they’d': 2, 'recoil': 1, 'faints': 1, 'care': 3, 'paramour': 1, 'winding': 1, 'sheets': 1, 'empedocles': 1, 'lower': 1, 'volcano': 1, 'craters': 1, 'believe': 3, 'mighty': 1, 'translated': 2, 'company': 2, 'dolphins’': 1, 'backs': 1, 'across': 5, 'nectar': 1, 'lake': 4, 'share': 2, 'glory': 1, 'attributes': 1, 'incense': 2, 'fruits': 1, 'dangle': 3, 'exotic': 1, 'ripe': 2, 'hesperides': 1, 'architect': 1, 'ruin': 2, 'onion': 1, 'eyed': 1, 'fierce': 4, 'tyrant': 1, 'tapestry': 1, 'die': 6, 'finality': 1, 'cheese': 1, 'mites': 1, 'gap': 1, 'stumblings': 1, 'hordes': 1, 'rend': 1, 'fabric': 1, 'called': 1, 'reality': 1, 'sluice': 2, 'molten': 1, 'winds': 2, 'disperse': 1, 'empty': 3, 'holes': 1, 'sense': 4, 'burstings': 1, 'globes': 1, 'louder': 1, 'heat': 3, 'burning': 3, 'dull': 3, 'thunder': 2, 'tune': 2, 'piccolo': 1, 'musical': 1, 'unemployed': 1, 'know': 8, 'angel': 1, 'pink': 1, 'sugar': 1, 'trying': 1, 'cheerful': 1, 'side': 1, 'things': 7, '“it': 1, 'dangerous': 1, 'window.”': 1, 'doubt': 4, 'meteors': 1, 'shoot': 1, 'athwart': 1, 'haunts': 1, 'sight': 1, 'read': 3, 're': 3, 'advice': 1, 'english': 1, 'play': 4, 'game': 1, 'dice': 1, 'mental': 3, 'cannonades': 1, 'foamless': 1, 'islands': 1, 'flow’rs': 1, 'prismatic': 1, 'juicy': 1, 'glades': 1, 'bee': 1, 'pasturing': 1, '“in': 1, 'case': 1, 'danger': 1, 'pull': 1, 'ring.”': 1, 'girl': 2, 'arranges': 1, 'mellifluous': 1, 'grin': 1, 'eternal': 4, 'teas': 1, 'afternoons': 3, 'begin': 1, 'lurk': 1, 'forests': 1, 'vividness': 2, 'cuts': 1, 'nostrils': 1, 'draw': 2, 'vital': 1, 'quiver': 2, 'discern': 1, 'awkward': 2, 'crevices': 2, 'signal': 1, 'd’alarme': 1, 'recalls': 1, 'fact': 1, 'safe': 1, 'harm': 1, 'count': 2, 'pendulum': 1, 'pardie': 1, 'freighted': 1, 'smuts': 1, 'heaves': 1, 'metal': 2, 'nor': 4, 'heeds': 1, 'broad': 1, 'moon’s': 2, 'behests': 1, 'lingering': 1, 'luminous': 1, 'mired': 1, 'wrinkling': 1, 'diaphanous': 1, 'floats': 1, 'supple': 1, 'pose': 1, 'whispers': 1, 'invitations': 1, 'don’t': 1, 'care!”': 1, 'replies': 2, 'although': 1, 'glows': 1, 'tempest': 1, 'sifted': 1, 'snows': 1, 'pursuing': 1, 'moral': 1, 'exercise': 1, 'burst': 4, 'criterion': 1, 'defies': 1, 'shuddering': 1, 'spurts': 1, 'harlotry': 1, 'pavilioned': 1, 'chastity': 3, 'damn,”': 1, 'yawned': 1, 'feigned': 1, 'inconsequence': 1, 'boredom': 2, 'exquisite': 3, 'fence': 1, 'hide': 2, 'explosions': 1, 'sucked': 1, 'surroundings': 1, 'whole': 2, 'grim': 2, 'youth': 2, 'returned': 1, 'sullen': 2, 'burned': 2, 'could': 8, 'mouthed': 1, 'curse': 3, 'oath': 1, 'obscene': 1, 'horror': 3, 'glib': 1, 'familiar': 2, 'scene': 2, 'clayey': 1, 'lump': 1, 'stuck': 1, 'blistered': 2, 'chrysallic': 1, 'garlic': 1, 'myosote': 1, 'rows': 3, 'beans': 1, 'artichokes': 1, 'field': 1, 'interminably': 2, 'patterned': 3, 'jigged': 1, 'reeled': 1, 'corridors': 1, 'memory': 2, '“is': 1, 'happy': 1, 'dismal': 5, 'fallacy': 1, 'think': 2, 'lilies': 4, 'smell': 1, 'stink.”': 1, 'here': 5, 'best': 1, 'coolly': 1, 'leaked': 1, 'driblets': 1, 'tap': 1, 'disarray': 1, 'tumbled': 1, 'clean': 1, 'stunted': 2, 'senses': 2, 'ignorance': 1, 'shone': 1, 'twinkled': 1, 'chopped': 2, 'lagoon': 1, '“this': 1, 'foggy': 1, 'circumstance,”': 1, '“where': 1, 'timid': 1, 'mortals': 1, 'advance': 2, 'claim': 1, 'drain': 1, 'what': 13, 'cup': 3, 'offer': 1, 'boy': 1, 'rôle': 1, 'tantalus': 1, 'leave': 5, 'place': 1, 'discharge': 1, 'blunderbuss': 1, 'present': 1, 'drawling': 1, 'mode': 1, 'i’m': 6, 'plague': 1, 'though': 3, 'true': 2, 'partner': 1, 'flaccid': 1, 'plump': 1, 'suckle': 1, 'babes': 2, 'kissing': 1, 'babe': 1, 'wither': 2, 'die.”': 1, 'picked': 1, 'teeth': 1, 'fetched': 1, 'windy': 2, 'sigh': 2, 'informed': 1, 'father': 2, 'bold': 1, 'told': 4, 'cost': 1, 'involve': 1, 'settling': 1, 'accounts': 1, 'bade': 1, 'farewell': 2, 'damned': 1, 'domestic': 1, 'hell': 2, 'wagon': 1, 'lits': 1, 'tickets': 1, 'bought': 1, 'cook’s': 1, 'surpassing': 1, 'fairy': 1, 'books': 1, 'exhalations': 1, 'spicy': 2, 'smells': 1, 'poe': 1, 'harmonies': 1, 'bells': 2, 'venice': 2, 'ruskin': 1, 'deadly': 1, 'lamps': 1, 'pulsing': 2, 'cafés': 1, 'patchouli’d': 1, 'vamps': 1, 'sticky': 1, 'throbbing': 1, 'watteau': 1, 'fêtes': 1, 'galantes': 1, 'bistre': 1, 'sombrero’d': 1, 'poets': 2, 'purchase': 1, 'food': 1, 'graceful': 1, 'unwashed': 1, 'flung': 1, 'proud': 1, 'gestures': 1, 'southern': 1, 'shiny': 1, 'shoes': 1, 'tips': 1, 'carmine': 1, 'rouged': 1, 'pursed': 1, 'petulance': 1, 'man’s': 5, 'pockets': 1, 'piteously': 1, 'yearned': 1, 'lucre': 1, 'he’d': 3, 'lain': 3, 'shirt': 1, 'front': 1, 'soaked': 1, 'squelching': 1, 'champagne': 2, 'pleasures': 3, 'money': 1, 'volatile': 1, 'belching': 1, 'pol': 1, 'roger': 1, 'bile': 1, 'wreak': 1, 'revenge': 1, 'full': 3, 'given': 2, 'harlots': 2, 'since': 4, 'pay': 1, 'cash': 1, 'laughing': 2, '“one': 1, 'sucks': 1, 'throws': 2, 'peel.”': 1, 'vanity': 1, 'forbade': 1, 'kneel': 3, 'penitent': 1, 'father’s': 2, 'glare': 2, 'staged': 1, 'patronising': 1, 'stare': 5, 'family': 1, 'how': 12, 'clip': 1, 'became': 2, 'labourer': 1, 'slept': 2, 'musty': 1, 'garrets': 1, 'grey': 8, 'mice': 1, 'crept': 2, 'cobwebs': 1, 'gibbering': 1, 'scuttling': 1, 'cockroaches': 1, 'rats': 1, 'dragged': 1, 'bellies': 1, 'floor': 3, 'thud': 3, 'creaking': 2, 'door': 1, 'cavernous': 1, 'pane': 6, 'hiss': 2, 'crackle': 1, 'slant': 1, 'rivulets': 1, 'planks': 1, 'tramped': 1, 'played': 1, 'pranks': 1, 'leopard': 1, 'prancing': 1, 'divinely': 1, 'tough': 2, 'slapped': 1, 'sweated': 1, 'half': 6, 'crust': 1, 'bough': 1, 'nourishment': 1, 'figure': 2, 'line': 2, 'sweltering': 2, 'east': 1, 'flamed': 1, 'bronzed': 1, 'quite': 1, 'often': 2, 'oozing': 1, 'times': 2, 'pedant': 1, 'à': 1, 'propos': 1, 'rhymes': 1, 'hum': 1, 'whistle': 1, '“gosh': 1, 'looks': 2, 'immense': 2, 'met': 2, 'hortense,”': 1, 'genuine': 1, 'emotion': 2, 'reduced': 1, 'pawning': 1, 'coat': 1, 'hat': 3, 'dismissed': 1, 'superflux': 1, 'dreams': 4, 'bathing': 1, 'streams': 1, 'corn': 1, 'reap': 1, 'hay': 1, 'store': 1, 'soporific': 1, 'barns': 1, 'dreamt': 2, 'silken': 1, 'farmer': 1, 'tend': 1, 'swine': 2, 'weighty': 1, 'caked': 1, 'sow': 1, 'grunted': 1, 'suckled': 1, 'farrow': 1, 'cow': 1, 'lowed': 1, 'mellow': 1, 'snore': 1, 'mastiff': 1, 'whined': 1, 'demonstrate': 1, 'sheer': 3, 'vacancy': 1, '“shall': 1, 'go': 2, 'late': 1, 'gain': 1, 'entrance': 2, 'gate.”': 1, 'shook': 1, 'head': 2, 'muttered': 1, 'go.”': 1, 'acquired': 1, 'preference': 1, 'dine': 1, 'scraps': 1, 'confidential': 1, 'open': 2, 'window': 9, 'breezes': 1, 'wrinkled': 2, 'fused': 1, 'wedge': 3, 'shaped': 2, 'engines': 2, 'intensive': 1, 'split': 1, 'spun': 4, 'glass': 4, 'myriad': 1, 'particles': 1, 'minute': 1, 'spot': 2, 'swiftness': 1, 'hovers': 1, 'mute': 2, 'cleaves': 1, 'blurs': 1, 'plash': 1, 'oars': 1, 'rumour': 1, 'itself': 1, 'outbreathed': 1, 'lungs': 2, 'seems': 3, 'amorous': 1, 'trouble': 1, 'froth': 2, 'sorrowful': 1, 'exanimate': 1, 'subterranean': 2, 'dread': 4, 'puckers': 1, 'brooding': 1, 'weeps': 1, 'terrible': 2, 'garden': 1, 'sleeps': 2, 'desolate': 2, 'magnificence': 1, 'angkor': 1, 'eloquence': 1, 'blistering': 1, 'suns': 1, 'invectives': 1, 'vainly': 1, 'storms': 1, 'undisciplined': 1, 'plunge': 1, 'inanely': 1, 'steadfast': 1, 'walls': 1, 'nightingale': 3, 'enthralls': 1, 'quickly': 2, 'turbulent': 1, 'massive': 2, 'stillness': 1, 'snap': 2, 'sane': 1, 'malt': 1, 'rave': 1, 'weak': 1, 'pap': 1, 'aching': 1, 'apocalypse': 1, 'slake': 1, 'desires': 2, 'ashes': 1, 'pyres': 3, 'cremated': 1, 'hark': 1, 'failing': 1, 'distances': 2, 'spark': 1, 'flashed': 1, 'quivers': 1, 'breath': 2, 'flush': 1, 'fluid': 2, 'opened': 2, 'rush': 1, 'avalanche': 1, 'panic': 1, 'anguish': 3, 'surmise': 1, 'tragedy': 1, 'shake': 1, 'turf': 2, 'yields': 2, 'fitting': 3, 'shoe': 2, 'bananas': 2, 'sandwiches': 3, 'munch': 2, 'battle': 2, 'nature': 2, 'taken': 1, 'such': 1, 'sheen': 1, 'cruelly': 1, 'surely': 1, 'spate': 1, 'clashing': 1, 'contumacious': 1, 'worlds': 1, 'hate': 2, 'keep': 2, 'pace': 1, 'steel': 2, 'stagger': 1, 'ankleted': 1, 'yawning': 1, 'neath': 1, 'tremendous': 1, 'byre': 1, 'absurd': 4, 'courageous': 1, 'bustling': 1, 'business': 1, 'con': 1, 'masse': 1, 'mensch': 1, 'imaginary': 1, 'power': 2, 'cower': 1, 'charabancs’': 1, 'toot': 5, 'boot': 1, 'beer': 1, 'bottles': 2, 'men’s': 2, 'souls': 2, 'invisible': 1, 'billion': 1, 'gown': 1, 'did': 5, 'shrieks': 1, 'hang': 2, 'airily': 3, 'suspended': 1, 'eternity': 2, 'thousand': 1, 'tired': 2, 'formed': 3, 'enough': 4, 'speak': 4, 'roses': 1, 'asleep': 3, 'bo': 1, 'peep': 1, 'worn': 1, 'banalities': 1, 'sentimentalities': 1, 'tepid': 2, 'languor': 2, 'daffodillies': 1, 'dictated': 1, 'puccini': 1, 'orchestrated': 1, 'innumerable': 1, 'noah’s': 1, 'arks': 1, 'gasps': 1, 'gasp': 1, 'remarks': 1, 'puff': 1, 'abdullas': 1, 'central': 1, 'parks': 1, 'cross': 3, 'row': 2, 'silhouette': 1, 'slim': 2, 'ghastlily': 1, 'trim': 1, 'skeletons': 1, 'piled': 1, 'child': 4, 'discovering': 1, 'fraction': 1, 'bomb': 1, 'adventure': 1, 'wild': 1, 'performs': 1, 'jig': 1, 'aplomb': 1, 'knows': 2, 'mandrake': 2, 'root': 2, 'matters': 1, 'charabancs': 1, 'sky’s': 1, 'hallows’': 1, 'e’en': 1, 'voices': 1, 'lutany': 1, 'surge': 1, 'panes': 1, 'room': 2, 'rot': 1, 'rust': 1, 'filled': 1, 'sodden': 2, 'muted': 1, 'symphonies': 1, 'racked': 1, 'hunger': 1, 'memory’s': 1, 'stung': 1, 'star': 2, 'glint': 1, 'pierce': 2, 'lazaret': 1, 'me': 21, 'wallow': 1, 'guzzle': 2, 'greed': 1, 'doom': 1, 'gripped': 1, 'frost': 2, 'marauding': 1, 'begone': 1, 'loathsome': 1, 'try': 1, 'torturing': 1, 'purity': 1, 'prim': 3, 'formal': 1, 'stuffed': 1, 'loosely': 1, 'beaks': 1, 'beady': 1, 'pathetically': 1, 'sober': 1, 'domes': 1, 'pale': 3, 'frigid': 3, 'flute': 1, 'promenade': 1, 'suck': 1, 'fading': 1, 'native': 3, 'soot': 1, 'effect': 1, 'barred': 1, 'buildings': 1, 'smug': 1, 'sleek': 1, 'pat': 1, 'asphalt': 1, 'gamins': 1, 'drab': 1, 'nightingales': 1, 'cockney': 1, 'sparrows': 1, 'furry': 1, 'chin': 1, 'dirge': 2, 'assert': 1, 'yourselves': 1, 'trip': 2, 'weave': 1, 'patterns': 2, 'preen': 1, 'swan': 2, 'spread': 2, 'loll': 1, 'lilac': 1, 'heavily': 1, 'coolness': 1, 'limpid': 1, 'nebulousness': 1, 'dove': 1, 'tame': 1, 'zephyrs': 1, 'shapely': 1, 'loops': 1, 'fill': 1, 'trammel': 1, 'skirt': 1, 'celebral': 1, 'levers': 1, 'springs': 1, 'cogs': 1, 'oiled': 1, 'you’ll': 2, 'naked': 2, 'unembarrassed': 1, 'answered': 1, 'blocked': 1, 'dribble': 1, 'pleasant': 1, 'flickers': 1, 'dissonance': 1, 'discord': 1, 'darts': 1, 'cleave': 1, 'ear': 3, 'strut': 1, 'madly': 1, 'stridently': 1, 'ants': 1, 'waving': 1, 'antennæ': 1, 'struggle': 1, 'bravely': 1, 'burdens': 1, 'two': 4, 'twinkle': 1, 'hueless': 1, 'dart': 1, 'flash': 1, 'wagtails': 1, 'sulphurous': 1, 'askew': 1, 'sway': 1, 'perilously': 1, 'drunkard’s': 1, 'puckered': 1, 'flit': 1, 'stumble': 1, 'tragedies': 1, '“oh': 2, 'twine': 1, 'merry': 3, 'wreaths,”': 1, 'say': 4, '“gay': 1, 'wreaths': 1, 'festoons': 1, 'brow!”': 1, 'glasses': 1, 'liqueur': 1, 'frighten': 1, 'subtly': 1, 'million': 2, 'droning': 1, 'mottled': 2, 'thrushes': 1, 'ombre': 1, 'gateways': 1, 'loitered': 1, 'stopped': 1, 'unto': 1, 'nearest': 1, 'brother': 1, 'toad': 1, 'forest': 3, 'cobras': 1, 'propped': 1, 'twists': 1, 'frothy': 1, 'treetops': 1, 'abode': 1, '“toad': 1, 'salute': 1, 'chilly': 1, 'mignonette': 1, 'modesty.”': 1, 'sin': 1, 'steeped': 1, 'lethargy': 1, 'centuple': 1, 'wisdom': 1, 'folded': 1, 'stared': 1, 'humble': 1, 'seemed': 2, 'maddened': 1, 'hieronymo': 1, 'followed': 1, 'thoughtful': 1, 'cranes': 1, 'drearily': 1, 'desolations': 1, 'rains': 1, 'ridge': 1, 'rhodope': 1, 'piteous': 1, 'dropped': 1, 'poem': 3, 'dived': 1, 'spilt': 1, 'genethliacs': 1, 'mellowed': 1, 'turtle': 1, 'feathers': 2, 'free': 2, 'flurry': 1, 'teasing': 1, 'brine': 1, 'youths': 1, 'wandered': 1, 'myrtle': 1, 'grove.[a': 1, 'oaten': 1, 'pipe': 1, 'made': 1, 'rich': 2, 'bandaliers': 1, 'pulpy': 1, 'moistened': 1, 'membranes': 2, 'dissolved': 1, 'remember': 1, 'flora': 1, 'daisies': 1, 'strewed': 1, 'chased': 1, 'jet': 2, 'butterflies': 1, 'looking': 3, 'rippled': 1, 'cloud': 1, 'shunned': 1, 'fell': 3, 'triply': 1, 'sewing': 1, 'shroud': 1, 'lest': 1, 'should': 3, 'mar': 1, 'self': 3, 'fomenting': 1, 'strife': 1, 'cultivated': 1, 'derived': 3, 'pope': 1, 'inane': 1, 'perspective': 1, 'stretched': 2, 'behind': 2, 'wall': 3, 'yard': 2, 'neat': 1, 'intervals': 1, 'oblongs': 1, 'squat': 2, 'tall': 1, 'dims': 1, 'glints': 1, 'square': 1, 'clinging': 1, 'moistures': 1, 'glut': 1, 'mists': 1, 'heavier': 1, 'rooms': 1, 'somebody': 2, 'watches': 1, 'pit': 1, 'stirred': 3, 'live': 5, 'packed': 1, 'exasperated': 1, 'callous': 1, 'unfamiliar': 1, 'sordid': 2, 'chiaroscuro': 1, 'hives': 1, 'neighbour’s': 2, 'woes': 1, 'gutters': 1, 'stagnations': 1, 'defeats': 1, 'ruins': 2, 'unmade': 1, 'interminable': 1, 'agonising': 1, 'stranger': 1, 'afraid': 1, '“talk': 1, 'somewhat': 1, 'imagination': 1, 'carry': 1, 'shameful': 1, 'act': 1, 'sin.”': 1, 'duchess': 1, 'malfi': 1, 'morning': 2, 'evening': 3, 'fumble': 1, 'i’ve': 3, 'rest': 3, 'dusk': 2, 'tearing': 1, 'polar': 1, 'stags': 1, 'may': 4, 'frolic': 1, 'woods': 1, 'beyond': 2, 'aught': 1, 'furbished': 1, 'detached': 1, 'identities': 1, 'freeze': 1, 'charming': 1, 'rack': 1, 'manufactured': 1, 'despair': 3, 'coax': 1, 'courteous': 1, 'isolated': 1, 'agonizing': 1, 'rafter': 1, 'carillons': 1, 'bleached': 1, 'emaciated': 2, 'yells': 1, 'burgeon': 1, 'petalled': 1, 'peals': 1, 'flamboyant': 1, 'moons': 2, 'petticoats': 1, '“patience': 1, 'rebel': 1, 'calm!”': 1, 'darkness': 1, '“you’ll': 1, 'choke': 1, 'time’s': 2, 'lead.”': 1, 'knew': 1, 'bled': 1, 'pellucid': 1, 'ah': 3, 'animalculus': 1, 'humped': 1, 'purred': 1, 'again?”': 2, 'ophelia': 1, 'makes': 2, 'yellow': 2, '“o': 1, 'despair?”': 1, 'vain': 3, 'begs': 1, 'strutting': 1, 'chanticleer': 1, 'intellectual': 1, 'oberon': 1, 'lying': 1, 'bier': 2, 'listens': 1, 'noise': 1, 'weed': 2, 'drifting': 2, 'screw': 1, 'groans': 2, 'there’s': 1, 'seal': 1, 'lipless': 1, 'mouths': 1, '“by': 2, 'peacock’s': 1, 'tail': 1, 'rival': 1, 'heaven’s': 1, 'conjure': 1, 'reply': 1, 'any': 1, 'lover’s': 1, 'shoon': 1, 'wears': 1, 'fluted': 1, 'cockle': 1, 'staff': 1, 'briar': 1, 'wood': 1, 'hair’s': 2, 'flaxen': 1, 'mat': 1, 'river': 1, 'flood': 1, 'tumble': 1, 'poll.”': 1, 'cried': 1, 'save': 2, 'ha’': 1, 'mercy': 1, 'molewarp’s': 1, 'pismire’s': 1, 'gall': 1, 'whom': 4, 'return': 2, 'pity’s': 1, 'sake': 1, 'breathed': 1, 'lullaby': 1, 'slothful': 1, 'charon': 1, 'barge': 1, 'rowed': 1, 'ferried': 1, 'stygian': 1, 'console': 2, 'myself': 5, 'sit': 1, 'rank': 1, 'unwholesome': 1, 'dews': 1, 'whining': 1, 'pheasant': 1, 'human': 3, 'grain': 1, 'yews': 1, 'turtles': 1, 'pain': 1, 'spiny': 1, 'pines': 1, 'diffuse': 1, 'noxious': 1, 'shade': 2, 'wage': 1, 'series': 1, 'intestine': 1, 'wars': 2, 'listening': 1, 'wolves': 1, 'milder': 1, 'glade': 1, 'breathing': 1, 'spring': 2, 'shepherd': 1, 'polishes': 1, 'sores': 1, 'languish': 1, 'living': 1, 'teem': 1, 'sative': 1, 'plants': 1, 'cynthia': 1, 'fills': 1, 'horn': 2, 'fiery': 1, 'organons': 1, 'attempt': 1, 'dies': 1, 'tense': 2, 'tensity': 2, 'vex': 1, 'hoped': 1, 'blackened': 1, 'raven': 1, 'reflex': 1, 'aspiring': 1, 'fret': 1, 'grope': 2, 'unsuspected': 1, 'orts': 2, 'fed': 2, 'sapless': 1, 'other': 2, 'slips': 1, 'nations': 1, 'wander': 3, 'film': 1, 'glaze': 1, 'pores': 1, 'impatient': 1, 'athyr_[b': 1, 'womb': 1, 'cringing': 1, 'tingle': 2, 'flickering': 1, 'plant': 1, 'withering': 1, 'ready': 1, 'ether': 1, 'sounding': 1, 'oozily': 1, 'stricken': 1, 'desert': 2, 'letters': 1, 'stones': 2, '“_lord': 1, 'jesus': 1, 'christ_”': 1, 'further': 1, '“_soul_”': 1, 'erased': 1, 'script': 1, 'droppings': 1, 'wrested': 1, 'home': 1, '“_in': 1, 'athyr_”': 1, '“_lucius': 1, 'asleep_”': 1, 'mentioned': 1, 'damaged': 1, 'parts': 2, 'foam': 1, 'centuries': 3, 'disfigured': 1, '“_tears_.”': 1, '“_tears_”': 1, '“_for': 1, 'friends': 1, 'weep_”': 1, 'lucius': 2, 'much': 2, 'belovèd': 1, 'appears': 1, 'november': 2, 'b': 1, 'ancient': 2, 'egyptian': 1, 'c': 2, 'p': 1, 'cavafy': 1, 'discovered': 2, 'suit': 1, 'moods': 1, 'aristotle': 1, 'tome': 1, 'splash': 1, 'fowl’s': 1, 'comb': 1, 'boled': 1, 'unleaving': 1, 'organ': 1, 'pipes': 1, 'sometimes': 2, 'run': 2, 'false': 1, 'rooks': 2, 'twigs': 1, 'valse': 1, 'treetop': 1, 'yarn': 1, 'cry': 1, 'trees’': 1, 'hemlock': 1, 'smelt': 1, 'dank': 1, 'wafture': 1, 'fume': 1, 'tawny': 1, 'bellied': 1, 'spirals': 1, 'grieves': 1, 'globuled': 1, 'frog': 1, 'ditch': 1, 'wonder': 1, 'vast': 1, 'moans': 1, 'raping': 1, 'bees’': 1, 'repast': 1, 'sluiced': 1, 'ripples': 1, 'crawling': 1, 'lagoons': 1, 'erase': 1, 'forget': 1, 'obliterate': 1, 'mood': 1, 'antarctic': 1, 'merged': 1, 'icebergs': 1, 'twinkling': 1, 'seas': 1, 'gaunt': 2, 'pinched': 1, 'palsied': 1, 'cramped': 1, 'nimble': 2, 'slaves': 1, 'print': 1, 'sands': 1, 'dimpled': 1, 'march': 1, 'rapt': 1, 'fleered': 1, 'leapt': 1, 'sparks': 1, 'hawthorn': 1, 'bloom': 1, 'whiter': 1, 'candles': 1, 'churches': 1, 'twilit': 1, 'speaks': 1, 'colour': 1, 'south': 1, 'trembled': 1, 'linnet’s': 1, 'mere': 2, 'forgotten': 3, '“_once': 1, 'breast': 1, 'charred': 1, 'coal': 2, 'christ': 2, 'receive': 2, 'soul!_”': 1, 'constipation': 1, 'shivering': 2, 'went': 1, 'ease': 1, 'plangent': 1, 'cracked': 2, 'neutral': 1, 'specks': 1, 'surly': 1, 'whirred': 1, 'cawing': 1, 'sombre': 5, 'withered': 1, 'traceries': 1, 'multitudinous': 1, 'gravel': 1, 'path': 2, 'frosted': 1, 'glittered': 1, 'bleared': 1, 'railing': 1, 'bars': 1, 'furred': 1, 'lichen': 1, 'bristled': 1, 'gothic': 1, 'spires': 1, 'lustrous': 1, 'distance': 2, 'disturbed': 1, 'crunch': 1, 'passed': 1, '“good': 1, 'mr': 1, 'gosling.”': 1, 'day!”': 1, '“bit': 2, 'nippy': 2, 'weather!”': 1, 'strode': 1, 'patch': 1, 'work': 1, 'quilted': 1, 'minds': 1, 'bowler': 1, 'hats': 1, 'sunday': 1, 'journal': 1, 'gloves': 1, 'spats': 1, 'weather”': 1, 'nid': 1, 'nodding': 1, 'hearth': 1, 'trailed': 1, 'bible': 1, 'selfish': 1, 'righteousness': 1, 'delay': 1, 'praise': 1, 'seat': 1, 'flapping': 1, 'angels': 1, 'sleete': 1, 'thy': 1, 'facts': 1, 'impolite': 1, 'trite': 2, 'boring': 1, 'price': 1, 'lyke': 1, 'wake': 1, 'comes': 1, 'fornication': 1, 'fleeting': 1, 'slipping': 1, 'else': 2, 'clock': 2, 'tick': 1, 'unsatiated': 1, 'imaginings': 1, 'pianola': 1, 'orchidaceous': 1, 'guts': 1, 'marrow': 1, 'licked': 1, 'need': 1, 'stay': 1, 'hymns': 1, 'gloze': 1, 'fleech': 1, 'taxi': 1, 'throbs': 1, 'outside': 1, 'hope': 1, 'won’t': 1, 'spoil': 1, 'fireworks.”': 1, 'granpa’s': 1, 'baby': 1, 'adenoided': 1, 'maid': 1, 'moves': 1, 'compressed': 1, 'known': 2, 'amazed': 1, 'sees': 2, 'trickling': 1, 'mask': 1, 'pitying': 1, 'exhausted': 1, 'infantine': 1, 'sitting': 1, 'depths': 1, 'mossy': 1, 'toads': 1, 'crouch': 1, 'gramophone': 1, 'crumpets': 1, 'tea': 1, '“he’s': 1, 'got': 1, 'plays': 1, 'jazz.”': 1, 'obvious': 1, 'course': 1, 'sex': 1, 'blossoms': 1, 'unworthy': 1, 'invite': 1, 'spontaneous': 1, 'destruction': 2, 'splitting': 1, 'chips': 1, 'form': 2, 'tiresome': 1, 'obstruction': 1, 'imaginative': 1, 'possibilities': 1, 'dissembled': 1, 'tranquillities': 1, 'judgment': 1, 'want': 2, 'grained': 1, 'calamities': 1, 'clamber': 1, 'travel': 1, 'petulantly': 1, 'bump': 2, 'sup': 1, 'slippery': 1, 'oysters': 1, 'conversational': 1, 'quips': 1, 'roysters': 1, 'childishly': 1, 'garrulous': 1, 'termagants': 1, 'find': 3, 'pays': 1, 'polish': 1, 'phrase': 1, 'flat': 1, 'misshapen': 1, 'waters': 2, 'sunless': 1, 'cliffs': 1, 'bleak': 1, 'gaiety': 1, 'whiffs': 1, 'loneliness': 3, 'caress': 1, 'lunatic': 1, 'crowding': 1, 'silly': 1, 'swinging': 1, 'parachute': 1, 'colours': 2, 'midst': 1, 'nightmare': 1, 'exchanged': 1, 'lyres': 1, 'strings': 1, 'let’s': 1, 'brave': 1, 'baser': 1, 'jerked': 1, 'matins': 1, 'lusts': 1, 'shames': 1, 'names': 1, 'limps': 1, 'she’d': 1, 'serene': 1, 'parquet': 1, 'please': 2, 'lazarus': 1, 'forgets': 1, 'sore': 1, 'thickly': 1, 'coated': 1, 'shafts': 1, 'coloured': 1, 'warmth': 1, 'thirsty': 1, 'looms': 1, 'pathetic': 1, 'fleet': 1, '“an': 1, 'duck': 1, 'webbèd': 1, 'bed.”': 1, 'lameness': 1, 'leer': 1, 'sleep’s': 1, 'compassionate': 1, 'crooning': 1, 'phantom': 1, 'body’s': 1, 'cage': 1, 'doors': 1, 'wide': 1, 'spirit': 2, 'flutters': 1, 'pride': 1, 'dances': 1, '“well': 1, 'venture': 1, 'seven': 1, 'sons': 1, 'killed': 1, 'adelaide': 1, 'fanny': 1, 'dears.”': 1, 'around': 2, 'fleshy': 1, 'dangling': 1, 'pair': 1, 'rings': 2, 'it’s': 1, 'phase': 1, 'stays': 1, 'regent': 2, 'always': 1, 'bridge': 1, 'also': 1, 'falling': 1, 'symbolic': 1, 'hulks': 1, 'peel': 1, 'losing': 1, 'queer': 2, 'purse': 1, '“with': 1, 'conscience': 1, 'snake': 1, 'hips.”[c': 1, 'yes': 2, 'maudlin': 1, 'everyone': 1, 'except': 1, 'person': 1, 'worth': 1, 'calmly': 1, 'threads': 1, 'own': 2, 'intrinsic': 1, 'consciousness': 1, 'begun': 1, 'unabated': 1, 'sarcasm': 1, 'opinion': 1, 'sinking': 1, 'crepitation': 1, 'nomad': 1, 'camels': 1, 'burly': 1, 'lion': 1, 'lair': 1, 'curled': 1, 'daintily': 1, 'listen': 2, '“there’s': 1, 'learn': 1, 'scientific': 1, 'data': 1, 'palimpsest....”': 1, 'tell': 2, 'crumble': 1, 'returns': 1, 'digs': 1, 'fashionable': 1, 'tombs': 1, 'pierces': 1, 'piccadilly': 1, 'catacombs': 1, 'screech': 1, 'owl': 1, 'adds': 1, 'glooms': 1, 'robin': 1, 'redbreast': 1, 'wren': 1, 'trill': 1, 'bayswater': 1, 'worst': 1, 'influenza’s': 1, 'rents': 1, 'weather': 1, 'considering': 1, 'war': 1, 'old”': 1, 'above': 1, 'rake': 1, 'mould': 1, 'already': 3, 'smouldering': 1, 'fettled': 1, 'vanities': 1, 'regrets': 1, 'dumped': 1, 'dung': 1, 'heap': 1, 'funeral': 1, 'totters': 1, 'steps': 1, 'miles': 1, 'babylon': 1, 'folk': 1, 'chairs': 1, 'hopeless': 1, 'prayers': 1, '“louisville': 1, 'lou”': 1, 'certain': 1, 'fox': 1, 'trot': 1, 'sinister': 3, 'poet': 2, 'waif': 2, 'presses': 1, 'brow': 1, 'wicked': 1, 'watching': 1, 'sour': 2, 'curdled': 1, 'stares': 1, 'sweating': 1, 'toper': 1, 'leaning': 1, 'bar': 1, 'mountain': 1, 'apes': 1, 'abysmally': 1, 'where’s': 1, 'somewhere': 4, 'heavens': 1, 'waking': 1, 'middle': 1, 'love’s': 1, 'embrace': 1, 'limply': 1, 'penelopes': 1, 'unspin': 1, 'webs': 1, 'meticulous': 1, 'voiceless': 1, 'burden': 1, 'alive': 1, 'tearless': 1, 'bartered': 1, 'philosophies': 1, 'suddenly': 1, 'flings': 1, 'laugh': 1, 'walks': 1, 'jangling': 1, 'edith': 1, 'sitwell': 1, 'aloysius': 1, 'bertrand': 1, 'raped': 1, 'screams': 1, 'travail': 1, 'blunt': 1, 'ropes': 1, 'hanged': 2, 'drear': 1, 'cricket’s': 1, 'vibrating': 1, 'weeds': 1, 'sterile': 2, 'finned': 1, 'bleeds': 1, 'outstretched': 1, 'deaf': 1, 'beetle': 1, 'plucking': 1, 'stealthily': 1, 'morsel': 1, 'corrupting': 1, 'wisp': 1, 'fresh': 1, 'bid': 1, 'frisk': 1, 'spider': 1, 'sings': 1, 'sows': 1, 'ell': 1, 'satin': 1, 'cravat': 1, 'deck': 1, 'strangled': 1, 'tinkles': 1, 'carcass': 1, 'mallarmé': 2, 'sandalwood': 1, 'viol': 1, 'mingled': 1, 'dulcimer': 1, 'missal': 1, 'parchment': 1, 'vespers': 1, 'complines': 1, 'chaunted': 1, 'monstrance': 1, 'glazing': 1, 'grazed': 1, 'angel’s': 1, 'harp': 1, 'winging': 1, 'aloft': 1, 'instrument’s': 1, 'plumage': 1, 'balances': 1, 'musician': 1, 'princess': 1, 'proceed': 1, 'unlearned': 1, 'recede': 1, 'immaculate': 1, 'blond': 1, 'torrent': 1, 'freezes': 1, 'bathes': 1, 'interlaced': 1, 'immortal': 2, 'murder': 1, 'kill': 1, 'driven': 1, 'allurement': 1, 'prophets': 1, 'o’er': 1, 'feasts': 1, 'enter': 1, 'winter': 1, 'prison': 1, 'iron': 1, 'aged': 1, 'lions': 3, 'drag': 1, 'fatal': 2, 'advanced': 1, 'shielded': 1, 'perfume': 1, 'kings': 1, 'beheld': 1, 'stop': 1, 'dream': 5, 'exiles': 1, 'strip': 1, 'pond': 1, 'gush': 1, 'welcomes': 1, 'smitten': 1, 'charmed': 1, 'pursue': 1, 'wreck': 1, 'descend': 1, 'reverie': 1, 'part': 1, 'indolence': 1, 'robe': 1, 'gaze': 2, 'mimicking': 1, 'fashions': 1, 'shock': 1, 'manes': 1, 'help': 1, 'dare': 1, 'mirror': 3, 'nonchalantly': 1, 'combing': 1, 'unless': 1, 'sample': 1, 'sealèd': 1, 'prove': 1, 'funereal': 1, 'virtue': 1, 'essence': 1, 'ravished': 1, 'roses’': 1, 'senility': 1, 'frame': 2, 'drunkenness': 1, 'crave': 1, 'strew': 1, 'oblivion': 1, 'spices': 1, 'flashes': 1, 'pallor': 1, 'mark': 1, 'chilliness': 1, 'metals': 2, 'having': 1, 'reflected': 1, 'jewels': 1, 'vases': 1, 'solitary': 1, 'pardon': 2, 'queen': 1, 'eclipsed': 1, 'plea': 1, 'deign': 1, 'vindicate': 1, 'sallow': 1, 'gloomy': 1, 'book': 1, 'weariness': 1, 'searching': 1, 'hole': 1, 'shadow': 2, 'fountain': 1, 'nudity': 2, 'dishevelled': 1, 'tress': 1, 'check': 1, 'offence': 1, 'chills': 1, 'source': 1, 'quell': 1, 'gesture': 1, 'notorious': 1, 'irreligion': 1, 'sure': 1, 'demon': 1, 'breathe': 1, 'sacrilegious': 1, 'wished': 1, 'extinguished': 1, 'calamity': 1, 'tower': 1, 'beholds': 1, 'indeed': 1, 'heaven': 1, 'guard': 3, 'recent': 1, 'premature': 1, 'hideously': 1, 'belong': 1, 'fates': 1, 'reserve': 1, 'secrets': 1, 'he’ll': 1, 'perchance': 1, 'pray': 1, 'innocent': 1, '’mid': 3, 'terrors': 1, 'suppliant': 1, 'implacable': 1, 'treasure': 1, 'grace': 1, 'attends': 1, 'devoured': 1, 'mystery': 2, 'splendour': 2, 'atony': 1, 'doleful': 1, 'grows': 1, 'anxiety': 1, 'pity': 1, 'irony': 1, 'expound': 1, 'however': 1, 'ingenuous': 1, 'scorn': 1, 'triumphant': 1, 'diminish': 1, 'reverenced': 1, 'besides': 1, 'chiselled': 1, 'yore': 1, 'lamentable': 1, 'victim': 1, 'fate': 1, 'deserted': 1, 'amethyst': 1, 'end': 1, 'wise': 1, 'abysms': 1, 'dazzled': 1, 'unawared': 1, 'golds': 1, 'antique': 1, 'mellowness': 1, 'soil': 1, 'primordial': 1, 'primitive': 1, 'borrow': 1, 'clarity': 1, 'gait': 1, 'mortal': 2, 'malignant': 1, 'spite': 1, 'caverns': 1, 'sybilline': 1, 'according': 1, 'clothes': 1, 'thrill': 1, 'emerge': 1, 'aroma': 1, 'savage': 1, 'joys': 1, 'prophesy': 1, 'natively': 1, 'unveils': 1, 'starlike': 1, 'inviolate': 1, 'reptile': 1, 'useless': 1, 'sparkle': 1, 'lucence': 1, 'icicles': 1, 'lone': 1, 'sister': 2, 'mount': 1, 'rare': 1, 'limpidity': 1, 'monotonous': 1, 'idolatry': 1, 'mirror’s': 1, 'dozing': 1, 'reflects': 1, 'yea': 1, 'madam': 1, 'grandmother': 1, 'withdrawing': 1, 'flint': 1, 'shutters': 1, 'seraphic': 1, 'smiles': 1, 'pane’s': 1, 'profundity': 1, 'loathe': 1, 'lull': 1, 'country': 1, 'heated': 1, 'thither': 1, 'tapers': 1, 'childishness': 1, 'unheard': 1, 'supreme': 1, 'bruisèd': 1, 'infancy': 1, 'perceiving': 1, 'dimly': 1, 'reveries': 1, 'gems': 1, 'separate': 1}\n"
     ]
    }
   ],
   "source": [
    "def process_file(filename):\n",
    "    hist = dict()\n",
    "    fp = open(filename)\n",
    "    for line in fp:\n",
    "        process_line(line, hist)\n",
    "    return hist\n",
    "\n",
    "def process_line(line, hist):\n",
    "    line = line.replace('-', ' ')\n",
    "    for word in line.split():\n",
    "        word = word.strip(string.punctuation + string.whitespace)\n",
    "        word = word.lower()\n",
    "        hist[word] = hist.get(word, 0)+1\n",
    "\n",
    "hist = process_file(\"emma.txt\")\n",
    "print(hist)"
   ]
  },
  {
   "cell_type": "code",
   "execution_count": 24,
   "id": "f66c5c29",
   "metadata": {},
   "outputs": [
    {
     "data": {
      "text/plain": [
       "'C:\\\\Users\\\\Nivas\\\\Study\\\\Programming\\\\Python Google\\\\L1 Crash Course with Python'"
      ]
     },
     "execution_count": 24,
     "metadata": {},
     "output_type": "execute_result"
    }
   ],
   "source": [
    "import os\n",
    "cwd = os.getcwd()\n",
    "cwd"
   ]
  },
  {
   "cell_type": "code",
   "execution_count": 26,
   "id": "35e532d5",
   "metadata": {},
   "outputs": [
    {
     "data": {
      "text/plain": [
       "'C:\\\\Users\\\\Nivas\\\\Study\\\\Programming\\\\Python Google\\\\L1 Crash Course with Python\\\\emma.txt'"
      ]
     },
     "execution_count": 26,
     "metadata": {},
     "output_type": "execute_result"
    }
   ],
   "source": [
    "os.path.abspath('emma.txt')"
   ]
  },
  {
   "cell_type": "code",
   "execution_count": 27,
   "id": "cb29b67c",
   "metadata": {},
   "outputs": [
    {
     "data": {
      "text/plain": [
       "True"
      ]
     },
     "execution_count": 27,
     "metadata": {},
     "output_type": "execute_result"
    }
   ],
   "source": [
    "os.path.exists('emma.txt')"
   ]
  },
  {
   "cell_type": "code",
   "execution_count": 28,
   "id": "4d705287",
   "metadata": {},
   "outputs": [
    {
     "data": {
      "text/plain": [
       "False"
      ]
     },
     "execution_count": 28,
     "metadata": {},
     "output_type": "execute_result"
    }
   ],
   "source": [
    "os.path.isdir('emma.txt')"
   ]
  },
  {
   "cell_type": "code",
   "execution_count": 29,
   "id": "f7f062f8",
   "metadata": {},
   "outputs": [
    {
     "data": {
      "text/plain": [
       "True"
      ]
     },
     "execution_count": 29,
     "metadata": {},
     "output_type": "execute_result"
    }
   ],
   "source": [
    "os.path.isdir(\"c://users\")"
   ]
  },
  {
   "cell_type": "code",
   "execution_count": 30,
   "id": "a9df6889",
   "metadata": {},
   "outputs": [
    {
     "data": {
      "text/plain": [
       "['.ipynb_checkpoints',\n",
       " 'C1M6L2_Final_Project_V3.ipynb',\n",
       " 'check',\n",
       " 'emma.txt',\n",
       " 'Graded Assignments 1 - 4 Crash Course on Python.ipynb',\n",
       " 'L1 Week 1 - 4 Crash Course on Python from Google.ipynb',\n",
       " 'L1 Week 5 Crash Course on python - OOPS.ipynb',\n",
       " 'L1 Week 6 Crash Course on Python - Final Project.ipynb',\n",
       " 'ReadMe.docx',\n",
       " 'Revision.ipynb']"
      ]
     },
     "execution_count": 30,
     "metadata": {},
     "output_type": "execute_result"
    }
   ],
   "source": [
    "os.listdir(cwd)"
   ]
  },
  {
   "cell_type": "code",
   "execution_count": 31,
   "id": "ff883788",
   "metadata": {},
   "outputs": [],
   "source": [
    "import dbm\n",
    "db = dbm.open('Captions', 'c')"
   ]
  },
  {
   "cell_type": "code",
   "execution_count": 36,
   "id": "241187a2",
   "metadata": {},
   "outputs": [],
   "source": [
    "db['cling.png'] = \"Photo of cling\""
   ]
  },
  {
   "cell_type": "code",
   "execution_count": 37,
   "id": "e7dcfc4b",
   "metadata": {},
   "outputs": [
    {
     "data": {
      "text/plain": [
       "b'Photo of cling'"
      ]
     },
     "execution_count": 37,
     "metadata": {},
     "output_type": "execute_result"
    }
   ],
   "source": [
    "db[\"cling.png\"]"
   ]
  },
  {
   "cell_type": "code",
   "execution_count": 38,
   "id": "262e8991",
   "metadata": {},
   "outputs": [
    {
     "name": "stdout",
     "output_type": "stream",
     "text": [
      "b'cling.png' b'Photo of cling'\n"
     ]
    }
   ],
   "source": [
    "for key in db:\n",
    "    print(key, db[key])"
   ]
  },
  {
   "cell_type": "code",
   "execution_count": 39,
   "id": "e22abd7a",
   "metadata": {},
   "outputs": [],
   "source": [
    "db.close()\n"
   ]
  },
  {
   "cell_type": "code",
   "execution_count": 5,
   "id": "120b585a",
   "metadata": {},
   "outputs": [
    {
     "name": "stdout",
     "output_type": "stream",
     "text": [
      "1.9459101490553132\n"
     ]
    }
   ],
   "source": [
    "\n",
    "import math\n",
    "x = 7 \n",
    "if x > 0 :\n",
    "    y = math.log(x)\n",
    "else:\n",
    "    y = float('nan')\n",
    "    \n",
    "print(y)"
   ]
  },
  {
   "cell_type": "code",
   "execution_count": 8,
   "id": "88551b6c",
   "metadata": {},
   "outputs": [
    {
     "data": {
      "text/plain": [
       "1.9459101490553132"
      ]
     },
     "execution_count": 8,
     "metadata": {},
     "output_type": "execute_result"
    }
   ],
   "source": [
    "# alternatives\n",
    "y = math.log(x) if x> 0 else float('nan')\n",
    "y"
   ]
  },
  {
   "cell_type": "code",
   "execution_count": 11,
   "id": "20108a03",
   "metadata": {},
   "outputs": [
    {
     "data": {
      "text/plain": [
       "720"
      ]
     },
     "execution_count": 11,
     "metadata": {},
     "output_type": "execute_result"
    }
   ],
   "source": [
    "def factorial(n):\n",
    "    if n == 0:\n",
    "        return 1\n",
    "    else:\n",
    "        return factorial(n-1) * n\n",
    "\n",
    "factorial(6)"
   ]
  },
  {
   "cell_type": "code",
   "execution_count": 13,
   "id": "6e6f9af8",
   "metadata": {},
   "outputs": [
    {
     "data": {
      "text/plain": [
       "720"
      ]
     },
     "execution_count": 13,
     "metadata": {},
     "output_type": "execute_result"
    }
   ],
   "source": [
    "#alternatives:\n",
    "def fact(n):\n",
    "    return 1 if n == 0 else n * fact(n-1)\n",
    "\n",
    "fact(6)"
   ]
  },
  {
   "cell_type": "code",
   "execution_count": 16,
   "id": "0d08e64b",
   "metadata": {},
   "outputs": [
    {
     "data": {
      "text/plain": [
       "['F', 'U', 'C', 'K']"
      ]
     },
     "execution_count": 16,
     "metadata": {},
     "output_type": "execute_result"
    }
   ],
   "source": [
    "def onlyupper(t):\n",
    "    return [s for s in t if s.isupper()]\n",
    "\n",
    "onlyupper('hFeUlClKo')"
   ]
  },
  {
   "cell_type": "code",
   "execution_count": 25,
   "id": "d62c28d0",
   "metadata": {},
   "outputs": [
    {
     "data": {
      "text/plain": [
       "False"
      ]
     },
     "execution_count": 25,
     "metadata": {},
     "output_type": "execute_result"
    }
   ],
   "source": [
    "def has_duplicates(n):\n",
    "    d = {}\n",
    "    for x in n:\n",
    "        if x in d:\n",
    "            return True\n",
    "        d[x] = True\n",
    "        return False\n",
    "    \n",
    "has_duplicates(\"man man\")"
   ]
  },
  {
   "cell_type": "code",
   "execution_count": 30,
   "id": "1e432778",
   "metadata": {},
   "outputs": [
    {
     "data": {
      "text/plain": [
       "Counter({'p': 1, 'a': 1, 'r': 2, 'o': 1, 't': 1})"
      ]
     },
     "execution_count": 30,
     "metadata": {},
     "output_type": "execute_result"
    }
   ],
   "source": [
    "from collections import Counter\n",
    "count = Counter('parrot')\n",
    "count"
   ]
  },
  {
   "cell_type": "code",
   "execution_count": 34,
   "id": "197ba329",
   "metadata": {},
   "outputs": [
    {
     "data": {
      "text/plain": [
       "2"
      ]
     },
     "execution_count": 34,
     "metadata": {},
     "output_type": "execute_result"
    }
   ],
   "source": [
    "count['r']"
   ]
  },
  {
   "cell_type": "code",
   "execution_count": 36,
   "id": "f4991ac2",
   "metadata": {},
   "outputs": [
    {
     "name": "stdout",
     "output_type": "stream",
     "text": [
      "(1, 2.0) {'third': '3'}\n"
     ]
    }
   ],
   "source": [
    "def printall(*args, **kwargs):\n",
    "    print(args, kwargs)\n",
    "    \n",
    "printall(1, 2.0, third = '3')"
   ]
  },
  {
   "cell_type": "code",
   "execution_count": null,
   "id": "8fc928ee",
   "metadata": {},
   "outputs": [],
   "source": []
  }
 ],
 "metadata": {
  "kernelspec": {
   "display_name": "Python 3 (ipykernel)",
   "language": "python",
   "name": "python3"
  },
  "language_info": {
   "codemirror_mode": {
    "name": "ipython",
    "version": 3
   },
   "file_extension": ".py",
   "mimetype": "text/x-python",
   "name": "python",
   "nbconvert_exporter": "python",
   "pygments_lexer": "ipython3",
   "version": "3.10.2"
  }
 },
 "nbformat": 4,
 "nbformat_minor": 5
}
