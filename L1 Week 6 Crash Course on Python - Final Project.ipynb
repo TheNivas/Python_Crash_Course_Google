{
 "cells": [
  {
   "cell_type": "code",
   "execution_count": 5,
   "id": "49935210",
   "metadata": {},
   "outputs": [
    {
     "data": {
      "text/plain": [
       "[7, 11, 13]"
      ]
     },
     "execution_count": 5,
     "metadata": {},
     "output_type": "execute_result"
    }
   ],
   "source": [
    "def mystery(l):\n",
    "    l = l[1:]\n",
    "    return()             #returning nothing\n",
    "mylist = [7,11,13]\n",
    "mystery(mylist)\n",
    "mylist"
   ]
  },
  {
   "cell_type": "code",
   "execution_count": 6,
   "id": "c084fe08",
   "metadata": {},
   "outputs": [
    {
     "name": "stdout",
     "output_type": "stream",
     "text": [
      "[11, 13]\n"
     ]
    }
   ],
   "source": [
    "def mystery(l):\n",
    "    l = l[1:]\n",
    "    return(l)\n",
    "mylist = [7,11,13]\n",
    "print(mystery(mylist))\n",
    "\n"
   ]
  },
  {
   "cell_type": "code",
   "execution_count": null,
   "id": "927bd7f3",
   "metadata": {},
   "outputs": [],
   "source": []
  }
 ],
 "metadata": {
  "kernelspec": {
   "display_name": "Python 3 (ipykernel)",
   "language": "python",
   "name": "python3"
  },
  "language_info": {
   "codemirror_mode": {
    "name": "ipython",
    "version": 3
   },
   "file_extension": ".py",
   "mimetype": "text/x-python",
   "name": "python",
   "nbconvert_exporter": "python",
   "pygments_lexer": "ipython3",
   "version": "3.9.7"
  }
 },
 "nbformat": 4,
 "nbformat_minor": 5
}
