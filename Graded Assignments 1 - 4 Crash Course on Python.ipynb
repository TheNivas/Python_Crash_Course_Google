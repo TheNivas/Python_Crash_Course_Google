{
 "cells": [
  {
   "cell_type": "markdown",
   "id": "86d81736",
   "metadata": {},
   "source": [
    "# Module 2 Graded Assessment"
   ]
  },
  {
   "cell_type": "markdown",
   "id": "5096260f",
   "metadata": {},
   "source": [
    "Question 1\n",
    "Complete the function by filling in the missing parts. The color_translator function receives the name of a color, then prints its hexadecimal value. Currently, it only supports the three additive primary colors (red, green, blue), so it returns \"unknown\" for all other colors.\n",
    "```python:\n",
    "def color_translator(color):\n",
    "\tif ___ == \"red\":\n",
    "\t\thex_color = \"#ff0000\"\n",
    "\telif ___ == \"green\":\n",
    "\t\thex_color = \"#00ff00\"\n",
    "\telif ___ == \"blue\":\n",
    "\t\thex_color = \"#0000ff\"\n",
    "\t___:\n",
    "\t\thex_color = \"unknown\"\n",
    "\treturn ___\n",
    "\n",
    "print(color_translator(\"blue\")) # Should be #0000ff\n",
    "print(color_translator(\"yellow\")) # Should be unknown\n",
    "print(color_translator(\"red\")) # Should be #ff0000\n",
    "print(color_translator(\"black\")) # Should be unknown\n",
    "print(color_translator(\"green\")) # Should be #00ff00\n",
    "print(color_translator(\"\")) # Should be unknown\n",
    "```\n"
   ]
  },
  {
   "cell_type": "code",
   "execution_count": 1,
   "id": "6ce66425",
   "metadata": {},
   "outputs": [
    {
     "name": "stdout",
     "output_type": "stream",
     "text": [
      "#0000ff\n",
      "unknown\n",
      "#ff0000\n",
      "unknown\n",
      "#00ff00\n",
      "unknown\n"
     ]
    }
   ],
   "source": [
    "def color_translator(color):\n",
    "\tif color == \"red\":\n",
    "\t\thex_color = \"#ff0000\"\n",
    "\telif color == \"green\":\n",
    "\t\thex_color = \"#00ff00\"\n",
    "\telif color == \"blue\":\n",
    "\t\thex_color = \"#0000ff\"\n",
    "\telse:\n",
    "\t\thex_color = \"unknown\"\n",
    "\treturn hex_color\n",
    "\n",
    "print(color_translator(\"blue\")) # Should be #0000ff\n",
    "print(color_translator(\"yellow\")) # Should be unknown\n",
    "print(color_translator(\"red\")) # Should be #ff0000\n",
    "print(color_translator(\"black\")) # Should be unknown\n",
    "print(color_translator(\"green\")) # Should be #00ff00\n",
    "print(color_translator(\"\")) # Should be unknown"
   ]
  },
  {
   "cell_type": "markdown",
   "id": "b3c0219b",
   "metadata": {},
   "source": [
    "\n",
    "Question 2\n",
    "What's the value of this Python expression: \"big\" > \"small\"\n",
    "\n",
    "* True\n",
    "\n",
    "* **False**\n",
    "\n",
    "* big\n",
    "\n",
    "* small"
   ]
  },
  {
   "cell_type": "markdown",
   "id": "8fa3f1e9",
   "metadata": {},
   "source": [
    "Question 3. What is the elif keyword used for?\n",
    "\n",
    "\n",
    "* To mark the end of the if statement\n",
    "\n",
    "\n",
    "* **To handle more than two comparison cases**\n",
    "\n",
    "\n",
    "* To replace the \"or\" clause in the if statement\n",
    "\n",
    "\n",
    "* Nothing - it's a misspelling of the else-if keyword"
   ]
  },
  {
   "cell_type": "markdown",
   "id": "3edcab37",
   "metadata": {},
   "source": [
    "Question 4\n",
    "Students in a class receive their grades as Pass/Fail. Scores of 60 or more (out of 100) mean that the grade is \"Pass\". For lower scores, the grade is \"Fail\". In addition, scores above 95 (not included) are graded as \"Top Score\". Fill in this function so that it returns the proper grade.\n",
    "```python:\n",
    "def exam_grade(score):\n",
    "\tif ___:\n",
    "\t\tgrade = \"Top Score\"\n",
    "\telif ___:\n",
    "\t\tgrade = \"Pass\"\n",
    "\telse:\n",
    "\t\tgrade = \"Fail\"\n",
    "\treturn grade\n",
    "\n",
    "print(exam_grade(65)) # Should be Pass\n",
    "print(exam_grade(55)) # Should be Fail\n",
    "print(exam_grade(60)) # Should be Pass\n",
    "print(exam_grade(95)) # Should be Pass\n",
    "print(exam_grade(100)) # Should be Top Score\n",
    "print(exam_grade(0)) # Should be Fail\n",
    "```"
   ]
  },
  {
   "cell_type": "code",
   "execution_count": 2,
   "id": "80fe8ef1",
   "metadata": {},
   "outputs": [
    {
     "name": "stdout",
     "output_type": "stream",
     "text": [
      "Pass\n",
      "Fail\n",
      "Pass\n",
      "Pass\n",
      "Top Score\n",
      "Fail\n"
     ]
    }
   ],
   "source": [
    "def exam_grade(score):\n",
    "\tif score > 95:\n",
    "\t\tgrade = \"Top Score\"\n",
    "\telif score >= 60:   #elif score >= 60 and score <= 95: \n",
    "\t\tgrade = \"Pass\"\n",
    "\telse:\n",
    "\t\tgrade = \"Fail\"\n",
    "\treturn grade\n",
    "\n",
    "print(exam_grade(65)) # Should be Pass\n",
    "print(exam_grade(55)) # Should be Fail\n",
    "print(exam_grade(60)) # Should be Pass\n",
    "print(exam_grade(95)) # Should be Pass\n",
    "print(exam_grade(100)) # Should be Top Score\n",
    "print(exam_grade(0)) # Should be Fail"
   ]
  },
  {
   "cell_type": "markdown",
   "id": "95979eee",
   "metadata": {},
   "source": [
    "Question 5\n",
    "What's the value of this Python expression: 11 % 5?\n",
    "\n",
    "* 2.2\n",
    "\n",
    "\n",
    "* 2\n",
    "\n",
    "\n",
    "* **1**\n",
    "\n",
    "\n",
    "* 0"
   ]
  },
  {
   "cell_type": "markdown",
   "id": "89650e1a",
   "metadata": {},
   "source": [
    "Question 6\n",
    "Complete the body of the format_name function. This function receives the first_name and last_name parameters and then returns a properly formatted string.\n",
    "\n",
    "Specifically:\n",
    "\n",
    "If both the last_name and the first_name parameters are supplied, the function should return like so:\n",
    "```python:\n",
    "print(format_name(\"Ella\", \"Fitzgerald\"))\n",
    "Name: Fitzgerald, Ella\n",
    "```\n",
    "if only one name parameter is supplied (either the first name or the last name) , the function should return like so:\n",
    "```python:\n",
    "print(format_name(\"Adele\", \"\"))\n",
    "Name: Adele\n",
    "```\n",
    "If only one name parameter is supplied (either the first name or the last name) , the function should return like so:\n",
    "```python:\n",
    "print(format_name(\"Adele\", \"\"))\n",
    "Name: Adele\n",
    "```\n",
    "or\n",
    "```python:\n",
    "print(format_name(\"\", \"Einstein\"))\n",
    "Name: Einstein\n",
    "```\n",
    "Finally, if both names are blank, the function should return the empty string\n",
    "```python:\n",
    "print(format_name(\"\", \"\"))\n",
    "```\n",
    "\n",
    "implemented below:\n",
    "```python:\n",
    "def format_name(first_name, last_name):\n",
    "\t# code goes here\n",
    "\t\n",
    "\treturn string \n",
    "\n",
    "print(format_name(\"Ernest\", \"Hemingway\"))\n",
    "# Should return the string \"Name: Hemingway, Ernest\"\n",
    "\n",
    "print(format_name(\"\", \"Madonna\"))\n",
    "# Should return the string \"Name: Madonna\"\n",
    "\n",
    "print(format_name(\"Voltaire\", \"\"))\n",
    "# Should return the string \"Name: Voltaire\"\n",
    "\n",
    "print(format_name(\"\", \"\"))\n",
    "# Should return an empty string\n",
    "```"
   ]
  },
  {
   "cell_type": "code",
   "execution_count": 3,
   "id": "53606587",
   "metadata": {},
   "outputs": [
    {
     "name": "stdout",
     "output_type": "stream",
     "text": [
      "Name: Hemingway, Ernest\n",
      "Name: Madonna\n",
      "Name: Voltaire\n",
      "\n"
     ]
    }
   ],
   "source": [
    "def format_name(first_name, last_name):\n",
    "\tif first_name != \"\" and last_name!= \"\":\n",
    "\t\tstring = \"Name: \" + last_name + \", \" + first_name\n",
    "\telif first_name != \"\" or last_name!= \"\":\n",
    "\t\tstring = \"Name: \" + last_name + first_name\n",
    "\telse:\n",
    "\t\tstring = \"\"\n",
    "\treturn string \n",
    "\n",
    "print(format_name(\"Ernest\", \"Hemingway\"))\n",
    "# Should return the string \"Name: Hemingway, Ernest\"\n",
    "\n",
    "print(format_name(\"\", \"Madonna\"))\n",
    "# Should return the string \"Name: Madonna\"\n",
    "\n",
    "print(format_name(\"Voltaire\", \"\"))\n",
    "# Should return the string \"Name: Voltaire\"\n",
    "\n",
    "print(format_name(\"\", \"\"))\n",
    "# Should return an empty string"
   ]
  },
  {
   "cell_type": "code",
   "execution_count": 4,
   "id": "dad5ceb9",
   "metadata": {},
   "outputs": [
    {
     "name": "stdout",
     "output_type": "stream",
     "text": [
      "Name: Hemingway, Ernest\n",
      "Name: Madonna\n",
      "Name: Voltaire\n",
      "\n"
     ]
    }
   ],
   "source": [
    "def format_name(first_name, last_name):\n",
    "\tif len(first_name) != 0 and len(last_name) != 0:\n",
    "\t\tstring = \"Name: \" + last_name + \", \" + first_name\n",
    "\telif len(first_name) != 0 or len(last_name) != 0:\n",
    "\t\tstring = \"Name: \" + last_name + first_name\n",
    "\telse:\n",
    "\t\tstring = \"\"\n",
    "\treturn string \n",
    "\n",
    "print(format_name(\"Ernest\", \"Hemingway\"))\n",
    "# Should return the string \"Name: Hemingway, Ernest\"\n",
    "\n",
    "print(format_name(\"\", \"Madonna\"))\n",
    "# Should return the string \"Name: Madonna\"\n",
    "\n",
    "print(format_name(\"Voltaire\", \"\"))\n",
    "# Should return the string \"Name: Voltaire\"\n",
    "\n",
    "print(format_name(\"\", \"\"))\n",
    "# Should return an empty string"
   ]
  },
  {
   "cell_type": "markdown",
   "id": "e680df79",
   "metadata": {},
   "source": [
    "Question 7\n",
    "The longest_word function is used to compare 3 words. It should return the word with the most number of characters (and the first in the list when they have the same length). Fill in the blank to make this happen.\n",
    "```python:\n",
    "def longest_word(word1, word2, word3):\n",
    "\tif len(word1) >= len(word2) and len(word1) >= len(word3):\n",
    "\t\tword = word1\n",
    "\telif ___:\n",
    "\t\tword = word2\n",
    "\telse:\n",
    "\t\tword = word3\n",
    "\treturn(word)\n",
    "\n",
    "print(longest_word(\"chair\", \"couch\", \"table\"))\n",
    "print(longest_word(\"bed\", \"bath\", \"beyond\"))\n",
    "print(longest_word(\"laptop\", \"notebook\", \"desktop\"))\n",
    "```"
   ]
  },
  {
   "cell_type": "code",
   "execution_count": null,
   "id": "e6e631fe",
   "metadata": {},
   "outputs": [],
   "source": [
    "def longest_word(word1, word2, word3):\n",
    "\tif len(word1) >= len(word2) and len(word1) >= len(word3):\n",
    "\t\tword = word1\n",
    "\telif len(word2) >= len(word1) and len(word2) >= len(word3):\n",
    "\t\tword = word2\n",
    "\telse:\n",
    "\t\tword = word3\n",
    "\treturn(word)\n",
    "\n",
    "print(longest_word(\"chair\", \"couch\", \"table\"))\n",
    "print(longest_word(\"bed\", \"bath\", \"beyond\"))\n",
    "print(longest_word(\"laptop\", \"notebook\", \"desktop\"))"
   ]
  },
  {
   "cell_type": "markdown",
   "id": "1aa40cea",
   "metadata": {},
   "source": [
    "Question 8\n",
    "What’s the output of this code?\n",
    "```python:\n",
    "def sum(x, y):\n",
    "\t\treturn(x+y)\n",
    "print(sum(sum(1,2), sum(3,4)))\n",
    "```"
   ]
  },
  {
   "cell_type": "code",
   "execution_count": 6,
   "id": "2808ee40",
   "metadata": {},
   "outputs": [
    {
     "name": "stdout",
     "output_type": "stream",
     "text": [
      "10\n"
     ]
    }
   ],
   "source": [
    "def sum(x, y):\n",
    "\t\treturn(x+y)\n",
    "print(sum(sum(1,2), sum(3,4)))"
   ]
  },
  {
   "cell_type": "markdown",
   "id": "dcf2c26e",
   "metadata": {},
   "source": [
    "Question 9\n",
    "What's the value of this Python expression?\n",
    "```python:\n",
    "((10 >= 5*2) and (10 <= 5*2))\n",
    "```\n",
    "* **True**\n",
    "\n",
    "* False\n",
    "\n",
    "* 10\n",
    "\n",
    "* 5*2"
   ]
  },
  {
   "cell_type": "code",
   "execution_count": 7,
   "id": "02a04538",
   "metadata": {},
   "outputs": [
    {
     "data": {
      "text/plain": [
       "True"
      ]
     },
     "execution_count": 7,
     "metadata": {},
     "output_type": "execute_result"
    }
   ],
   "source": [
    "((10 >= 5*2) and (10 <= 5*2))"
   ]
  },
  {
   "cell_type": "markdown",
   "id": "115eeb60",
   "metadata": {},
   "source": [
    "Question 10\n",
    "The fractional_part function divides the numerator by the denominator, and returns just the fractional part (a number between 0 and 1). Complete the body of the function so that it returns the right number.\n",
    "Note: Since division by 0 produces an error, if the denominator is 0, the function should return 0 instead of attempting the division.\n",
    "\n",
    "```python:\n",
    "def fractional_part(numerator, denominator):\n",
    "\t# Operate with numerator and denominator to \n",
    "# keep just the fractional part of the quotient\n",
    "\treturn 0\n",
    "\n",
    "print(fractional_part(5, 5)) # Should be 0\n",
    "print(fractional_part(5, 4)) # Should be 0.25\n",
    "print(fractional_part(5, 3)) # Should be 0.66...\n",
    "print(fractional_part(5, 2)) # Should be 0.5\n",
    "print(fractional_part(5, 0)) # Should be 0\n",
    "print(fractional_part(0, 5)) # Should be 0\n",
    "```"
   ]
  },
  {
   "cell_type": "code",
   "execution_count": 8,
   "id": "f6e31871",
   "metadata": {},
   "outputs": [
    {
     "name": "stdout",
     "output_type": "stream",
     "text": [
      "0.0\n",
      "0.25\n",
      "0.6666666666666666\n",
      "0.5\n",
      "0\n",
      "0.0\n"
     ]
    }
   ],
   "source": [
    "def fractional_part(numerator, denominator):\n",
    "\t# Operate with numerator and denominator to \n",
    "# keep just the fractional part of the quotient\n",
    "\tif (denominator > 0):\n",
    "\t\treturn (numerator%denominator)/denominator\n",
    "\treturn 0\n",
    "\n",
    "\n",
    "print(fractional_part(5, 5)) # Should be 0\n",
    "print(fractional_part(5, 4)) # Should be 0.25\n",
    "print(fractional_part(5, 3)) # Should be 0.66...\n",
    "print(fractional_part(5, 2)) # Should be 0.5\n",
    "print(fractional_part(5, 0)) # Should be 0\n",
    "print(fractional_part(0, 5)) # Should be 0"
   ]
  },
  {
   "cell_type": "markdown",
   "id": "f4f205dd",
   "metadata": {},
   "source": [
    "# Module 3 Graded Assessment"
   ]
  },
  {
   "cell_type": "markdown",
   "id": "ac1d7c31",
   "metadata": {},
   "source": [
    "Question 1\n",
    "Fill in the blanks of this code to print out the numbers 1 through 7.\n",
    "```python:\n",
    "number = 1\n",
    "while number ___ 7:\n",
    "\tprint(number, end=\" \")\n",
    "\t___\n",
    "  ```"
   ]
  },
  {
   "cell_type": "code",
   "execution_count": 9,
   "id": "b692b344",
   "metadata": {},
   "outputs": [
    {
     "name": "stdout",
     "output_type": "stream",
     "text": [
      "1 2 3 4 5 6 7 "
     ]
    }
   ],
   "source": [
    "number = 1\n",
    "while number <= 7:\n",
    "\tprint(number, end=\" \")\n",
    "\tnumber += 1"
   ]
  },
  {
   "cell_type": "markdown",
   "id": "d62006a2",
   "metadata": {},
   "source": [
    "Question 1\n",
    "The show_letters function should print out each letter of a word on a separate line. Fill in the blanks to make that happen.\n",
    "```python:\n",
    "def show_letters(word):\n",
    "\tfor __:\n",
    "\t\tprint(__)\n",
    "\n",
    "show_letters(\"Hello\")\n",
    "# Should print one line per letter\n",
    "```"
   ]
  },
  {
   "cell_type": "code",
   "execution_count": 10,
   "id": "377afe50",
   "metadata": {},
   "outputs": [
    {
     "name": "stdout",
     "output_type": "stream",
     "text": [
      "H\n",
      "e\n",
      "l\n",
      "l\n",
      "o\n"
     ]
    }
   ],
   "source": [
    "def show_letters(word):\n",
    "\tfor letter in word:\n",
    "\t\tprint(letter)\n",
    "\n",
    "show_letters(\"Hello\")\n",
    "# Should print one line per letter"
   ]
  },
  {
   "cell_type": "markdown",
   "id": "ed469b6b",
   "metadata": {},
   "source": [
    "Question 3\n",
    "Complete the function digits(n) that returns how many digits the number has. For example: 25 has 2 digits and 144 has 3 digits. Tip: you can figure out the digits of a number by dividing it by 10 once per digit until there are no digits left.\n",
    "```python:\n",
    "def digits(n):\n",
    "\tcount = 0\n",
    "\tif n == 0:\n",
    "\t  ___\n",
    "\twhile (___):\n",
    "\t\tcount += 1\n",
    "\t\t___\n",
    "\treturn count\n",
    "\t\n",
    "print(digits(25))   # Should print 2\n",
    "print(digits(144))  # Should print 3\n",
    "print(digits(1000)) # Should print 4\n",
    "print(digits(0))    # Should print 1\n",
    "```\n"
   ]
  },
  {
   "cell_type": "code",
   "execution_count": 11,
   "id": "27ffbbd1",
   "metadata": {},
   "outputs": [
    {
     "name": "stdout",
     "output_type": "stream",
     "text": [
      "2\n",
      "3\n",
      "4\n",
      "1\n"
     ]
    }
   ],
   "source": [
    "def digits(n):\n",
    "\tcount = 0\n",
    "\tif n == 0:\n",
    "\t  return 1\n",
    "\twhile (n > 0):\n",
    "\t\tcount += 1\n",
    "\t\tn = n//10  #n //= 10\n",
    "\treturn count\n",
    "\t\n",
    "print(digits(25))   # Should print 2\n",
    "print(digits(144))  # Should print 3\n",
    "print(digits(1000)) # Should print 4\n",
    "print(digits(0))    # Should print 1"
   ]
  },
  {
   "cell_type": "markdown",
   "id": "6f609be2",
   "metadata": {},
   "source": [
    "Question 4\n",
    "This function prints out a multiplication table (where each number is the result of multiplying the first number of its row by the number at the top of its column). Fill in the blanks so that calling multiplication_table(1, 3) will print out:\n",
    "```python:\n",
    "def multiplication_table(start, stop):\n",
    "\tfor x in ___:\n",
    "\t\tfor y in ___:\n",
    "\t\t\tprint(str(x*y), end=\" \")\n",
    "\t\tprint()\n",
    "\n",
    "multiplication_table(1, 3)\n",
    "# Should print the multiplication table shown above\n",
    "```"
   ]
  },
  {
   "cell_type": "code",
   "execution_count": null,
   "id": "29379983",
   "metadata": {},
   "outputs": [],
   "source": [
    "def multiplication_table(start, stop):\n",
    "\tfor x in range(start, stop +1):\n",
    "\t\tfor y in range (start, stop +1):\n",
    "\t\t\tprint(str(x*y), end=\" \")\n",
    "\t\tprint()\n",
    "\n",
    "multiplication_table(1, 3)\n",
    "# Should print the multiplication table shown above"
   ]
  },
  {
   "cell_type": "markdown",
   "id": "3e3c1474",
   "metadata": {},
   "source": [
    "Question 5\n",
    "The counter function counts down from start to stop when start is bigger than stop, and counts up from start to stop otherwise. Fill in the blanks to make this work correctly.\n",
    "```python:\n",
    "def counter(start, stop):\n",
    "\tx = start\n",
    "\tif ___:\n",
    "\t\treturn_string = \"Counting down: \"\n",
    "\t\twhile x >= stop:\n",
    "\t\t\treturn_string += str(x)\n",
    "\t\t\tif ___:\n",
    "\t\t\t\treturn_string += \",\"\n",
    "\t\t\t___\n",
    "\telse:\n",
    "\t\treturn_string = \"Counting up: \"\n",
    "\t\twhile x <= stop:\n",
    "\t\t\treturn_string += str(x)\n",
    "\t\t\tif ___:\n",
    "\t\t\t\treturn_string += \",\"\n",
    "\t\t\t___\n",
    "\treturn return_string\n",
    "\n",
    "print(counter(1, 10)) # Should be \"Counting up: 1,2,3,4,5,6,7,8,9,10\"\n",
    "print(counter(2, 1)) # Should be \"Counting down: 2,1\"\n",
    "print(counter(5, 5)) # Should be \"Counting up: 5\"\n",
    "```"
   ]
  },
  {
   "cell_type": "code",
   "execution_count": null,
   "id": "64532d38",
   "metadata": {},
   "outputs": [],
   "source": [
    "def counter(start, stop):\n",
    "\tx = start\n",
    "\tif x > stop:\n",
    "\t\treturn_string = \"Counting down: \"\n",
    "\t\twhile x >= stop:\n",
    "\t\t\treturn_string += str(x)\n",
    "\t\t\tif x > stop:\n",
    "\t\t\t\treturn_string += \",\"\n",
    "\t\t\tx = x-1\n",
    "\telse:\n",
    "\t\treturn_string = \"Counting up: \"\n",
    "\t\twhile x <= stop:\n",
    "\t\t\treturn_string += str(x)\n",
    "\t\t\tif x < stop:\n",
    "\t\t\t\treturn_string += \",\"\n",
    "\t\t\tx += 1\n",
    "\treturn return_string\n",
    "\n",
    "print(counter(1, 10)) # Should be \"Counting up: 1,2,3,4,5,6,7,8,9,10\"\n",
    "print(counter(2, 1)) # Should be \"Counting down: 2,1\"\n",
    "print(counter(5, 5)) # Should be \"Counting up: 5\""
   ]
  },
  {
   "cell_type": "markdown",
   "id": "b4ae5684",
   "metadata": {},
   "source": [
    "Question 6\n",
    "The even_numbers function returns a space-separated string of all positive numbers that are divisible by 2, up to and including the maximum that's passed into the function. For example, even_numbers(6) returns “2 4 6”. Fill in the blank to make this work.\n",
    "```python:\n",
    "def even_numbers(maximum):\n",
    "\treturn_string = \"\"\n",
    "\tfor x in ___:\n",
    "\t\treturn_string += str(x) + \" \"\n",
    "\treturn return_string.strip()\n",
    "\n",
    "print(even_numbers(6))  # Should be 2 4 6\n",
    "print(even_numbers(10)) # Should be 2 4 6 8 10\n",
    "print(even_numbers(1))  # No numbers displayed\n",
    "print(even_numbers(3))  # Should be 2\n",
    "print(even_numbers(0))  # No numbers displayed\n",
    "```"
   ]
  },
  {
   "cell_type": "code",
   "execution_count": null,
   "id": "de83ab75",
   "metadata": {},
   "outputs": [],
   "source": [
    "def even_numbers(maximum):\n",
    "\treturn_string = \"\"\n",
    "\tfor x in range(2, maximum +1, 2):\n",
    "\t\treturn_string += str(x) + \" \"\n",
    "\treturn return_string.strip()\n",
    "\n",
    "print(even_numbers(6))  # Should be 2 4 6\n",
    "print(even_numbers(10)) # Should be 2 4 6 8 10\n",
    "print(even_numbers(1))  # No numbers displayed\n",
    "print(even_numbers(3))  # Should be 2\n",
    "print(even_numbers(0))  # No numbers displayed"
   ]
  },
  {
   "cell_type": "markdown",
   "id": "f475bbd1",
   "metadata": {},
   "source": [
    "Question 7\n",
    "The following code raises an error when executed. What's the reason for the error?\n",
    "```python:\n",
    "def decade_counter():\n",
    "\twhile year < 50:\n",
    "\t\tyear += 10\n",
    "\treturn year\n",
    "```\n",
    "* Incrementing by 10 instead of 1\n",
    "\n",
    "* **Failure to initialize variables**\n",
    "\n",
    "* Nothing is happening inside the while loop\n",
    "\n",
    "* Wrong comparison operator\n"
   ]
  },
  {
   "cell_type": "code",
   "execution_count": 12,
   "id": "d34ea5a3",
   "metadata": {},
   "outputs": [],
   "source": [
    "def decade_counter():\n",
    "\twhile year < 50:\n",
    "\t\tyear += 10\n",
    "\treturn year"
   ]
  },
  {
   "cell_type": "markdown",
   "id": "5ca8c8cb",
   "metadata": {},
   "source": [
    "Question 8\n",
    "What is the value of x at the end of the following code?\n",
    "```python:\n",
    "for x in range(1, 10, 3):\n",
    "    print(x)\n",
    "```"
   ]
  },
  {
   "cell_type": "code",
   "execution_count": 13,
   "id": "d005377a",
   "metadata": {},
   "outputs": [
    {
     "name": "stdout",
     "output_type": "stream",
     "text": [
      "1\n",
      "4\n",
      "7\n"
     ]
    }
   ],
   "source": [
    "for x in range(1, 10, 3):\n",
    "    print(x)"
   ]
  },
  {
   "cell_type": "markdown",
   "id": "615874ba",
   "metadata": {},
   "source": [
    "Question 9\n",
    "What is the value of y at the end of the following code?\n",
    "```python:\n",
    "for x in range(10):\n",
    "    for y in range(x):\n",
    "        print(y)\n",
    "```"
   ]
  },
  {
   "cell_type": "code",
   "execution_count": 14,
   "id": "dbf70e55",
   "metadata": {},
   "outputs": [
    {
     "name": "stdout",
     "output_type": "stream",
     "text": [
      "0\n",
      "0\n",
      "1\n",
      "0\n",
      "1\n",
      "2\n",
      "0\n",
      "1\n",
      "2\n",
      "3\n",
      "0\n",
      "1\n",
      "2\n",
      "3\n",
      "4\n",
      "0\n",
      "1\n",
      "2\n",
      "3\n",
      "4\n",
      "5\n",
      "0\n",
      "1\n",
      "2\n",
      "3\n",
      "4\n",
      "5\n",
      "6\n",
      "0\n",
      "1\n",
      "2\n",
      "3\n",
      "4\n",
      "5\n",
      "6\n",
      "7\n",
      "0\n",
      "1\n",
      "2\n",
      "3\n",
      "4\n",
      "5\n",
      "6\n",
      "7\n",
      "8\n"
     ]
    }
   ],
   "source": [
    "for x in range(10):\n",
    "    for y in range(x):\n",
    "        print(y)"
   ]
  },
  {
   "cell_type": "markdown",
   "id": "7ff925b7",
   "metadata": {},
   "source": [
    "Question 10\n",
    "How does this function need to be called to print yes, no, and maybe as possible options to vote for?\n",
    "```python:\n",
    "def votes(params):\n",
    "\tfor vote in params:\n",
    "\t    print(\"Possible option:\" + vote)\n",
    "\n",
    "```\n",
    "* votes(\"yes\", \"no\", \"maybe\")\n",
    "\n",
    "* votes(yes, no, maybe)\n",
    "\n",
    "* votes([yes, no, maybe])\n",
    "\n",
    "* votes(['yes', 'no', 'maybe'])"
   ]
  },
  {
   "cell_type": "code",
   "execution_count": 19,
   "id": "91d7a7b9",
   "metadata": {},
   "outputs": [
    {
     "name": "stdout",
     "output_type": "stream",
     "text": [
      "Possible option:yes\n",
      "Possible option:no\n",
      "Possible option:maybe\n"
     ]
    }
   ],
   "source": [
    "def votes(params):\n",
    "\tfor vote in params:\n",
    "\t    print(\"Possible option:\" + vote)\n",
    "\n",
    "votes([\"yes\", \"no\", \"maybe\"])"
   ]
  },
  {
   "cell_type": "markdown",
   "id": "85a54b4d",
   "metadata": {},
   "source": [
    "# Module 4 Graded Assessment"
   ]
  },
  {
   "cell_type": "markdown",
   "id": "83f4faee",
   "metadata": {},
   "source": [
    "Question 1\n",
    "\n",
    "The format_address function separates out parts of the address string into new strings: house_number and street_name, and returns: \"house number X on street named Y\". The format of the input string is: numeric house number, followed by the street name which may contain numbers, but never by themselves, and could be several words long. For example, \"123 Main Street\", \"1001 1st Ave\", or \"55 North Center Drive\". Fill in the gaps to complete this function.\n",
    "```python:\n",
    "def format_address(address_string):\n",
    "  # Declare variables\n",
    "\n",
    "  # Separate the address string into parts\n",
    "\n",
    "  # Traverse through the address parts\n",
    "  for __:\n",
    "    # Determine if the address part is the\n",
    "    # house number or part of the street name\n",
    "\n",
    "  # Does anything else need to be done \n",
    "  # before returning the result?\n",
    "  \n",
    "  # Return the formatted string  \n",
    "  return \"house number {} on street named {}\".format(__)\n",
    "\n",
    "print(format_address(\"123 Main Street\"))\n",
    "# Should print: \"house number 123 on street named Main Street\"\n",
    "\n",
    "print(format_address(\"1001 1st Ave\"))\n",
    "# Should print: \"house number 1001 on street named 1st Ave\"\n",
    "\n",
    "print(format_address(\"55 North Center Drive\"))\n",
    "# Should print \"house number 55 on street named North Center Drive\"\n",
    "\n",
    "```"
   ]
  },
  {
   "cell_type": "code",
   "execution_count": 21,
   "id": "3b3bdd24",
   "metadata": {},
   "outputs": [
    {
     "name": "stdout",
     "output_type": "stream",
     "text": [
      "house number 123 on street named Main Street\n",
      "house number 1001 on street named 1st Ave\n",
      "house number 55 on street named North Center Drive\n"
     ]
    }
   ],
   "source": [
    "def format_address(address_string):\n",
    "  # Declare variables\n",
    "  house_number = 0\n",
    "  street_name = []\n",
    "  # Separate the address string into parts\n",
    "  address_split = address_string.split()\n",
    "  # Traverse through the address parts\n",
    "  for part in address_split:\n",
    "    # Determine if the address part is the\n",
    "    # house number or part of the street name\n",
    "    if part.isnumeric():\n",
    "      house_number = part\n",
    "    else:\n",
    "      street_name.append(part)\n",
    "  # Does anything else need to be done \n",
    "  # before returning the result?\n",
    "  \n",
    "  # Return the formatted string  \n",
    "  return \"house number {} on street named {}\".format(house_number, \" \".join(street_name))\n",
    "\n",
    "print(format_address(\"123 Main Street\"))\n",
    "# Should print: \"house number 123 on street named Main Street\"\n",
    "\n",
    "print(format_address(\"1001 1st Ave\"))\n",
    "# Should print: \"house number 1001 on street named 1st Ave\"\n",
    "\n",
    "print(format_address(\"55 North Center Drive\"))\n",
    "# Should print \"house number 55 on street named North Center Drive\"\n"
   ]
  },
  {
   "cell_type": "markdown",
   "id": "a9e3c6be",
   "metadata": {},
   "source": [
    "Question 2\n",
    "The highlight_word function changes the given word in a sentence to its upper-case version. For example, highlight_word(\"Have a nice day\", \"nice\") returns \"Have a NICE day\". Can you write this function in just one line?\n",
    "```python:\n",
    "def highlight_word(sentence, word):\n",
    "\treturn(___)\n",
    "\n",
    "print(highlight_word(\"Have a nice day\", \"nice\"))\n",
    "print(highlight_word(\"Shhh, don't be so loud!\", \"loud\"))\n",
    "print(highlight_word(\"Automating with Python is fun\", \"fun\"))\n",
    "\n",
    "```"
   ]
  },
  {
   "cell_type": "code",
   "execution_count": 23,
   "id": "2b524b9b",
   "metadata": {},
   "outputs": [
    {
     "name": "stdout",
     "output_type": "stream",
     "text": [
      "Have a NICE day\n",
      "Shhh, don't be so LOUD!\n",
      "Automating with Python is FUN\n"
     ]
    }
   ],
   "source": [
    "def highlight_word(sentence, word):\n",
    "\treturn(sentence.replace(word, word.upper()))\n",
    "\n",
    "print(highlight_word(\"Have a nice day\", \"nice\"))\n",
    "print(highlight_word(\"Shhh, don't be so loud!\", \"loud\"))\n",
    "print(highlight_word(\"Automating with Python is fun\", \"fun\"))\n"
   ]
  },
  {
   "cell_type": "markdown",
   "id": "229d8d36",
   "metadata": {},
   "source": [
    "Question 3\n",
    "A professor with two assistants, Jamie and Drew, wants an attendance list of the students, in the order that they arrived in the classroom. Drew was the first one to note which students arrived, and then Jamie took over. After the class, they each entered their lists into the computer and emailed them to the professor, who needs to combine them into one, in the order of each student's arrival. Jamie emailed a follow-up, saying that her list is in reverse order. Complete the steps to combine them into one list as follows: the contents of Drew's list, followed by Jamie's list in reverse order, to get an accurate list of the students as they arrived.\n",
    "```python:\n",
    "def combine_lists(list1, list2):\n",
    "  # Generate a new list containing the elements of list2\n",
    "  # Followed by the elements of list1 in reverse order\n",
    "  \n",
    "\t\n",
    "Jamies_list = [\"Alice\", \"Cindy\", \"Bobby\", \"Jan\", \"Peter\"]\n",
    "Drews_list = [\"Mike\", \"Carol\", \"Greg\", \"Marcia\"]\n",
    "\n",
    "print(combine_lists(Jamies_list, Drews_list))\n",
    "\n",
    "```"
   ]
  },
  {
   "cell_type": "code",
   "execution_count": 3,
   "id": "f9b36529",
   "metadata": {},
   "outputs": [
    {
     "name": "stdout",
     "output_type": "stream",
     "text": [
      "['Mike', 'Carol', 'Greg', 'Marcia', 'Peter', 'Jan', 'Bobby', 'Cindy', 'Alice']\n"
     ]
    }
   ],
   "source": [
    "def combine_lists(list1, list2):\n",
    "  # Generate a new list containing the elements of list2\n",
    "  # Followed by the elements of list1 in reverse order\n",
    "    return list2 + list1[::-1]\n",
    "\n",
    "\t\n",
    "Jamies_list = [\"Alice\", \"Cindy\", \"Bobby\", \"Jan\", \"Peter\"]\n",
    "Drews_list = [\"Mike\", \"Carol\", \"Greg\", \"Marcia\"]\n",
    "\n",
    "print(combine_lists(Jamies_list, Drews_list))\n"
   ]
  },
  {
   "cell_type": "markdown",
   "id": "34e18e25",
   "metadata": {},
   "source": [
    "Question 4\n",
    "Use a list comprehension to create a list of squared numbers (n*n). The function receives the variables start and end, and returns a list of squares of consecutive numbers between start and end inclusively.\n",
    "For example, squares(2, 3) should return [4, 9].\n",
    "```python:\n",
    "def squares(start, end):\n",
    "\treturn [ ___ ]\n",
    "\n",
    "print(squares(2, 3)) # Should be [4, 9]\n",
    "print(squares(1, 5)) # Should be [1, 4, 9, 16, 25]\n",
    "print(squares(0, 10)) # Should be [0, 1, 4, 9, 16, 25, 36, 49, 64, 81, 100]\n",
    "```"
   ]
  },
  {
   "cell_type": "code",
   "execution_count": null,
   "id": "8c7b40a3",
   "metadata": {},
   "outputs": [],
   "source": [
    "def squares(start, end):\n",
    "\treturn [ n**2  for n in range(start, end+1) ]\n",
    "\n",
    "print(squares(2, 3)) # Should be [4, 9]\n",
    "print(squares(1, 5)) # Should be [1, 4, 9, 16, 25]\n",
    "print(squares(0, 10)) # Should be [0, 1, 4, 9, 16, 25, 36, 49, 64, 81, 100]"
   ]
  },
  {
   "cell_type": "markdown",
   "id": "c1451190",
   "metadata": {},
   "source": [
    "Question 5\n",
    "Complete the code to iterate through the keys and values of the car_prices dictionary, printing out some information about each one.\n",
    "```python:\n",
    "def car_listing(car_prices):\n",
    "  result = \"\"\n",
    "  for __:\n",
    "    result += \"{} costs {} dollars\".__ + \"\\n\"\n",
    "  return result\n",
    "\n",
    "print(car_listing({\"Kia Soul\":19000, \"Lamborghini Diablo\":55000, \"Ford Fiesta\":13000, \"Toyota Prius\":24000}))\n",
    "```"
   ]
  },
  {
   "cell_type": "code",
   "execution_count": null,
   "id": "570d08c0",
   "metadata": {},
   "outputs": [],
   "source": [
    "def car_listing(car_prices):\n",
    "  result = \"\"\n",
    "  for car, price in car_prices.items():\n",
    "    result += \"{} costs {} dollars\".format(car, price) + \"\\n\"\n",
    "  return result\n",
    "\n",
    "print(car_listing({\"Kia Soul\":19000, \"Lamborghini Diablo\":55000, \"Ford Fiesta\":13000, \"Toyota Prius\":24000}))"
   ]
  },
  {
   "cell_type": "markdown",
   "id": "d9e6e468",
   "metadata": {},
   "source": [
    "Question 6\n",
    "Taylor and Rory are hosting a party. They sent out invitations, and each one collected responses into dictionaries, with names of their friends and how many guests each friend is bringing. Each dictionary is a partial list, but Rory's list has more current information about the number of guests. Fill in the blanks to combine both dictionaries into one, with each friend listed only once, and the number of guests from Rory's dictionary taking precedence, if a name is included in both dictionaries. Then print the resulting dictionary.\n",
    "```python:\n",
    "def combine_guests(guests1, guests2):\n",
    "  # Combine both dictionaries into one, with each key listed \n",
    "  # only once, and the value from guests1 taking precedence\n",
    "\n",
    "Rorys_guests = { \"Adam\":2, \"Brenda\":3, \"David\":1, \"Jose\":3, \"Charlotte\":2, \"Terry\":1, \"Robert\":4}\n",
    "Taylors_guests = { \"David\":4, \"Nancy\":1, \"Robert\":2, \"Adam\":1, \"Samantha\":3, \"Chris\":5}\n",
    "\n",
    "print(combine_guests(Rorys_guests, Taylors_guests))\n",
    "\n",
    "```"
   ]
  },
  {
   "cell_type": "code",
   "execution_count": null,
   "id": "62751bfd",
   "metadata": {},
   "outputs": [],
   "source": [
    "def combine_guests(guests1, guests2):\n",
    "  # Combine both dictionaries into one, with each key listed \n",
    "  guests2.update(guests1)\n",
    "  return guests2\n",
    "  # only once, and the value from guests1 taking precedence\n",
    "\n",
    "Rorys_guests = { \"Adam\":2, \"Brenda\":3, \"David\":1, \"Jose\":3, \"Charlotte\":2, \"Terry\":1, \"Robert\":4}\n",
    "Taylors_guests = { \"David\":4, \"Nancy\":1, \"Robert\":2, \"Adam\":1, \"Samantha\":3, \"Chris\":5}\n",
    "\n",
    "print(combine_guests(Rorys_guests, Taylors_guests))\n"
   ]
  },
  {
   "cell_type": "markdown",
   "id": "0cf091f6",
   "metadata": {},
   "source": [
    "Question 7\n",
    "Use a dictionary to count the frequency of letters in the input string. Only letters should be counted, not blank spaces, numbers, or punctuation. Upper case should be considered the same as lower case. For example, count_letters(\"This is a sentence.\") should return {'t': 2, 'h': 1, 'i': 2, 's': 3, 'a': 1, 'e': 3, 'n': 2, 'c': 1}.\n",
    "```python:\n",
    "def count_letters(text):\n",
    "  result = {}\n",
    "  # Go through each letter in the text\n",
    "  for letter in ___:\n",
    "    # Check if the letter needs to be counted or not\n",
    "    ___\n",
    "    # Add or increment the value in the dictionary\n",
    "    ___\n",
    "  return result\n",
    "\n",
    "print(count_letters(\"AaBbCc\"))\n",
    "# Should be {'a': 2, 'b': 2, 'c': 2}\n",
    "\n",
    "print(count_letters(\"Math is fun! 2+2=4\"))\n",
    "# Should be {'m': 1, 'a': 1, 't': 1, 'h': 1, 'i': 1, 's': 1, 'f': 1, 'u': 1, 'n': 1}\n",
    "\n",
    "print(count_letters(\"This is a sentence.\"))\n",
    "# Should be {'t': 2, 'h': 1, 'i': 2, 's': 3, 'a': 1, 'e': 3, 'n': 2, 'c': 1}\n",
    "```"
   ]
  },
  {
   "cell_type": "code",
   "execution_count": 2,
   "id": "0fa3c6f1",
   "metadata": {},
   "outputs": [
    {
     "name": "stdout",
     "output_type": "stream",
     "text": [
      "{'a': 2, 'b': 2, 'c': 2}\n",
      "{'m': 1, 'a': 1, 't': 1, 'h': 1, 'i': 1, 's': 1, 'f': 1, 'u': 1, 'n': 1}\n",
      "{'t': 2, 'h': 1, 'i': 2, 's': 3, 'a': 1, 'e': 3, 'n': 2, 'c': 1}\n"
     ]
    }
   ],
   "source": [
    "def count_letters(text):\n",
    "  result = {}\n",
    "  text= text.lower()\n",
    "  # Go through each letter in the text\n",
    "  for letter in text:\n",
    "    # Check if the letter needs to be counted or not\n",
    "    if letter.isalpha():\n",
    "      count = text.count(letter)\n",
    "      result[letter] = count\n",
    "    # Add or increment the value in the dictionary\n",
    "  return result\n",
    "\n",
    "print(count_letters(\"AaBbCc\"))\n",
    "# Should be {'a': 2, 'b': 2, 'c': 2}\n",
    "\n",
    "print(count_letters(\"Math is fun! 2+2=4\"))\n",
    "# Should be {'m': 1, 'a': 1, 't': 1, 'h': 1, 'i': 1, 's': 1, 'f': 1, 'u': 1, 'n': 1}\n",
    "\n",
    "print(count_letters(\"This is a sentence.\"))\n",
    "# Should be {'t': 2, 'h': 1, 'i': 2, 's': 3, 'a': 1, 'e': 3, 'n': 2, 'c': 1}"
   ]
  },
  {
   "cell_type": "markdown",
   "id": "e73a7cf4",
   "metadata": {},
   "source": [
    "Question 8\n",
    "What do the following commands return when animal = \"Hippopotamus\"?\n",
    "```python:\n",
    ">>> print(animal[3:6])\n",
    ">>> print(animal[-5])\n",
    ">>> print(animal[10:])\n",
    "```\n",
    "* ppo, t, mus\n",
    "\n",
    "*  ppop, o, s\n",
    "\n",
    "* pop, t, us\n",
    "\n",
    "* popo, t, mus"
   ]
  },
  {
   "cell_type": "code",
   "execution_count": 22,
   "id": "3eb3d600",
   "metadata": {},
   "outputs": [
    {
     "name": "stdout",
     "output_type": "stream",
     "text": [
      "pop\n",
      "t\n",
      "us\n"
     ]
    }
   ],
   "source": [
    "animal = \"Hippopotamus\"\n",
    "print(animal[3:6])\n",
    "print(animal[-5])\n",
    "print(animal[10:])\n"
   ]
  },
  {
   "cell_type": "markdown",
   "id": "23575e62",
   "metadata": {},
   "source": [
    "Question 9\n",
    "What does the list \"colors\" contain after these commands are executed?\n",
    "```python:\n",
    "colors = [\"red\", \"white\", \"blue\"]\n",
    "colors.insert(2, \"yellow\")\n",
    "\n",
    "```\n",
    "* **['red', 'white', 'yellow', 'blue']**\n",
    "\n",
    "\n",
    "* ['red', 'yellow', 'white', 'blue']\n",
    "\n",
    "\n",
    "* ['red', 'yellow', 'blue']\n",
    "\n",
    "\n",
    "* ['red', 'white', 'yellow']\n"
   ]
  },
  {
   "cell_type": "code",
   "execution_count": 25,
   "id": "e7594085",
   "metadata": {},
   "outputs": [
    {
     "name": "stdout",
     "output_type": "stream",
     "text": [
      "['red', 'white', 'yellow', 'blue']\n"
     ]
    }
   ],
   "source": [
    "colors = [\"red\", \"white\", \"blue\"]\n",
    "colors.insert(2, \"yellow\")\n",
    "print(colors)"
   ]
  },
  {
   "cell_type": "markdown",
   "id": "d7f15007",
   "metadata": {},
   "source": [
    "Question 10\n",
    "What do the following commands return?\n",
    "```python:\n",
    "host_addresses = {\"router\": \"192.168.1.1\", \"localhost\": \"127.0.0.1\", \"google\": \"8.8.8.8\"}\n",
    "host_addresses.keys()\n",
    "```\n",
    "* {\"router\": \"192.168.1.1\", \"localhost\": \"127.0.0.1\", \"google\": \"8.8.8.8\"}\n",
    "\n",
    "\n",
    "* [\"router\", \"192.168.1.1\", \"localhost\", \"127.0.0.1\", \"google\", \"8.8.8.8\"]\n",
    "\n",
    "\n",
    "* ['192.168.1.1', '127.0.0.1', '8.8.8.8']\n",
    "\n",
    "\n",
    "* **['router', 'localhost', 'google']**"
   ]
  },
  {
   "cell_type": "code",
   "execution_count": null,
   "id": "56687c8c",
   "metadata": {},
   "outputs": [],
   "source": [
    "host_addresses = {\"router\": \"192.168.1.1\", \"localhost\": \"127.0.0.1\", \"google\": \"8.8.8.8\"}\n",
    "host_addresses.keys()"
   ]
  },
  {
   "cell_type": "markdown",
   "id": "1ae0bd08",
   "metadata": {},
   "source": [
    "\n",
    "```python:\n",
    "\n",
    "```"
   ]
  },
  {
   "cell_type": "code",
   "execution_count": null,
   "id": "28357d6f",
   "metadata": {},
   "outputs": [],
   "source": []
  },
  {
   "cell_type": "markdown",
   "id": "d920da3c",
   "metadata": {},
   "source": [
    "\n",
    "```python:\n",
    "\n",
    "```"
   ]
  },
  {
   "cell_type": "code",
   "execution_count": null,
   "id": "ba293011",
   "metadata": {},
   "outputs": [],
   "source": []
  },
  {
   "cell_type": "markdown",
   "id": "3cd5b24d",
   "metadata": {},
   "source": [
    "\n",
    "```python:\n",
    "\n",
    "```"
   ]
  },
  {
   "cell_type": "code",
   "execution_count": null,
   "id": "7ac4187b",
   "metadata": {},
   "outputs": [],
   "source": []
  }
 ],
 "metadata": {
  "kernelspec": {
   "display_name": "Python 3 (ipykernel)",
   "language": "python",
   "name": "python3"
  },
  "language_info": {
   "codemirror_mode": {
    "name": "ipython",
    "version": 3
   },
   "file_extension": ".py",
   "mimetype": "text/x-python",
   "name": "python",
   "nbconvert_exporter": "python",
   "pygments_lexer": "ipython3",
   "version": "3.9.7"
  }
 },
 "nbformat": 4,
 "nbformat_minor": 5
}
